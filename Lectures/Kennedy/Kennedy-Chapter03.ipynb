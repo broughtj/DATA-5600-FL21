{
 "cells": [
  {
   "cell_type": "markdown",
   "id": "7c190d98",
   "metadata": {},
   "source": [
    "# DATA 5600: Introduction to Regression and Machine Learning for Analytics\n",
    "\n",
    "## __Kennedy Chapter 03: The Classical Linear Regression Model__\n",
    "\n",
    "<br>\n",
    "\n",
    "Author:  Tyler J. Brough <br>\n",
    "Updated: November 17, 2021 <br>\n",
    "\n",
    "---\n",
    "\n",
    "<br>"
   ]
  },
  {
   "cell_type": "code",
   "execution_count": 1,
   "id": "cc208a97",
   "metadata": {},
   "outputs": [],
   "source": [
    "import numpy as np\n",
    "import pandas as pd\n",
    "from scipy import stats\n",
    "import matplotlib.pyplot as plt\n",
    "import statsmodels.api as sm\n",
    "\n",
    "plt.rcParams['figure.figsize'] = [10, 8]"
   ]
  },
  {
   "cell_type": "markdown",
   "id": "dcacb7f3",
   "metadata": {},
   "source": [
    "---"
   ]
  },
  {
   "cell_type": "markdown",
   "id": "a08fa968",
   "metadata": {},
   "source": [
    "## __Section 3.1: Textbooks as Catalogs__"
   ]
  },
  {
   "cell_type": "markdown",
   "id": "c4273d5f",
   "metadata": {},
   "source": [
    "## __Section 3.2: The Five Assumptions__\n",
    "\n",
    "<br>\n",
    "\n",
    "The CLR model consists of five basic assumptions about the way in which the data are generated.\n",
    "\n",
    "1. The LHS variable can be calculated as a linear function of a specific set of independent variables plus an error term. The unknown coefficients of this linear function form the vector $\\beta$ and are assumed to be constants\n",
    "    - (a) _Wrong regressors_ - the omission of relevant independent variables or the inclusion of irrelevant independent variables\n",
    "    - (b) _Nonlinearity_ - when the relationship between the LHS and RHS variables is not linear\n",
    "    - (c) _Changing parameters_ - when the parametes ($\\beta$) do not remain constant during the period in which the data were collected\n",
    "2. The expected value of the error term is zero; the mean of the distribution from which the error term is drawn is zero\n",
    "    - the _biased intercept_ problem    \n",
    "3. The error terms all have the same variance and are not correlated with one another\n",
    "    - (a) _Heteroskedasticity_ - when the disturbances do not all have the same variance\n",
    "    - (b) _Autocorrelated errors_ - when the disturbances are correlated with one another\n",
    "4. The observations on the RHS variables can be considered fixed in repeated samples; that is, it is possible to redraw the sample with the same independent variable values\n",
    "    - (a) _Errors in variables_ - errors in measuring the independent variables\n",
    "    - (b) _Autoregression_ - using a lagged value of the dependent variable as an independent variable \n",
    "    - (c) _Simultaneous equation estimation_ - situations in which the RHS variables are determined by the simultaneous interaction of several relationships\n",
    "5. The number of observations in the sample is greater than the number of RHS variables and that there are no exact linear relationships between RHS variables\n",
    "    - (a) _Multicolinearity_ - two or more RHS variables are approximately linearly related\n",
    "    \n",
    "<br>"
   ]
  },
  {
   "cell_type": "markdown",
   "id": "b507b6de",
   "metadata": {},
   "source": [
    "### __The Classical Normal Linear Regression Model__\n",
    "\n",
    "<br>\n",
    "\n",
    "We can add a 6th assumption: \n",
    "\n",
    "6. The error term is normally distributed with mean zero and variance $\\sigma^{2}$\n",
    "\n",
    "<br>"
   ]
  },
  {
   "cell_type": "code",
   "execution_count": null,
   "id": "a20dc942",
   "metadata": {},
   "outputs": [],
   "source": []
  }
 ],
 "metadata": {
  "kernelspec": {
   "display_name": "Python 3",
   "language": "python",
   "name": "python3"
  },
  "language_info": {
   "codemirror_mode": {
    "name": "ipython",
    "version": 3
   },
   "file_extension": ".py",
   "mimetype": "text/x-python",
   "name": "python",
   "nbconvert_exporter": "python",
   "pygments_lexer": "ipython3",
   "version": "3.8.11"
  }
 },
 "nbformat": 4,
 "nbformat_minor": 5
}
