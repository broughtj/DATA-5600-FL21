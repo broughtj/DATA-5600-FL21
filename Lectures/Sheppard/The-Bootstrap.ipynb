{
 "cells": [
  {
   "cell_type": "markdown",
   "id": "0a12fea2",
   "metadata": {},
   "source": [
    "# DATA 5600: Introduction to Regression and Machine Learning for Analytics\n",
    "\n",
    "## __The Bootstrap for Regression__\n",
    "\n",
    "<br>\n",
    "\n",
    "Author:  Tyler J. Brough <br>\n",
    "Updated: November 22, 2021 <br>\n",
    "\n",
    "---\n",
    "\n",
    "<br>"
   ]
  },
  {
   "cell_type": "code",
   "execution_count": 1,
   "id": "905b328f",
   "metadata": {},
   "outputs": [],
   "source": [
    "import numpy as np\n",
    "import pandas as pd\n",
    "from scipy import stats\n",
    "import matplotlib.pyplot as plt\n",
    "import statsmodels.api as sm\n",
    "\n",
    "plt.rcParams['figure.figsize'] = [10, 8]"
   ]
  },
  {
   "cell_type": "markdown",
   "id": "d6c71d11",
   "metadata": {},
   "source": [
    "## __Introduction__\n",
    "\n",
    "<br>\n",
    "\n",
    "These notes are based upon the teaching note from Kevin Sheppard of Oxford University from his MFE class. The file is in this directory in the course repository. \n",
    "\n",
    "<br>"
   ]
  },
  {
   "cell_type": "markdown",
   "id": "4bc11dfd",
   "metadata": {},
   "source": [
    "### __The Bootstrap__\n",
    "\n",
    "<br>\n",
    "\n",
    "---\n",
    "\n",
    "__Definition:__ The bootstrap is a statistical procedure where data is resampled, and the resampled data is used to estimate quantities of interest. \n",
    "\n",
    "---\n",
    "\n",
    "<br>\n",
    "\n",
    "Bootstraps come in many forms: \n",
    "\n",
    "* Structure:\n",
    "    - Parametric\n",
    "    - Nonparametric\n",
    "    \n",
    "* Dependendence type:\n",
    "    - IID\n",
    "    - Wild\n",
    "    - Block and others for dependent data (esp. the stationary bootstrap)\n",
    "    \n",
    "All share common structure of using simulated random numbers in combination with original data to compute quantities of interest \n",
    "\n",
    "Applications:\n",
    "    \n",
    "* Confidence intervals\n",
    "* Hypothesis testing\n",
    "* Bias estimation\n",
    "    \n",
    "<br>"
   ]
  },
  {
   "cell_type": "markdown",
   "id": "db4caeeb",
   "metadata": {},
   "source": [
    "### __Basic Problem__\n",
    "\n",
    "<br>\n",
    "\n",
    "* Compute standard deviation for an estimator (i.e. sample mean, OLS $\\beta$)\n",
    "\n",
    "* For example, in case of of mean $\\bar{x}$ for i.i.d. data, we know\n",
    "\n",
    "<br>\n",
    "\n",
    "$$\n",
    "\\large{s^{2} = \\frac{1}{n-1} \\sum\\limits_{i=1}^{n} (x_{i} - \\bar{x})^{2}}\n",
    "$$\n",
    "\n",
    "<br>\n",
    "\n",
    "* The standard error of the mean is then\n",
    "\n",
    "<br>\n",
    "\n",
    "$$\n",
    "\\large{V[\\bar{x}] = \\frac{s^{2}}{n}}\n",
    "$$\n",
    "\n",
    "<br>\n",
    "\n",
    "* which can be used to form confidence intervals or conduct hypothesis tests (in conjunction with CLT or a bootstrapped sampling distribution)\n",
    "\n",
    "* How could you estimate the standard error for the median of $x_{1}, \\ldots, x_{n}$?\n",
    "\n",
    "* What about inference about a quantile, for example that 5th percentile of $x_{1}, \\ldots, x_{n}$?\n",
    "\n",
    "* The bootstrap is a computational method to construct standard error estimates of confidence interval for a wide range of estimators\n",
    "\n",
    "<br>"
   ]
  },
  {
   "cell_type": "markdown",
   "id": "93deae44",
   "metadata": {},
   "source": [
    "### __The IID Bootstrap__\n",
    "\n",
    "<br>\n",
    "\n",
    "* Assume $n$ i.i.d. random variables $x_{1}, \\ldots, x_{n}$\n",
    "\n",
    "* Estimator of a parameter of interest $\\hat{\\theta}}$\n",
    "    - E.g. the mean or OLS $\\beta$ slope coefficient\n",
    "    \n",
    "<br>\n",
    "\n",
    "---\n",
    "\n",
    "__Definition: Empirical Distribution Function (EDF)__\n",
    "\n",
    "The empirical distribution function assigns probability $1/n$ to each observation value. For a scalar random variable $x_{i}$, with $i = 1, \\ldots, n$, the EDF is defined as:\n",
    "\n",
    "<br>\n",
    "\n",
    "$$\n",
    "\\large{\\hat{F}(X) = \\frac{1}{n} \\sum\\limits_{i=1}^{n} I_{[x_{i} < X]}}\n",
    "$$\n",
    "\n",
    "---\n",
    "\n",
    "<br>\n",
    "\n",
    "* Also know as the empirical CDF\n",
    "\n",
    "<br>"
   ]
  },
  {
   "cell_type": "markdown",
   "id": "390d5ace",
   "metadata": {},
   "source": [
    "### __IID Bootstrap for the Mean__\n",
    "\n",
    "<br>\n",
    "\n",
    "---\n",
    "\n",
    "__Algorithm: IID Bootstrap__\n",
    "\n",
    "1. _Simulate a set of $n$ i.i.d. uniform random integers $u_{i}$, $i = 1, \\ldots, n$ from the range $1, \\ldots, n$ (with replacement)_\n",
    "\n",
    "2. _Construct a bootstrap sample $x_{b}^{\\ast} = \\{x_{u_{1}}, x_{u_{2}}, \\ldots, x_{u_{n}}\\}$_\n",
    "\n",
    "3. _Compute the mean_\n",
    "\n",
    "<br>\n",
    "\n",
    "$$\n",
    "\\large{\\hat{\\theta}_{b}^{\\ast} = \\frac{1}{n} \\sum\\limits_{i=1}^{n} x_{b,i}^{\\ast}}\n",
    "$$\n",
    "\n",
    "<br>\n",
    "\n",
    "4. _Repeat steps 1-3 $B$ times_ ($B$ is the number of bootstrap replications)_\n",
    "\n",
    "5. _Estimate the standard error of $\\hat{\\theta}$ using_\n",
    "\n",
    "<br>\n",
    "\n",
    "$$\n",
    "\\large{\\frac{1}{B}\\sum\\limits_{i=1}^{B} (\\theta_{b}^{\\ast} - \\hat{\\theta})^{2}}\n",
    "$$\n",
    "\n",
    "---\n",
    "\n",
    "<br>\n",
    "<br>"
   ]
  },
  {
   "cell_type": "markdown",
   "id": "58a5ab7e",
   "metadata": {},
   "source": [
    "#### __Python Demonstration__"
   ]
  },
  {
   "cell_type": "code",
   "execution_count": 2,
   "id": "0d49982c",
   "metadata": {},
   "outputs": [],
   "source": [
    "n = 100\n",
    "x = np.random.normal(size=n)\n",
    "mu = np.mean(x)\n",
    "B = 1_000\n",
    "mu_star = np.zeros(B)\n",
    "\n",
    "for b in range(B):\n",
    "    u = np.random.randint(low=1, high=n, size=n)\n",
    "    x_star = x[u]\n",
    "    mu_star[b] = np.mean(x_star)\n",
    "    \n",
    "s2 = np.var(x)\n",
    "std_err = s2/n\n",
    "btstrp_std_err = np.mean((mu_star - mu)**2)"
   ]
  },
  {
   "cell_type": "code",
   "execution_count": 3,
   "id": "9c64b251",
   "metadata": {},
   "outputs": [
    {
     "data": {
      "text/plain": [
       "(0.009875243543468512, 0.009415802949305717)"
      ]
     },
     "execution_count": 3,
     "metadata": {},
     "output_type": "execute_result"
    }
   ],
   "source": [
    "std_err, btstrp_std_err"
   ]
  },
  {
   "cell_type": "markdown",
   "id": "8445df8f",
   "metadata": {},
   "source": [
    "### __How Many Bootstrap Replications?__\n",
    "\n",
    "<br>\n",
    "\n",
    "* $B$ is used for the number of bootstrap replications\n",
    "\n",
    "* Bootstrap theory assumes $B \\rightarrow \\infty$ quickly\n",
    "\n",
    "* This ensures that the bootstrap distribution is identical to the case where all unique bootstraps were computed\n",
    "    - There are a lot of unique bootstraps\n",
    "    - $n^{n}$ in the i.i.d. case\n",
    "    \n",
    "\n",
    "* Using finite $B$ adds some extra variation since two bootstraps with the same data won't produce identical estimates\n",
    "\n",
    "* ___NB:___ Often useful to set the state of your random number generator so that results are reproducible\n",
    "\n",
    "```python\n",
    "np.random.seed(123456)\n",
    "```\n",
    "\n",
    "\n",
    "* Should choose $B$ large enough that the _Monte Carlo error_ is negligible\n",
    "\n",
    "* In practice little reason to use less than $10,000$ replications\n",
    "\n",
    "<br>"
   ]
  },
  {
   "cell_type": "markdown",
   "id": "7af44d7f",
   "metadata": {},
   "source": [
    "### __Bootstrap Estimation of Bias__\n",
    "\n",
    "<br>\n",
    "\n",
    "* Many statistics have a _finite sample bias_\n",
    "\n",
    "<br>"
   ]
  },
  {
   "cell_type": "markdown",
   "id": "8e9f39c5",
   "metadata": {},
   "source": [
    "### __Bootstrap Estimation of Standard Error__\n",
    "\n",
    "<br>\n",
    "\n",
    "---\n",
    "\n",
    "__Algorithm:__\n",
    "\n",
    "1. _Estimate the parameter of interest $\\hat{\\theta}$_\n",
    "\n",
    "2. _Generate a bootstrap sample $x_{b}$ and estimate the parameter on the bootstrap sample. Denote this sample estimate as $\\hat{\\theta}_{b}^{\\ast}$\n",
    "\n",
    "3. Repeat step 2 a total of $B$ times\n",
    "\n",
    "4. Estimate the standard error as\n",
    "\n",
    "<br>\n",
    "\n",
    "$$\n",
    "\\large{Std. Err = \\sqrt{B^{-1} \\sum\\limits_{b=1}^{B} (\\hat{\\theta}_{b}^{\\ast} - \\hat{\\theta})^{2}}}\n",
    "$$\n",
    "\n",
    "<br>\n",
    "\n",
    "---\n",
    "\n",
    "<br>\n",
    "\n",
    "* Other esimators are also common \n",
    "\n",
    "$$\n",
    "Std. Err = \\sqrt{(B - 1)^{-1} \\sum\\limits_{b=1}^{B} (\\hat{\\theta}_{b}^{\\ast} - \\bar{\\hat{\\theta}_{b}^{\\ast}})^{2}}\n",
    "$$\n",
    "\n",
    "<br>\n",
    "\n",
    "* $B$ should be sufficiently large that $B$ or $B - 1$ should not matter\n",
    "\n",
    "<br>"
   ]
  },
  {
   "cell_type": "markdown",
   "id": "c2e19e3a",
   "metadata": {},
   "source": [
    "### __Bootstrap Estimation of Confidence Intervals__\n",
    "\n",
    "<br>\n",
    "\n",
    "* Bootstraps can also be used to construct confidence intervals\n",
    "\n",
    "* Two main methods:\n",
    "    1. Estimate the standard error of the estimator and use a CLT\n",
    "    2. Estimate the confidence interval directly using the bootstrap estimators $\\{\\hat{\\theta}_{b}^{\\ast}\\}$\n",
    "    \n",
    "    \n",
    "* The first method is simple and has previously been explained\n",
    "\n",
    "* The second is also very simple, and is known as the _percentile method_\n",
    "\n",
    "<br>"
   ]
  },
  {
   "cell_type": "markdown",
   "id": "015bfe6b",
   "metadata": {},
   "source": [
    "### __Percentile Method__\n",
    "\n",
    "<br>\n",
    "\n",
    "---\n",
    "\n",
    "__Algorithm:__ _A confidence interval $[C_{\\alpha_{L}}, C_{\\alpha_{H}}]$ with coverage $\\alpha_{H} - \\alpha_{L}$ can be constructed:_ \n",
    "\n",
    "1. _Construct a bootstrap sample $x_{b}$_\n",
    "\n",
    "2. _Compute the bootstrap estimate $\\hat{\\theta}_{b}^{\\ast}$_\n",
    "\n",
    "3. _Repeat steps 1 - 2_\n",
    "\n",
    "4. _The confidence interval is constructed using the empirical $\\alpha_{L}$ quantile and the empirical $\\alpha_{H}$ quantile of $\\{\\hat{\\theta}_{b}^{\\ast}\\}$_\n",
    "\n",
    "---\n",
    "\n",
    "<br>\n",
    "\n",
    "* If the bootstrap estimates are ordered from smallest to largest, and $B\\alpha_{L}$ and $B\\alpha_{H}$ are integers, then the confidence interval is \n",
    "\n",
    "<br>\n",
    "\n",
    "$$\n",
    "\\Large{[\\hat{\\theta}_{B\\alpha_{L}}^{\\ast}, \\hat{\\theta}_{B\\alpha_{H}}^{\\ast}]}\n",
    "$$\n",
    "\n",
    "<br>\n",
    "\n",
    "* This method may not work well in all situations\n",
    "    - $n$ small\n",
    "    - Highly asymmetric distribution\n",
    "    \n",
    "<br>"
   ]
  },
  {
   "cell_type": "markdown",
   "id": "6f91bf59",
   "metadata": {},
   "source": [
    "#### __Python Demonstration__"
   ]
  },
  {
   "cell_type": "code",
   "execution_count": 4,
   "id": "3e1d049e",
   "metadata": {},
   "outputs": [
    {
     "data": {
      "text/plain": [
       "array([-0.14810618,  0.15230431])"
      ]
     },
     "execution_count": 4,
     "metadata": {},
     "output_type": "execute_result"
    }
   ],
   "source": [
    "n = 100\n",
    "x = np.random.normal(size=n)\n",
    "mu = np.mean(x)\n",
    "B = 10_000\n",
    "mu_star = np.zeros(B)\n",
    "\n",
    "for b in range(B):\n",
    "    u = np.random.randint(low=1, high=n, size=n)\n",
    "    x_star = x[u]\n",
    "    mu_star[b] = np.mean(x_star)\n",
    "    \n",
    "    \n",
    "alpha_l = 0.05\n",
    "alpha_h = 0.95\n",
    "mu_star = np.sort(mu_star, axis=None)\n",
    "CI = (mu_star[int(alpha_l*B)], mu_star[int(alpha_h*B)])\n",
    "CI - mu"
   ]
  },
  {
   "cell_type": "code",
   "execution_count": null,
   "id": "3b520249",
   "metadata": {},
   "outputs": [],
   "source": []
  },
  {
   "cell_type": "markdown",
   "id": "18d7ee18",
   "metadata": {},
   "source": [
    "### __Bootstrap for Regression__\n",
    "\n",
    "<br>\n",
    "\n",
    "* Bootstraps can be used in more complex scenarios\n",
    "\n",
    "* One simple extension is to regressions\n",
    "\n",
    "* Using a model, rather than estimating a simple statistic, allows for a richer set of bootstrap options\n",
    "    - Parametric\n",
    "    - Nonparametric\n",
    "    \n",
    "    \n",
    "* Basic idea, however, remains the same:\n",
    "    - Simulate random data from the same DGP\n",
    "    - Now requires data for both the regressor $y$ and the regressand $x$\n",
    "    \n",
    "<br>"
   ]
  },
  {
   "cell_type": "markdown",
   "id": "c0ad6eeb",
   "metadata": {},
   "source": [
    "#### __Parametric vs. Non-parametric Bootstrap__\n",
    "\n",
    "<br>\n",
    "\n",
    "* Parametric bootstraps are based on a model\n",
    "\n",
    "* The exploit the structure of the model to re-sample residuals rather than the actual data\n",
    "\n",
    "* Suppose \n",
    "\n",
    "<br>\n",
    "\n",
    "$$\n",
    "\\Large{y_{i} = X_{i}\\beta + \\epsilon_{i}}\n",
    "$$\n",
    "\n",
    "where $\\epsilon_{i}$ is homoskedastic\n",
    "\n",
    "<br>\n",
    "\n",
    "* The parametric bootstrap would estimate the model and the residuals as\n",
    "\n",
    "<br>\n",
    "\n",
    "$$\n",
    "\\Large{\\hat{\\epsilon_{i}} = y_{i} - X_{i} \\hat{\\beta}}\n",
    "$$\n",
    "\n",
    "<br>\n",
    "\n",
    "* The bootstrap would then construct the re-sampled \"data\" by sampling $\\hat{\\epsilon}$ separately from $X_{i}$\n",
    "    - In other words, use two separate sets of i.i.d. uniform indices\n",
    "    \n",
    "    \n",
    "* Construct $y_{b,i}^{\\ast} = x_{u_{1,i}}\\hat{\\beta} + \\hat{\\epsilon}_{u_{2,i}}$\n",
    "\n",
    "* Compute statistics using these values\n",
    "\n",
    "<br>"
   ]
  },
  {
   "cell_type": "markdown",
   "id": "b09d50f3",
   "metadata": {},
   "source": [
    "#### __Python Demonstration: Parametric Bootstrap__"
   ]
  },
  {
   "cell_type": "code",
   "execution_count": 11,
   "id": "53b17bd2",
   "metadata": {},
   "outputs": [],
   "source": [
    "n = 100\n",
    "x = np.random.normal(size=(n,2))\n",
    "e = np.random.normal(size=(n,1))\n",
    "beta = np.ones((2,1))\n",
    "y = np.dot(x,beta) + e\n",
    "\n",
    "results = sm.OLS(y,x).fit()\n",
    "beta_hat = results.params\n",
    "e_hat = results.resid\n",
    "\n",
    "B = 10_000\n",
    "beta_star = np.zeros(B)\n",
    "\n",
    "for b in range(B):\n",
    "    ux = np.random.randint(low=1, high=n, size=n)\n",
    "    ue = np.random.randint(low=1, high=n, size=n)\n",
    "    x_star = x[ux,:]\n",
    "    e_star = e_hat[ue]\n",
    "    y_star = np.dot(x_star, beta_hat) + e_star\n",
    "    results = sm.OLS(y_star, x_star).fit()\n",
    "    beta_star[b] = results.params[1]"
   ]
  },
  {
   "cell_type": "code",
   "execution_count": 12,
   "id": "de15cee2",
   "metadata": {},
   "outputs": [
    {
     "data": {
      "image/png": "[encoded data removed]",
      "text/plain": [
       "<Figure size 720x576 with 1 Axes>"
      ]
     },
     "metadata": {
      "needs_background": "light"
     },
     "output_type": "display_data"
    }
   ],
   "source": [
    "plt.hist(beta_star, bins=100);"
   ]
  },
  {
   "cell_type": "code",
   "execution_count": 13,
   "id": "6746a2e5",
   "metadata": {},
   "outputs": [
    {
     "data": {
      "text/plain": [
       "1.0452274981233551"
      ]
     },
     "execution_count": 13,
     "metadata": {},
     "output_type": "execute_result"
    }
   ],
   "source": [
    " np.mean(beta_hat)"
   ]
  },
  {
   "cell_type": "markdown",
   "id": "13844d19",
   "metadata": {},
   "source": [
    "<br>\n",
    "<br>\n",
    "\n",
    "### __Nonparametric Bootstrap for Regression__\n",
    "\n",
    "* Nonparametric bootstrap is simpler\n",
    "\n",
    "* It does not use the structure of the model to construct artificial data\n",
    "\n",
    "* The vector $[y_{i}, x_{i}]$ is instead directly resampled\n",
    "\n",
    "* The parameters are constructed from the pairs\n",
    "\n",
    "<br>\n",
    "\n",
    "---\n",
    "\n",
    "__Algorithm:__ \n",
    "\n",
    "1. _Simulate a set of $n$ i.i.d. uniform random integers $u_{i}$, $i = 1, \\ldots, n$ from the range $1, \\ldots, n$ (with replacement)_\n",
    "\n",
    "2. _Construct the bootstrap sample $z_{b} = \\{y_{u_{i}}, x_{u_{i}}\\}$_\n",
    "\n",
    "3. _Estimate the bootstrap $\\beta$ by fitting the model_\n",
    "\n",
    "<br>\n",
    "\n",
    "$$\n",
    "\\large{y_{u_{i}} = x_{u_{i}} \\hat{\\beta}_{b}^{\\ast} + \\epsilon_{b,i}^{\\ast}}\n",
    "$$\n",
    "\n",
    "--- \n",
    "\n",
    "<br>\n",
    "\n"
   ]
  },
  {
   "cell_type": "markdown",
   "id": "34048d59",
   "metadata": {},
   "source": [
    "<br>\n",
    "<br>\n",
    "\n",
    "#### __Python Demonstration: Nonparametric Bootstrap__"
   ]
  },
  {
   "cell_type": "code",
   "execution_count": 17,
   "id": "6d391618",
   "metadata": {},
   "outputs": [],
   "source": [
    "n = 100\n",
    "x = np.random.normal(size=(n,2))\n",
    "e = np.random.normal(size=(n,1))\n",
    "beta = np.ones((2,1))\n",
    "y = np.dot(x,beta) + e\n",
    "\n",
    "results = sm.OLS(y,x).fit()\n",
    "beta_hat = results.params\n",
    "e_hat = results.resid\n",
    "\n",
    "B = 10_000\n",
    "beta_star = np.zeros(B)\n",
    "\n",
    "for b in range(B):\n",
    "    u = np.random.randint(low=1, high=n, size=n)\n",
    "    y_star = y[u]\n",
    "    x_star = x[u,:]\n",
    "    results = sm.OLS(y_star, x_star).fit()\n",
    "    beta_star[b] = results.params[1]"
   ]
  },
  {
   "cell_type": "code",
   "execution_count": 19,
   "id": "c1f23baa",
   "metadata": {},
   "outputs": [
    {
     "data": {
      "text/plain": [
       "(1.0426402889876631, 0.09267611910605454)"
      ]
     },
     "execution_count": 19,
     "metadata": {},
     "output_type": "execute_result"
    }
   ],
   "source": [
    "np.mean(beta_star), np.std(beta_star)"
   ]
  },
  {
   "cell_type": "code",
   "execution_count": 20,
   "id": "ca3735f3",
   "metadata": {},
   "outputs": [
    {
     "data": {
      "image/png": "[encoded data removed]",
      "text/plain": [
       "<Figure size 720x576 with 1 Axes>"
      ]
     },
     "metadata": {
      "needs_background": "light"
     },
     "output_type": "display_data"
    }
   ],
   "source": [
    "plt.hist(beta_star, bins=100);"
   ]
  },
  {
   "cell_type": "code",
   "execution_count": null,
   "id": "bc1b27d5",
   "metadata": {},
   "outputs": [],
   "source": []
  }
 ],
 "metadata": {
  "kernelspec": {
   "display_name": "Python 3",
   "language": "python",
   "name": "python3"
  },
  "language_info": {
   "codemirror_mode": {
    "name": "ipython",
    "version": 3
   },
   "file_extension": ".py",
   "mimetype": "text/x-python",
   "name": "python",
   "nbconvert_exporter": "python",
   "pygments_lexer": "ipython3",
   "version": "3.8.11"
  }
 },
 "nbformat": 4,
 "nbformat_minor": 5
}
