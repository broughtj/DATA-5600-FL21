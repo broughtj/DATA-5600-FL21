{
 "cells": [
  {
   "cell_type": "markdown",
   "id": "f3f04b47",
   "metadata": {},
   "source": [
    "# DATA 5600: Introduction to Regression and Machine Learning for Analytics\n",
    "\n",
    "## __Martinez and Martinez Chapter 06: Monte Carlo Methods for Inferential Statistics__\n",
    "\n",
    "<br>\n",
    "\n",
    "Author:  Tyler J. Brough <br>\n",
    "Updated: November 22, 2021 <br>\n",
    "\n",
    "---\n",
    "\n",
    "<br>"
   ]
  },
  {
   "cell_type": "code",
   "execution_count": 1,
   "id": "4d11ed26",
   "metadata": {},
   "outputs": [],
   "source": [
    "import numpy as np\n",
    "import pandas as pd\n",
    "from scipy import stats\n",
    "import matplotlib.pyplot as plt\n",
    "import statsmodels.api as sm\n",
    "\n",
    "plt.rcParams['figure.figsize'] = [10, 8]"
   ]
  },
  {
   "cell_type": "markdown",
   "id": "3ee35a10",
   "metadata": {},
   "source": [
    "---"
   ]
  },
  {
   "cell_type": "markdown",
   "id": "a1827add",
   "metadata": {},
   "source": [
    "## __Introduction__\n",
    "\n",
    "<br>\n",
    "\n",
    "These notes are based upon Chapter 6: Monte Carlo Methods for Inferential Statistics from the book titled _Computational Statistics Handbook_ by Wendy and Angel Martinez. \n",
    "\n",
    "<br>\n",
    "\n",
    "We will cover the following topics: \n",
    "\n",
    "* The basic Monte Carlo procedure\n",
    "\n",
    "* The basic Bootstrap procedure\n",
    "\n",
    "* The nonparametric bootstrap for regression\n",
    "\n",
    "* The parametric bootstrap for regression\n",
    "\n",
    "<br>"
   ]
  },
  {
   "cell_type": "code",
   "execution_count": null,
   "id": "a87450df",
   "metadata": {},
   "outputs": [],
   "source": []
  }
 ],
 "metadata": {
  "kernelspec": {
   "display_name": "Python 3",
   "language": "python",
   "name": "python3"
  },
  "language_info": {
   "codemirror_mode": {
    "name": "ipython",
    "version": 3
   },
   "file_extension": ".py",
   "mimetype": "text/x-python",
   "name": "python",
   "nbconvert_exporter": "python",
   "pygments_lexer": "ipython3",
   "version": "3.8.11"
  }
 },
 "nbformat": 4,
 "nbformat_minor": 5
}
