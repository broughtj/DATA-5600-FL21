{
 "cells": [
  {
   "cell_type": "markdown",
   "id": "ca2c2d82",
   "metadata": {},
   "source": [
    "# DATA 5600: Introduction to Regression and Machine Learning for Analytics\n",
    "\n",
    "## __Topic: Some (Very) Brief Notes on Estimation and Confidence Intervals__ <br>\n",
    "\n",
    "Author:  Tyler J. Brough <br>\n",
    "Updated: October 7, 2021 <br>\n",
    "\n",
    "---\n",
    "\n",
    "<br>"
   ]
  },
  {
   "cell_type": "code",
   "execution_count": null,
   "id": "781b4efb",
   "metadata": {},
   "outputs": [],
   "source": [
    "import numpy as np\n",
    "from scipy import stats\n",
    "import matplotlib.pyplot as plt\n",
    "\n",
    "plt.rcParams['figure.figsize'] = [10, 8]"
   ]
  },
  {
   "cell_type": "code",
   "execution_count": null,
   "id": "f1c7b981",
   "metadata": {},
   "outputs": [],
   "source": [
    "np.random.seed(7)"
   ]
  },
  {
   "cell_type": "markdown",
   "id": "dd3f981f",
   "metadata": {},
   "source": [
    "---"
   ]
  },
  {
   "cell_type": "markdown",
   "id": "84e80481",
   "metadata": {},
   "source": [
    "<br>\n",
    "\n",
    "## __Estimation__\n",
    "\n",
    "<br>\n",
    "\n",
    "These notes are based upon readings from the following books:\n",
    "\n",
    "* _Introduction to Probability and Mathematical Statistics_ by Bain & Engelhart\n",
    "\n",
    "* _Mathematical Statistics with Applications_ by Wackerly, Mendenhall, and Scheaffer\n",
    "\n",
    "* _Statistics for Business and Economics_ by McClave, Benson, and Sincich\n",
    "\n",
    "<br>"
   ]
  },
  {
   "cell_type": "markdown",
   "id": "14fa8a09",
   "metadata": {
    "tags": []
   },
   "source": [
    "### __Estimator__\n",
    "\n",
    "---\n",
    "\n",
    "A statistic, $T = \\mathscr{t}(X_{1}, X_{2}, \\ldots, X_{n})$, that is used to estimate the value of $\\tau(\\theta)$ is called an __estimator__ of $\\tau(\\theta)$, and an observed value of the statistic, $t = \\mathscr{t}(x_{1}, x_{2}, \\ldots, x_{n})$, is called an __estimate__ of $\\tau(\\theta)$.\n",
    "\n",
    "---\n",
    "\n",
    "<br>\n",
    "<br>"
   ]
  },
  {
   "cell_type": "markdown",
   "id": "713c6b09",
   "metadata": {},
   "source": [
    "There are different methods of estimation. Among these, a few of the most common are: \n",
    "\n",
    "1. ___The Method of Moments___\n",
    "\n",
    "2. ___The Method of Maximum Likelihood___\n",
    "\n",
    "3. ___Bayes and Minimax Estimators___\n",
    "\n",
    "<br>\n",
    "\n",
    "To be brief, we will not discuss the first or the third here in detail. We will discuss Bayesian estimation as a separate topic. \n",
    "\n",
    "<br>\n",
    "<br>"
   ]
  },
  {
   "cell_type": "markdown",
   "id": "bb738bfc",
   "metadata": {},
   "source": [
    "<br>\n",
    "\n",
    "## __Confidence Intervals__\n",
    "\n",
    "<br>"
   ]
  },
  {
   "cell_type": "markdown",
   "id": "caef19bd",
   "metadata": {},
   "source": [
    "### __Confidence Interval__\n",
    "\n",
    "---\n",
    "\n",
    "__Confidence Interval__ An interval ($\\mathscr{l}(x_{1}, x_{2}, \\ldots, x_{n})$, $\\mathscr{u}(x_{1}, x_{2}, \\ldots, x_{n})$) is called a $\\mathbf{100 \\gamma\\%}$ __confidence interval__ for $\\theta$ if\n",
    "\n",
    "<br>\n",
    "\n",
    "$$\n",
    "P[\\mathscr{l}(X_{1}, X_{2}, \\ldots, X_{n}) < \\theta < \\mathscr{u}(X_{1}, X_{2}, \\ldots, X_{n})] = \\gamma\n",
    "$$\n",
    "\n",
    "<br>\n",
    "\n",
    "where $0 < \\gamma < 1$. The observed values $\\mathscr{l}(x_{1}, x_{2}, \\ldots, x_{n})$ and $\\mathscr{u}(x_{1}, x_{2}, \\ldots, x_{n})$ are called __lower__ and __upper confidence limits__, respectively.\n",
    "\n",
    "---\n",
    "\n",
    "<br>"
   ]
  },
  {
   "cell_type": "markdown",
   "id": "ccd498d4",
   "metadata": {},
   "source": [
    "<u><b>Example 1</b></u>\n",
    "\n",
    "<br>\n",
    "\n",
    "Consider a random sample from a normal distribution, $X_{i} \\sim\n",
    "N(\\mu, \\sigma^{2})$, where $\\sigma^{2}$ is assumed to be known. In\n",
    "this case $\\bar{X}$ is sufficient for $\\mu$, and it is known that\n",
    "$Z = \\sqrt{n}(\\bar{X} - \\mu)/\\sigma \\sim N(0,1)$. By symmetry, we also\n",
    "know that $z_{\\alpha/2} = -z_{\\alpha/2}$, and thus\n",
    "\n",
    "<br>\n",
    "\n",
    "$$\n",
    "\\begin{aligned}\n",
    "1 - \\alpha &= P[-z_{1 - \\alpha/2} < \\sqrt{n}(\\bar{X} - \\mu)/\\sigma < z_{1 - \\alpha/2}] \\\\\n",
    "           & \\\\\n",
    "           &= P[\\bar{X} - z_{1 - \\alpha/2}\\frac{\\sigma}{\\sqrt{n}} < \\mu < \\bar{X} + z_{1 - \\alpha/2}\\frac{\\sigma}{\\sqrt{n}}]\n",
    "\\end{aligned}                  \n",
    "$$\n",
    "\n",
    "<br>\n",
    "\n",
    "It follows that a $100(1-\\alpha)\\%$ confidence interval for $\\mu$ is given by \n",
    "\n",
    "<br>\n",
    "\n",
    "$$\n",
    "(\\bar{x} - z_{1-\\alpha/2}\\frac{\\sigma}{\\sqrt{n}}, \\bar{x} + z_{1-\\alpha/2}\\frac{\\sigma}{\\sqrt{n}})\n",
    "$$\n",
    "\n",
    "<br>\n",
    "\n",
    "For example, for a $95\\%$ confidence interval, $1 - \\alpha/2 = 0.975$ and the upper and lower confidence limits are $\\bar{x} \\pm 1.96 \\frac{\\sigma}{\\sqrt{n}}$.\n",
    "\n",
    "<br>\n"
   ]
  },
  {
   "cell_type": "code",
   "execution_count": null,
   "id": "aba761cb",
   "metadata": {},
   "outputs": [],
   "source": [
    "α = 0.05 / 2.\n",
    "print(f\"{stats.norm.ppf(1 - α) : 0.2f}\")"
   ]
  },
  {
   "cell_type": "code",
   "execution_count": null,
   "id": "2b78c25b",
   "metadata": {},
   "outputs": [],
   "source": [
    "print(f\"{stats.norm.cdf(1.96) : 0.3f}\")"
   ]
  },
  {
   "cell_type": "markdown",
   "id": "e1402546",
   "metadata": {},
   "source": [
    "<br>\n",
    "\n",
    "Let's simulate a sample from a $N(10, 4)$ distribution and calculate the mean and a $95\\%$ confidence interval. Assume that the variance of $4$ is known.\n",
    "\n",
    "<br>"
   ]
  },
  {
   "cell_type": "code",
   "execution_count": null,
   "id": "b5c4e7b7",
   "metadata": {},
   "outputs": [],
   "source": [
    "n = 100\n",
    "x = np.random.normal(loc=10, scale=4, size=n)"
   ]
  },
  {
   "cell_type": "code",
   "execution_count": null,
   "id": "b994c82a",
   "metadata": {},
   "outputs": [],
   "source": [
    "x̄ = np.mean(x) ## type: `x\\bar` and hit tab\n",
    "x̄ "
   ]
  },
  {
   "cell_type": "code",
   "execution_count": null,
   "id": "d880acdc",
   "metadata": {},
   "outputs": [],
   "source": [
    "(x̄ - 1.96 * np.sqrt(4)/np.sqrt(n), x̄ + 1.96 * np.sqrt(4)/np.sqrt(n))"
   ]
  },
  {
   "cell_type": "markdown",
   "id": "6f88f4b2",
   "metadata": {},
   "source": [
    "<br>\n",
    "\n",
    "#### __Large Sample Confidence Intervals ($\\sigma$ Unknown)__\n",
    "\n",
    "<br>\n",
    "\n",
    "<u><b>Example 2</b></u>\n",
    "\n",
    "<br>\n",
    "\n",
    "The shopping times of $n = 64$ randomly selected customers at a local supermarket were recorded. The average and variance of the 64 shopping times were 33 minutes\n",
    "and 256, respectively. Estimate $\\mu$, the true average shopping time per customer, with a confidence interval of $1 - \\alpha = 0.90$.\n",
    "\n",
    "<br>\n",
    "\n",
    "<u><b>Solution</b></u>\n",
    "\n",
    "<br>\n",
    "\n",
    "We are interested in the parameter $\\mu$. Thus $\\hat{\\mu} = \\bar{x} = 33$ and $s^{2} = 256$ for a sample of $n = 64$ shopping times. The population variance \n",
    "$\\sigma^{2}$ is unknown, so we use $s^{2}$ as its estimated value. The confidence interval \n",
    "\n",
    "<br>\n",
    "\n",
    "$$\n",
    "\\hat{\\mu} \\pm z_{1-\\alpha/2} \\sigma_{\\hat{\\mu}}\n",
    "$$\n",
    "\n",
    "<br>\n",
    "\n",
    "has the form\n",
    "\n",
    "<br>\n",
    "\n",
    "$$\n",
    "\\bar{x} \\pm z_{1-\\alpha/2}\\left(\\frac{\\sigma}{\\sqrt{n}}\\right) \\approx \\bar{x} \\pm z_{1-\\alpha/2}\\left(\\frac{s}{\\sqrt{n}}\\right)\n",
    "$$\n",
    "\n",
    "<br>"
   ]
  },
  {
   "cell_type": "code",
   "execution_count": null,
   "id": "5e5bcb3f",
   "metadata": {},
   "outputs": [],
   "source": [
    "α = 0.1 / 2.\n",
    "print(f\"\\n{stats.norm.ppf(1. - α) : 0.3f}\\n\")"
   ]
  },
  {
   "cell_type": "markdown",
   "id": "cfb8bbdc",
   "metadata": {},
   "source": [
    "<br>\n",
    "\n",
    "$$\n",
    "\\begin{aligned}\n",
    "\\bar{x} - z_{1-\\alpha/2} \\left(\\frac{s}{\\sqrt{n}}\\right) &= 33 - 1.645 \\left(\\frac{16}{8}\\right) = 29.71 \\\\\n",
    "&\\\\\n",
    "\\bar{x} + z_{1-\\alpha/2} \\left(\\frac{s}{\\sqrt{n}}\\right) &= 33 + 1.645 \\left(\\frac{16}{8}\\right) = 36.29 \\\\\n",
    "\\end{aligned}\n",
    "$$\n",
    "\n",
    "<br>"
   ]
  },
  {
   "cell_type": "code",
   "execution_count": null,
   "id": "e94f90f9",
   "metadata": {},
   "outputs": [],
   "source": [
    "x̄ = 33 \n",
    "s = 16\n",
    "n = 64"
   ]
  },
  {
   "cell_type": "code",
   "execution_count": null,
   "id": "3cb28c8f",
   "metadata": {},
   "outputs": [],
   "source": [
    "z = stats.norm.ppf(1. - α)\n",
    "(x̄ - z * s / np.sqrt(n), x̄ + z * s / np.sqrt(n))"
   ]
  },
  {
   "cell_type": "markdown",
   "id": "c5f4458b",
   "metadata": {},
   "source": [
    "<br>\n",
    "<br>\n",
    "\n",
    "<u><b>Example 3</b></u>\n",
    "\n",
    "Consider a large bank that wants to estimate the average amount of money owed by its delinquent debtors, $\\mu$. The bank randomly selects $n = 100$ of its\n",
    "delinquent accounts and finds that the sample mean amount owed is $\\bar{x} = \\$230$. Also, suppose it is known that the standard deviation of the amount\n",
    "owed for all deliquent accounts is $\\sigma = \\$90$. Calculate a $95\\%$ confidence interval for the target parameter, $\\mu$.\n",
    "\n",
    "<br>\n",
    "\n",
    "<u><b>Solution</b></u>\n",
    "\n",
    "Substituting $\\bar{x} = 230$ and $\\sigma = 90$ into the interval estimator formula, we obtain:\n",
    "\n",
    "<br>\n",
    "\n",
    "$$\n",
    "\\large{\\bar{x} \\pm 1.96 \\sigma_{\\bar{x}} = \\bar{x} \\pm (1.96) \\sigma / \\sqrt{n} = 230 \\pm (1.96) (90 / \\sqrt{100}) = 230 \\pm 17.64}\n",
    "$$\n",
    "\n",
    "<br>\n",
    "\n",
    "Or $\\mathbf{(212.36, 247.64)}$. \n",
    "\n",
    "<br>"
   ]
  },
  {
   "cell_type": "code",
   "execution_count": null,
   "id": "1b84f278",
   "metadata": {},
   "outputs": [],
   "source": [
    "n = 100\n",
    "x̄ = 230\n",
    "σ = 90"
   ]
  },
  {
   "cell_type": "code",
   "execution_count": null,
   "id": "9ae3b226",
   "metadata": {},
   "outputs": [],
   "source": [
    "α = 0.05 / 2.\n",
    "z_val = stats.norm.ppf(1 - α)\n",
    "(x̄ - z_val * (σ / np.sqrt(n)), x̄ + z_val * (σ / np.sqrt(n)))"
   ]
  },
  {
   "cell_type": "markdown",
   "id": "3ce53447",
   "metadata": {},
   "source": [
    "<br>\n",
    "\n",
    "This example is almost surely unrealistic because it is very doubtful that the large bank knows the true population standard deviation. Therefore, it must also estimate using the sample standard deviation as an estimator and plug it in. \n",
    "\n",
    "<br>\n",
    "\n",
    "Let's simulate some fake data from this distribution and see what this would look like.\n",
    "\n",
    "<br>"
   ]
  },
  {
   "cell_type": "code",
   "execution_count": null,
   "id": "301320d7",
   "metadata": {},
   "outputs": [],
   "source": [
    "x = np.round(np.random.normal(loc=230, scale=90, size=n))"
   ]
  },
  {
   "cell_type": "code",
   "execution_count": null,
   "id": "122fcaba",
   "metadata": {},
   "outputs": [],
   "source": [
    "x̄ = np.mean(x)\n",
    "s = np.std(x, ddof=1)\n",
    "(x̄, s)"
   ]
  },
  {
   "cell_type": "code",
   "execution_count": null,
   "id": "5f7eb81a",
   "metadata": {},
   "outputs": [],
   "source": [
    "plt.hist(x);"
   ]
  },
  {
   "cell_type": "code",
   "execution_count": null,
   "id": "756589a5",
   "metadata": {},
   "outputs": [],
   "source": [
    "α = 0.05 / 2.\n",
    "z_val = stats.norm.ppf(1 - α)\n",
    "(x̄ - z_val * (s / np.sqrt(n)), x̄ + z_val * (s / np.sqrt(n)))"
   ]
  },
  {
   "cell_type": "markdown",
   "id": "e8007226",
   "metadata": {},
   "source": [
    "<br>\n",
    "\n",
    "### __Large Sample 100$\\mathbf{\\gamma\\%}$ Confidence Interval for $\\mathbf{\\mu}$, Based on a Normal ($z$) Statistic__\n",
    "\n",
    "---\n",
    "\n",
    "<br>\n",
    "\n",
    "$$\n",
    "\\begin{aligned}\n",
    "\\sigma \\mbox{  known:} \\quad \\bar{x} \\pm (z_{1 - \\alpha/2}) \\sigma_{\\bar{x}} &=  \\bar{x} \\pm (z_{1 - \\alpha/2}) \\left(\\frac{\\sigma}{\\sqrt{n}}\\right) \\\\\n",
    "& \\\\\n",
    "\\sigma \\mbox{ unknown:} \\quad \\bar{x} \\pm (z_{1 - \\alpha/2}) \\sigma_{\\bar{x}} &\\approx  \\bar{x} \\pm (z_{1 - \\alpha/2}) \\left(\\frac{s}{\\sqrt{n}}\\right) \\\\\n",
    "\\end{aligned}\n",
    "$$\n",
    "\n",
    "<br>\n",
    "\n",
    "where $z_{1 - \\alpha/2}$ is the $z$-value corresponding to an area $\\frac{\\alpha}{2}$ in the tail of a standard normal distribution. $\\sigma_{\\bar{x}}$ is the\n",
    "standard error (the standard deviation of the sampling distribution) of $\\bar{x}$, $\\sigma$ is the standard deviation of the population, and $s$ is the sample standard deviation.\n",
    "\n",
    "---\n",
    "\n",
    "<br>"
   ]
  },
  {
   "cell_type": "markdown",
   "id": "4d6c81ae",
   "metadata": {},
   "source": [
    "<br>\n",
    "\n",
    "### __Conditions Required for a Valid Large-Sample Confidence Interval for $\\mathbf{\\mu}$__\n",
    "\n",
    "\n",
    "---\n",
    "\n",
    "__1.__ A random sample is selected from a target population.\n",
    "\n",
    "__2.__ The sample size $n$ is large (i.e. $n \\ge 30$). Due to the Central Limit Theorem\n",
    "       this condition guarantees that the sampling distribution of $\\bar{X}$ is approximately\n",
    "       norml. (Also, for large $n$, $s$ will be a good estimator for $\\sigma$.)\n",
    "      \n",
    "\n",
    "---\n",
    "\n",
    "<br>"
   ]
  },
  {
   "cell_type": "markdown",
   "id": "1deb261a",
   "metadata": {},
   "source": [
    "<br>\n",
    "\n",
    "### __Interpretation of a Confidence Interval for a Population Mean__\n",
    "\n",
    "---\n",
    "\n",
    "When we form a $100\\gamma\\%$ confidence interval for $\\mu$, we usually express our confidence in the interval with a statement such as \"We can be $100\\gamma\\%$ confident that $\\mu$ lies between the lower and upper bounds of the confidence interval.\"\n",
    "\n",
    "* For a particular application we substitute the appropriate numerical values for the estimated\n",
    "  mean and lower and upper bounds\n",
    "  \n",
    "* _The statement reflects our confidence in the estimation process rather than in the particular \n",
    "  interval that is calculated from the sample data._\n",
    "  \n",
    "* __THIS IS NOT A PROBABILITY INTERVAL!!!__\n",
    "\n",
    "* Rather it is a statement about repeated sampling. \n",
    "\n",
    "* A $100\\gamma\\%$ confidence interval contains the true parameter value with probability \n",
    "  $100\\gamma$ only _before_ one has seen the data. After the data has been seen, the \n",
    "  probability is zero or one.\n",
    "  \n",
    "* Yet confidence intervals are universally interpreted in practice as guides to _post_-sample\n",
    "  uncertainty.\n",
    "  \n",
    "* They often are reasonable guides, but only because they often are close to posterior\n",
    "  probability intervals that would emerge from a Bayesian analysis.\n",
    "\n",
    "---\n",
    "\n",
    "<br>"
   ]
  },
  {
   "cell_type": "markdown",
   "id": "c530fadf",
   "metadata": {},
   "source": [
    "<br>\n",
    "\n",
    "### __Small-Sample Confidence Interval for $\\mathbf{\\mu}$, Student's $t$-Statistic__\n",
    "\n",
    "---\n",
    "\n",
    "$$\n",
    "\\large{\\bar{x} \\pm t_{1-\\alpha/2} \\left(\\frac{s}{\\sqrt{n}}\\right)}\n",
    "$$\n",
    "\n",
    "<br>\n",
    "\n",
    "where $t_{1 - \\alpha / 2}$ is the $t$-value corresponding to an area $\\frac{\\alpha}{2}$ in the upper tail of the student's $t$-distribution based on $\\nu = n - 1$ degrees of freedom.\n",
    "\n",
    "---\n",
    "\n",
    "<br>"
   ]
  },
  {
   "cell_type": "markdown",
   "id": "b92baf98",
   "metadata": {},
   "source": [
    "<br>\n",
    "\n",
    "<u><b>Example 4</b></u>\n",
    "\n",
    "Some quality-control experiments require _destructive sampling_ (i.e., the test to determine\n",
    "whether the item is defective destroys the item) in order to measure some particular \n",
    "characteristic of the product. The cost of destructive sampling often dictates small samples.\n",
    "For example, suppose a manufacturer of printers for personal computers wishes to estimate\n",
    "the mean number of characters printed before the printhead fails. Suppose the printer\n",
    "manufacturer tests $n = 15$ randomly selected printheads and records the number of \n",
    "characters printed until failure for each. These measurements (in millions of characters)\n",
    "are given in the table below\n",
    "\n",
    "<br>\n",
    "\n",
    "|      |      |      |      |      |\n",
    "|------|------|------|------|------|\n",
    "| 1.13 | 1.55 | 1.43 | 0.92 | 1.25 |\n",
    "| 1.36 | 1.32 | 0.85 | 1.07 | 1.48 |\n",
    "| 1.20 | 1.33 | 1.18 | 1.22 | 1.29 |\n",
    "\n",
    "<br>\n",
    "\n",
    "Form a $99\\%$ confidence interval for the mean number of characters printed before the\n",
    "printhead fails. Interpret the results.\n",
    "\n",
    "<br>"
   ]
  },
  {
   "cell_type": "code",
   "execution_count": null,
   "id": "2c16766e",
   "metadata": {},
   "outputs": [],
   "source": [
    "x = np.array([1.13, 1.55, 1.43, 0.92, 1.25, \n",
    "              1.36, 1.32, 0.85, 1.07, 1.48,\n",
    "              1.20, 1.33, 1.18, 1.22, 1.29])"
   ]
  },
  {
   "cell_type": "code",
   "execution_count": null,
   "id": "eb474f07",
   "metadata": {},
   "outputs": [],
   "source": [
    "n = len(x)\n",
    "x̄ = np.mean(x)\n",
    "s = np.std(x, ddof=1)\n",
    "(n, x̄, s)"
   ]
  },
  {
   "cell_type": "code",
   "execution_count": null,
   "id": "52594682",
   "metadata": {},
   "outputs": [],
   "source": [
    "α = 0.01 / 2.\n",
    "γ = 1. - α\n",
    "ν = n - 1\n",
    "t_val = stats.t(ν).ppf(γ)"
   ]
  },
  {
   "cell_type": "code",
   "execution_count": null,
   "id": "a25a219b",
   "metadata": {},
   "outputs": [],
   "source": [
    "t_val"
   ]
  },
  {
   "cell_type": "code",
   "execution_count": null,
   "id": "296ae51b",
   "metadata": {},
   "outputs": [],
   "source": [
    "z_val = stats.norm.ppf(γ)"
   ]
  },
  {
   "cell_type": "code",
   "execution_count": null,
   "id": "d1f0b9fc",
   "metadata": {},
   "outputs": [],
   "source": [
    "z_val"
   ]
  },
  {
   "cell_type": "code",
   "execution_count": null,
   "id": "f9822c33",
   "metadata": {},
   "outputs": [],
   "source": [
    "(x̄ - t_val * (s / np.sqrt(n)), x̄ + t_val * (s / np.sqrt(n)))"
   ]
  },
  {
   "cell_type": "code",
   "execution_count": null,
   "id": "942d0960",
   "metadata": {},
   "outputs": [],
   "source": []
  },
  {
   "cell_type": "code",
   "execution_count": null,
   "id": "9de2ffe9",
   "metadata": {},
   "outputs": [],
   "source": [
    "## Computational Experiment to Compare Normal to Student's t\n",
    "γ = 0.95\n",
    "\n",
    "for i in range(1, 50):\n",
    "    print(f\"({i}, {stats.norm.ppf(γ) : 0.4f}, {stats.t(i).ppf(γ) : 0.4f})\")"
   ]
  },
  {
   "cell_type": "code",
   "execution_count": null,
   "id": "c7d0b894",
   "metadata": {},
   "outputs": [],
   "source": []
  }
 ],
 "metadata": {
  "kernelspec": {
   "display_name": "Python 3",
   "language": "python",
   "name": "python3"
  },
  "language_info": {
   "codemirror_mode": {
    "name": "ipython",
    "version": 3
   },
   "file_extension": ".py",
   "mimetype": "text/x-python",
   "name": "python",
   "nbconvert_exporter": "python",
   "pygments_lexer": "ipython3",
   "version": "3.8.11"
  }
 },
 "nbformat": 4,
 "nbformat_minor": 5
}
