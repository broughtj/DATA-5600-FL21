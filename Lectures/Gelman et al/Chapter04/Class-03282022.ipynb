{
 "cells": [
  {
   "cell_type": "code",
   "execution_count": 45,
   "id": "b8e36eea-4c52-4d57-b7aa-7f5b9bab21e0",
   "metadata": {},
   "outputs": [],
   "source": [
    "import numpy as np\n",
    "import pandas as pd\n",
    "import matplotlib.pyplot as plt\n",
    "import scipy.stats as stats"
   ]
  },
  {
   "cell_type": "code",
   "execution_count": 2,
   "id": "313ab49f-2b68-41e1-af2e-223bea66781d",
   "metadata": {},
   "outputs": [],
   "source": [
    "%matplotlib inline"
   ]
  },
  {
   "cell_type": "code",
   "execution_count": 3,
   "id": "004c1f8d-a102-492a-92bc-62e49ab61c80",
   "metadata": {},
   "outputs": [],
   "source": [
    "## Set the confidence coefficient\n",
    "α = 0.05"
   ]
  },
  {
   "cell_type": "code",
   "execution_count": 5,
   "id": "e51d8862-8c34-49be-8358-baaa870ad8e8",
   "metadata": {},
   "outputs": [
    {
     "data": {
      "text/plain": [
       "1.959963984540054"
      ]
     },
     "execution_count": 5,
     "metadata": {},
     "output_type": "execute_result"
    }
   ],
   "source": [
    "stats.norm.ppf(0.975)"
   ]
  },
  {
   "cell_type": "code",
   "execution_count": 6,
   "id": "eb0a530d-bd27-46da-903a-7adcd49bac61",
   "metadata": {},
   "outputs": [
    {
     "data": {
      "text/plain": [
       "2.009575234489209"
      ]
     },
     "execution_count": 6,
     "metadata": {},
     "output_type": "execute_result"
    }
   ],
   "source": [
    "stats.t(49).ppf(0.975)"
   ]
  },
  {
   "cell_type": "markdown",
   "id": "06dc5199-dc0f-4039-af7c-6476ae53d4c0",
   "metadata": {},
   "source": [
    "## Simulate Data for a Confidence Interval of a Normal Population"
   ]
  },
  {
   "cell_type": "code",
   "execution_count": 7,
   "id": "a5114d84-5db7-42a8-8dfc-cc113596d16c",
   "metadata": {},
   "outputs": [],
   "source": [
    "## True population dist. N(7.3, 1)\n",
    "μ = 7.3\n",
    "σ = 1.0"
   ]
  },
  {
   "cell_type": "code",
   "execution_count": 8,
   "id": "60de3b3a-0163-442c-a239-870c85a37737",
   "metadata": {},
   "outputs": [],
   "source": [
    "n = 50\n",
    "x = np.random.normal(loc=μ, scale=σ, size = n)"
   ]
  },
  {
   "cell_type": "code",
   "execution_count": 9,
   "id": "1e158bd9-bf15-4c4f-8426-4828e08d9d36",
   "metadata": {},
   "outputs": [
    {
     "data": {
      "text/plain": [
       "array([6.37828126, 8.10199017, 8.05922468, 6.63173228, 5.53371244,\n",
       "       6.6133967 , 6.13498065, 8.18568971, 8.44897513, 5.83300889,\n",
       "       7.24829727, 6.00901502, 7.99076073, 8.2674287 , 6.95324835,\n",
       "       7.10973469, 7.7951459 , 6.43580099, 6.8414949 , 7.21759313,\n",
       "       7.4216089 , 8.4466211 , 7.5703737 , 7.04378566, 8.27448105,\n",
       "       5.49365176, 8.68090808, 7.8787562 , 8.14027511, 5.376466  ,\n",
       "       8.04933379, 6.25910045, 7.11002944, 8.71401044, 5.9477775 ,\n",
       "       7.73167812, 8.30126119, 8.36121507, 6.31503797, 7.98058818,\n",
       "       8.55661073, 8.26155208, 7.61795118, 8.98354814, 9.03716133,\n",
       "       5.41258274, 9.39959552, 7.52728388, 8.02071588, 7.68045905])"
      ]
     },
     "execution_count": 9,
     "metadata": {},
     "output_type": "execute_result"
    }
   ],
   "source": [
    "x"
   ]
  },
  {
   "cell_type": "code",
   "execution_count": 10,
   "id": "9f5112a9-c282-42ee-be38-85d3b344c863",
   "metadata": {},
   "outputs": [],
   "source": [
    "x̄ = np.mean(x)"
   ]
  },
  {
   "cell_type": "code",
   "execution_count": 12,
   "id": "6cfb6b6e-a928-4cd0-a469-36cc4ba602b8",
   "metadata": {},
   "outputs": [
    {
     "data": {
      "text/plain": [
       "7.427678636246844"
      ]
     },
     "execution_count": 12,
     "metadata": {},
     "output_type": "execute_result"
    }
   ],
   "source": [
    "x̄"
   ]
  },
  {
   "cell_type": "code",
   "execution_count": 16,
   "id": "6549d0bf-fbb0-47f6-9af8-d4eafb860a52",
   "metadata": {},
   "outputs": [
    {
     "data": {
      "text/plain": [
       "1.0505879089793635"
      ]
     },
     "execution_count": 16,
     "metadata": {},
     "output_type": "execute_result"
    }
   ],
   "source": [
    "s = np.std(x, ddof=1)\n",
    "s"
   ]
  },
  {
   "cell_type": "code",
   "execution_count": 25,
   "id": "89f7798d-8b30-433b-92b8-6cb71d8bbccc",
   "metadata": {},
   "outputs": [],
   "source": [
    "α = 0.1\n",
    "z_crit = stats.norm.ppf(1. - α / 2.)"
   ]
  },
  {
   "cell_type": "code",
   "execution_count": 26,
   "id": "4f50b270-0aa7-4312-8590-6eda552ba4a1",
   "metadata": {},
   "outputs": [
    {
     "data": {
      "text/plain": [
       "1.6448536269514722"
      ]
     },
     "execution_count": 26,
     "metadata": {},
     "output_type": "execute_result"
    }
   ],
   "source": [
    "z_crit"
   ]
  },
  {
   "cell_type": "code",
   "execution_count": 27,
   "id": "d80e9a67-63ae-4320-8d76-fd1d0356a229",
   "metadata": {},
   "outputs": [],
   "source": [
    "ci = (x̄ - z_crit * s / np.sqrt(n), x̄ + z_crit * s / np.sqrt(n))"
   ]
  },
  {
   "cell_type": "code",
   "execution_count": 28,
   "id": "49e42c7f-f994-4086-a70a-53fe7299d4e4",
   "metadata": {},
   "outputs": [
    {
     "data": {
      "text/plain": [
       "(7.373032475529127, 7.48232479696456)"
      ]
     },
     "execution_count": 28,
     "metadata": {},
     "output_type": "execute_result"
    }
   ],
   "source": [
    "ci"
   ]
  },
  {
   "cell_type": "markdown",
   "id": "df5da881-f075-42ca-ae7f-f23184c6fef8",
   "metadata": {},
   "source": [
    "## Confidence Interval for Population Proportion"
   ]
  },
  {
   "cell_type": "code",
   "execution_count": 19,
   "id": "1bd5f66f-443a-4af1-804d-4ebb45ad9cbf",
   "metadata": {},
   "outputs": [],
   "source": [
    "## \"True\" Binomial proportion who is on #teamwillsmith\n",
    "θ = .57"
   ]
  },
  {
   "cell_type": "code",
   "execution_count": 20,
   "id": "8dece33a-5e9c-4c11-8e67-fab10f60cb9d",
   "metadata": {},
   "outputs": [],
   "source": [
    "n = 1_000\n",
    "y = np.random.binomial(n=1, p=θ, size=n)"
   ]
  },
  {
   "cell_type": "code",
   "execution_count": 22,
   "id": "a36ee345-bd3e-4240-994f-b0e6adba15c2",
   "metadata": {},
   "outputs": [
    {
     "data": {
      "text/plain": [
       "array([1, 0, 0, 0, 1, 0, 1, 0, 0, 0, 0, 1, 1, 0, 0, 1, 0, 1, 0, 0, 1, 1,\n",
       "       1, 0, 0, 1, 0, 1, 1, 0, 0, 1, 0, 0, 0, 1, 0, 1, 0, 1, 0, 1, 1, 0,\n",
       "       0, 1, 1, 0, 1, 1, 1, 1, 1, 1, 0, 0, 0, 1, 1, 0, 0, 0, 1, 1, 0, 0,\n",
       "       0, 1, 1, 0, 1, 0, 0, 1, 0, 0, 0, 0, 0, 0, 0, 1, 1, 1, 1, 1, 1, 1,\n",
       "       0, 0, 0, 0, 0, 0, 0, 0, 1, 0, 1, 1])"
      ]
     },
     "execution_count": 22,
     "metadata": {},
     "output_type": "execute_result"
    }
   ],
   "source": [
    "y[:100]"
   ]
  },
  {
   "cell_type": "code",
   "execution_count": 23,
   "id": "68299e0c-a9b3-436b-a52e-5a6a1d973819",
   "metadata": {},
   "outputs": [],
   "source": [
    "ȳ = np.mean(y)"
   ]
  },
  {
   "cell_type": "code",
   "execution_count": 24,
   "id": "bfc4d991-15d4-4af2-b426-af190abb5864",
   "metadata": {},
   "outputs": [
    {
     "data": {
      "text/plain": [
       "0.553"
      ]
     },
     "execution_count": 24,
     "metadata": {},
     "output_type": "execute_result"
    }
   ],
   "source": [
    "ȳ"
   ]
  },
  {
   "cell_type": "code",
   "execution_count": 29,
   "id": "166a67ad-1b15-4696-a32c-5164337eebc1",
   "metadata": {},
   "outputs": [],
   "source": [
    "α = 0.05\n",
    "z_crit = stats.norm.ppf(1. - α / 2.)"
   ]
  },
  {
   "cell_type": "code",
   "execution_count": 30,
   "id": "cf98afb8-f12a-4556-bfcb-20e8c9d6e7a7",
   "metadata": {},
   "outputs": [
    {
     "data": {
      "text/plain": [
       "0.01572230899073034"
      ]
     },
     "execution_count": 30,
     "metadata": {},
     "output_type": "execute_result"
    }
   ],
   "source": [
    "## Must remember the formula for the variance/std dev of a binomial proportion \n",
    "s = np.sqrt((ȳ*(1.-ȳ)) / n)\n",
    "s"
   ]
  },
  {
   "cell_type": "code",
   "execution_count": 31,
   "id": "d8a8e2bd-a63a-4bfa-8092-676c909e2c16",
   "metadata": {},
   "outputs": [],
   "source": [
    "ci_y = (ȳ - z_crit * s, ȳ + z_crit * s), "
   ]
  },
  {
   "cell_type": "code",
   "execution_count": 32,
   "id": "92dcf8a0-c163-423a-9244-6de8e835da95",
   "metadata": {},
   "outputs": [
    {
     "data": {
      "text/plain": [
       "((0.5221848406243583, 0.5838151593756418),)"
      ]
     },
     "execution_count": 32,
     "metadata": {},
     "output_type": "execute_result"
    }
   ],
   "source": [
    "ci_y"
   ]
  },
  {
   "cell_type": "code",
   "execution_count": null,
   "id": "dd7fd5da-d919-4f61-bfe9-10cffad593a8",
   "metadata": {},
   "outputs": [],
   "source": []
  },
  {
   "cell_type": "markdown",
   "id": "7aac73df-1f87-4ba4-b1b1-dbcec50acb1e",
   "metadata": {},
   "source": [
    "## A First Peek at the Bootstrap"
   ]
  },
  {
   "cell_type": "code",
   "execution_count": 33,
   "id": "63ad2f5b-9d23-4d6f-bb53-8ced17e22376",
   "metadata": {},
   "outputs": [
    {
     "data": {
      "text/plain": [
       "array([6.37828126, 8.10199017, 8.05922468, 6.63173228, 5.53371244,\n",
       "       6.6133967 , 6.13498065, 8.18568971, 8.44897513, 5.83300889])"
      ]
     },
     "execution_count": 33,
     "metadata": {},
     "output_type": "execute_result"
    }
   ],
   "source": [
    "x[:10]"
   ]
  },
  {
   "cell_type": "code",
   "execution_count": 34,
   "id": "09fc2556-bd9b-459c-b13a-12a4caa8f854",
   "metadata": {},
   "outputs": [],
   "source": [
    "## The number of bootstrap repititions\n",
    "B = 10_000"
   ]
  },
  {
   "cell_type": "code",
   "execution_count": 35,
   "id": "1220ee96-f8d8-401d-9f0d-3a021dcc0687",
   "metadata": {},
   "outputs": [],
   "source": [
    "## Set up an array to store the bootstrap point estimates from the repititions\n",
    "xboot = np.zeros(B)"
   ]
  },
  {
   "cell_type": "code",
   "execution_count": 40,
   "id": "ba8cc29c-a467-426a-9b4d-1e49470a511f",
   "metadata": {},
   "outputs": [],
   "source": [
    "## A single bootstrap sample\n",
    "n = x.shape[0]\n",
    "xboot_test = np.random.choice(x, size=n)"
   ]
  },
  {
   "cell_type": "code",
   "execution_count": 41,
   "id": "423fb7d3-472f-4e1d-ac66-531409eedde4",
   "metadata": {},
   "outputs": [
    {
     "data": {
      "text/plain": [
       "7.49685097414201"
      ]
     },
     "execution_count": 41,
     "metadata": {},
     "output_type": "execute_result"
    }
   ],
   "source": [
    "np.mean(xboot_test)"
   ]
  },
  {
   "cell_type": "code",
   "execution_count": 43,
   "id": "e7d45364-1583-4ac3-ae28-329d31bd2954",
   "metadata": {},
   "outputs": [],
   "source": [
    "## To operationalize the (iid) bootstrap, loop over the repeated sampling\n",
    "for b in range(B):\n",
    "    xb = np.random.choice(x, size=n)\n",
    "    xboot[b] = np.mean(xb)"
   ]
  },
  {
   "cell_type": "code",
   "execution_count": 44,
   "id": "2a16916c-2072-41df-b243-7c199834b829",
   "metadata": {},
   "outputs": [
    {
     "data": {
      "text/plain": [
       "(array([  12.,  100.,  540., 1578., 2764., 2840., 1596.,  482.,   80.,\n",
       "           8.]),\n",
       " array([6.85745271, 6.97164332, 7.08583393, 7.20002453, 7.31421514,\n",
       "        7.42840575, 7.54259636, 7.65678697, 7.77097758, 7.88516818,\n",
       "        7.99935879]),\n",
       " <BarContainer object of 10 artists>)"
      ]
     },
     "execution_count": 44,
     "metadata": {},
     "output_type": "execute_result"
    },
    {
     "data": {
      "image/png": "[encoded data removed]",
      "text/plain": [
       "<Figure size 432x288 with 1 Axes>"
      ]
     },
     "metadata": {
      "needs_background": "light"
     },
     "output_type": "display_data"
    }
   ],
   "source": [
    "plt.hist(xboot)"
   ]
  },
  {
   "cell_type": "code",
   "execution_count": 46,
   "id": "8d6b1cba-a4f2-4a66-b7cb-3f2b86e3fcbd",
   "metadata": {},
   "outputs": [],
   "source": [
    "xboot_s = pd.Series(xboot)"
   ]
  },
  {
   "cell_type": "code",
   "execution_count": 47,
   "id": "63a37642-12dc-4a8f-9456-c26e61fccbaa",
   "metadata": {},
   "outputs": [
    {
     "data": {
      "text/plain": [
       "<AxesSubplot:ylabel='Density'>"
      ]
     },
     "execution_count": 47,
     "metadata": {},
     "output_type": "execute_result"
    },
    {
     "data": {
      "image/png": "[encoded data removed]",
      "text/plain": [
       "<Figure size 432x288 with 1 Axes>"
      ]
     },
     "metadata": {
      "needs_background": "light"
     },
     "output_type": "display_data"
    }
   ],
   "source": [
    "xboot_s.plot.kde()"
   ]
  },
  {
   "cell_type": "code",
   "execution_count": 48,
   "id": "f5f7a14d-5b42-4cb9-832e-1801ca323b4f",
   "metadata": {},
   "outputs": [
    {
     "data": {
      "text/plain": [
       "(7.426303216872392, 0.14717338993430776)"
      ]
     },
     "execution_count": 48,
     "metadata": {},
     "output_type": "execute_result"
    }
   ],
   "source": [
    "(xboot.mean(), xboot.std(ddof=1))"
   ]
  },
  {
   "cell_type": "code",
   "execution_count": null,
   "id": "fc6a56ba-8ac1-4773-937a-7f89a42eee53",
   "metadata": {},
   "outputs": [],
   "source": []
  }
 ],
 "metadata": {
  "kernelspec": {
   "display_name": "Python 3 (ipykernel)",
   "language": "python",
   "name": "python3"
  },
  "language_info": {
   "codemirror_mode": {
    "name": "ipython",
    "version": 3
   },
   "file_extension": ".py",
   "mimetype": "text/x-python",
   "name": "python",
   "nbconvert_exporter": "python",
   "pygments_lexer": "ipython3",
   "version": "3.8.5"
  }
 },
 "nbformat": 4,
 "nbformat_minor": 5
}
