{
 "cells": [
  {
   "cell_type": "markdown",
   "id": "c7dc4825",
   "metadata": {},
   "source": [
    "# DATA 5600: Introduction to Regression and Machine Learning for Analytics\n",
    "\n",
    "## __Comparing Frequentist and Bayesian Statistical Inference__\n",
    "\n",
    "<br>\n",
    "\n",
    "Author:  Tyler J. Brough <br>\n",
    "Updated: December 1, 2021 <br>\n",
    "\n",
    "---\n",
    "\n",
    "<br>"
   ]
  },
  {
   "cell_type": "code",
   "execution_count": 1,
   "id": "9919e844",
   "metadata": {},
   "outputs": [],
   "source": [
    "import numpy as np\n",
    "import pandas as pd\n",
    "from scipy import stats\n",
    "import matplotlib.pyplot as plt\n",
    "import statsmodels.api as sm\n",
    "\n",
    "plt.rcParams['figure.figsize'] = [10, 8]"
   ]
  },
  {
   "cell_type": "markdown",
   "id": "560833f8",
   "metadata": {},
   "source": [
    "## __Bayesian Estimation of the Beta-Binomial Model__"
   ]
  },
  {
   "cell_type": "code",
   "execution_count": 2,
   "id": "752815b9",
   "metadata": {},
   "outputs": [],
   "source": [
    "class BetaBinomial:\n",
    "    def __init__(self, alpha = 1, beta = 1):\n",
    "        self.alpha = alpha\n",
    "        self.beta = beta\n",
    "        \n",
    "    def fit(self, x):\n",
    "        self.alpha +=  np.sum(x)\n",
    "        self.beta += len(x) - np.sum(x)\n",
    "        \n",
    "    def plot(self):\n",
    "        x = np.linspace(0, 1, 1000)\n",
    "        y = stats.beta.pdf(x, self.alpha, self.beta)\n",
    "        plt.plot(x, y, lw = 2.0, color='darkblue', alpha=0.8)\n",
    "        plt.fill_between(x, y, facecolor='orange', alpha=0.5)\n",
    "        plt.title(f\"Beta({self.alpha},{self.beta}) Prior Distribution\")\n",
    "        plt.show()\n",
    "        \n",
    "    def hdi(self, a=0.05):\n",
    "        lower = stats.beta(self.alpha, self.beta).ppf(a/2.)\n",
    "        upper = stats.beta(self.alpha, self.beta).ppf(1. - (a/2.))\n",
    "        return (lower, upper)"
   ]
  },
  {
   "cell_type": "code",
   "execution_count": 15,
   "id": "ed8dc95e",
   "metadata": {},
   "outputs": [],
   "source": [
    "theta = 0.4\n",
    "N = 100\n",
    "flips = np.random.binomial(n=1, p=theta, size=N);"
   ]
  },
  {
   "cell_type": "code",
   "execution_count": 4,
   "id": "588bcc9f",
   "metadata": {},
   "outputs": [
    {
     "data": {
      "image/png": "[encoded data removed]",
      "text/plain": [
       "<Figure size 720x576 with 1 Axes>"
      ]
     },
     "metadata": {
      "needs_background": "light"
     },
     "output_type": "display_data"
    }
   ],
   "source": [
    "bb = BetaBinomial(alpha=1, beta=1)\n",
    "bb.plot()"
   ]
  },
  {
   "cell_type": "code",
   "execution_count": 5,
   "id": "7d872d1c",
   "metadata": {},
   "outputs": [
    {
     "data": {
      "image/png": "[encoded data removed]",
      "text/plain": [
       "<Figure size 720x576 with 1 Axes>"
      ]
     },
     "metadata": {
      "needs_background": "light"
     },
     "output_type": "display_data"
    }
   ],
   "source": [
    "bb.fit(flips)\n",
    "bb.plot()"
   ]
  },
  {
   "cell_type": "code",
   "execution_count": 6,
   "id": "f48b6bf6",
   "metadata": {},
   "outputs": [
    {
     "data": {
      "text/plain": [
       "(0.31856964076032923, 0.5082384277228418)"
      ]
     },
     "execution_count": 6,
     "metadata": {},
     "output_type": "execute_result"
    }
   ],
   "source": [
    "bb.hdi()"
   ]
  },
  {
   "cell_type": "code",
   "execution_count": 7,
   "id": "0392777b",
   "metadata": {},
   "outputs": [
    {
     "data": {
      "text/plain": [
       "(0.3329471871720783, 0.492559590975166)"
      ]
     },
     "execution_count": 7,
     "metadata": {},
     "output_type": "execute_result"
    }
   ],
   "source": [
    "bb.hdi(a=0.1)"
   ]
  },
  {
   "cell_type": "code",
   "execution_count": null,
   "id": "d6af9970",
   "metadata": {},
   "outputs": [],
   "source": [
    "bb.hdi(a=0.01)"
   ]
  },
  {
   "cell_type": "code",
   "execution_count": null,
   "id": "f8360a0b",
   "metadata": {},
   "outputs": [],
   "source": [
    "a, b = bb.alpha, bb.beta"
   ]
  },
  {
   "cell_type": "code",
   "execution_count": null,
   "id": "f5d133c2",
   "metadata": {},
   "outputs": [],
   "source": [
    "stats.beta(a, b).cdf(0.6) - stats.beta(a, b).cdf(0.2) "
   ]
  },
  {
   "cell_type": "markdown",
   "id": "9f332b15",
   "metadata": {},
   "source": [
    "<br>\n",
    "<br>\n",
    "\n",
    "## __Maximum Likelihood Estimation of the Binomial Model (Frequentist)__"
   ]
  },
  {
   "cell_type": "code",
   "execution_count": 16,
   "id": "bf407c83",
   "metadata": {},
   "outputs": [
    {
     "data": {
      "text/plain": [
       "(0.41, 0.04943110704237103)"
      ]
     },
     "execution_count": 16,
     "metadata": {},
     "output_type": "execute_result"
    }
   ],
   "source": [
    "N = len(flips)\n",
    "xbar = flips.mean()\n",
    "se = np.std(flips, ddof=1) / np.sqrt(N)\n",
    "(xbar, se)"
   ]
  },
  {
   "cell_type": "code",
   "execution_count": 19,
   "id": "b3d93235",
   "metadata": {},
   "outputs": [
    {
     "data": {
      "text/plain": [
       "(0.31191795947468715, 0.5080820405253128)"
      ]
     },
     "execution_count": 19,
     "metadata": {},
     "output_type": "execute_result"
    }
   ],
   "source": [
    "## 95% CI\n",
    "alpha = 0.05\n",
    "lq = stats.t(N-1).ppf(alpha/2.)\n",
    "uq = stats.t(N-1).ppf(1. - (alpha/2.))\n",
    "(xbar + lq*se, xbar + uq*se)"
   ]
  },
  {
   "cell_type": "code",
   "execution_count": 20,
   "id": "0a282739",
   "metadata": {},
   "outputs": [
    {
     "data": {
      "text/plain": [
       "(0.3279250270357362, 0.49207497296426367)"
      ]
     },
     "execution_count": 20,
     "metadata": {},
     "output_type": "execute_result"
    }
   ],
   "source": [
    "## 90% CI\n",
    "alpha = 0.1\n",
    "lq = stats.t(N-1).ppf(alpha/2.)\n",
    "uq = stats.t(N-1).ppf(1. - (alpha/2.))\n",
    "(xbar + lq*se, xbar + uq*se)"
   ]
  },
  {
   "cell_type": "code",
   "execution_count": 22,
   "id": "457bb840",
   "metadata": {},
   "outputs": [
    {
     "data": {
      "text/plain": [
       "(0.2801738707487565, 0.5398261292512434)"
      ]
     },
     "execution_count": 22,
     "metadata": {},
     "output_type": "execute_result"
    }
   ],
   "source": [
    "## 99% CI\n",
    "alpha = 0.01\n",
    "lq = stats.t(N-1).ppf(alpha/2.)\n",
    "uq = stats.t(N-1).ppf(1. - (alpha/2.))\n",
    "(xbar + lq*se, xbar + uq*se)"
   ]
  },
  {
   "cell_type": "code",
   "execution_count": null,
   "id": "b0998076",
   "metadata": {},
   "outputs": [],
   "source": []
  },
  {
   "cell_type": "markdown",
   "id": "f6194beb",
   "metadata": {},
   "source": [
    "## __Bootstrap Analysis of the Binomial Model__"
   ]
  },
  {
   "cell_type": "code",
   "execution_count": 23,
   "id": "59dc28c0",
   "metadata": {},
   "outputs": [],
   "source": [
    "N = len(flips)\n",
    "B = 10_000\n",
    "bbar = np.zeros(B)\n",
    "\n",
    "for b in range(B):\n",
    "    boot_flips = np.random.choice(flips, size=N, replace=True)\n",
    "    bbar[b] = np.mean(boot_flips)"
   ]
  },
  {
   "cell_type": "code",
   "execution_count": 31,
   "id": "2ed216fd",
   "metadata": {},
   "outputs": [
    {
     "data": {
      "image/png": "[encoded data removed]",
      "text/plain": [
       "<Figure size 720x576 with 1 Axes>"
      ]
     },
     "metadata": {
      "needs_background": "light"
     },
     "output_type": "display_data"
    }
   ],
   "source": [
    "plt.hist(bbar, bins=50);"
   ]
  },
  {
   "cell_type": "code",
   "execution_count": 33,
   "id": "7fe02d59",
   "metadata": {},
   "outputs": [],
   "source": [
    "bbar.sort()"
   ]
  },
  {
   "cell_type": "code",
   "execution_count": 36,
   "id": "54ec0b07",
   "metadata": {},
   "outputs": [],
   "source": [
    "## 95% Bootstrap CI\n",
    "alpha = 0.05\n",
    "lo = int(B * (alpha / 2.))\n",
    "hi = int(B * (1. - (alpha / 2.)))"
   ]
  },
  {
   "cell_type": "code",
   "execution_count": 39,
   "id": "d12306c9",
   "metadata": {},
   "outputs": [
    {
     "data": {
      "text/plain": [
       "(250, 9750)"
      ]
     },
     "execution_count": 39,
     "metadata": {},
     "output_type": "execute_result"
    }
   ],
   "source": [
    "lo, hi"
   ]
  },
  {
   "cell_type": "code",
   "execution_count": null,
   "id": "e835393d",
   "metadata": {},
   "outputs": [],
   "source": [
    "(bbar[lo], bbar[hi])"
   ]
  },
  {
   "cell_type": "code",
   "execution_count": 41,
   "id": "fbb9be8e",
   "metadata": {},
   "outputs": [],
   "source": [
    "## 90% Bootstrap CI\n",
    "alpha = 0.1\n",
    "lo = int(B * (alpha / 2.))\n",
    "hi = int(B * (1. - (alpha / 2.)))"
   ]
  },
  {
   "cell_type": "code",
   "execution_count": 42,
   "id": "10bf20b4",
   "metadata": {},
   "outputs": [
    {
     "data": {
      "text/plain": [
       "(500, 9500)"
      ]
     },
     "execution_count": 42,
     "metadata": {},
     "output_type": "execute_result"
    }
   ],
   "source": [
    "lo, hi"
   ]
  },
  {
   "cell_type": "code",
   "execution_count": 43,
   "id": "224cfefa",
   "metadata": {},
   "outputs": [
    {
     "data": {
      "text/plain": [
       "(0.33, 0.49)"
      ]
     },
     "execution_count": 43,
     "metadata": {},
     "output_type": "execute_result"
    }
   ],
   "source": [
    "(bbar[lo], bbar[hi])"
   ]
  },
  {
   "cell_type": "code",
   "execution_count": 44,
   "id": "b0cded1b",
   "metadata": {},
   "outputs": [],
   "source": [
    "## 99% Bootstrap CI\n",
    "alpha = 0.01\n",
    "lo = int(B * (alpha / 2.))\n",
    "hi = int(B * (1. - (alpha / 2.)))"
   ]
  },
  {
   "cell_type": "code",
   "execution_count": 45,
   "id": "f54bc0e9",
   "metadata": {},
   "outputs": [
    {
     "data": {
      "text/plain": [
       "(50, 9950)"
      ]
     },
     "execution_count": 45,
     "metadata": {},
     "output_type": "execute_result"
    }
   ],
   "source": [
    "lo, hi"
   ]
  },
  {
   "cell_type": "code",
   "execution_count": 46,
   "id": "749cce8f",
   "metadata": {},
   "outputs": [
    {
     "data": {
      "text/plain": [
       "(0.29, 0.53)"
      ]
     },
     "execution_count": 46,
     "metadata": {},
     "output_type": "execute_result"
    }
   ],
   "source": [
    "(bbar[lo], bbar[hi])"
   ]
  },
  {
   "cell_type": "code",
   "execution_count": null,
   "id": "022c3d00",
   "metadata": {},
   "outputs": [],
   "source": []
  }
 ],
 "metadata": {
  "kernelspec": {
   "display_name": "Python 3",
   "language": "python",
   "name": "python3"
  },
  "language_info": {
   "codemirror_mode": {
    "name": "ipython",
    "version": 3
   },
   "file_extension": ".py",
   "mimetype": "text/x-python",
   "name": "python",
   "nbconvert_exporter": "python",
   "pygments_lexer": "ipython3",
   "version": "3.8.11"
  }
 },
 "nbformat": 4,
 "nbformat_minor": 5
}
