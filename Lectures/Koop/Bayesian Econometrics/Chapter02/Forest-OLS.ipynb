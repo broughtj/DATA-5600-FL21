{
 "cells": [
  {
   "cell_type": "code",
   "execution_count": 6,
   "id": "a21b405f",
   "metadata": {},
   "outputs": [],
   "source": [
    "import numpy as np\n",
    "import pandas as pd\n",
    "import statsmodels.api as sm"
   ]
  },
  {
   "cell_type": "code",
   "execution_count": 7,
   "id": "ff0bd77f",
   "metadata": {},
   "outputs": [],
   "source": [
    "raw_data = pd.read_excel(\"FOREST.XLS\")"
   ]
  },
  {
   "cell_type": "code",
   "execution_count": 8,
   "id": "1cd46647",
   "metadata": {},
   "outputs": [
    {
     "data": {
      "text/html": [
       "<div>\n",
       "<style scoped>\n",
       "    .dataframe tbody tr th:only-of-type {\n",
       "        vertical-align: middle;\n",
       "    }\n",
       "\n",
       "    .dataframe tbody tr th {\n",
       "        vertical-align: top;\n",
       "    }\n",
       "\n",
       "    .dataframe thead th {\n",
       "        text-align: right;\n",
       "    }\n",
       "</style>\n",
       "<table border=\"1\" class=\"dataframe\">\n",
       "  <thead>\n",
       "    <tr style=\"text-align: right;\">\n",
       "      <th></th>\n",
       "      <th>Forest loss</th>\n",
       "      <th>Pop dens</th>\n",
       "      <th>Crop ch</th>\n",
       "      <th>Pasture ch</th>\n",
       "    </tr>\n",
       "  </thead>\n",
       "  <tbody>\n",
       "    <tr>\n",
       "      <th>0</th>\n",
       "      <td>0.7</td>\n",
       "      <td>357.0</td>\n",
       "      <td>27.9</td>\n",
       "      <td>0.0</td>\n",
       "    </tr>\n",
       "    <tr>\n",
       "      <th>1</th>\n",
       "      <td>0.7</td>\n",
       "      <td>48.0</td>\n",
       "      <td>1.7</td>\n",
       "      <td>0.0</td>\n",
       "    </tr>\n",
       "    <tr>\n",
       "      <th>2</th>\n",
       "      <td>0.8</td>\n",
       "      <td>932.0</td>\n",
       "      <td>14.5</td>\n",
       "      <td>0.0</td>\n",
       "    </tr>\n",
       "    <tr>\n",
       "      <th>3</th>\n",
       "      <td>0.7</td>\n",
       "      <td>366.0</td>\n",
       "      <td>17.9</td>\n",
       "      <td>0.0</td>\n",
       "    </tr>\n",
       "    <tr>\n",
       "      <th>4</th>\n",
       "      <td>0.8</td>\n",
       "      <td>83.0</td>\n",
       "      <td>2.2</td>\n",
       "      <td>0.0</td>\n",
       "    </tr>\n",
       "  </tbody>\n",
       "</table>\n",
       "</div>"
      ],
      "text/plain": [
       "   Forest loss  Pop dens  Crop ch  Pasture ch\n",
       "0          0.7     357.0     27.9         0.0\n",
       "1          0.7      48.0      1.7         0.0\n",
       "2          0.8     932.0     14.5         0.0\n",
       "3          0.7     366.0     17.9         0.0\n",
       "4          0.8      83.0      2.2         0.0"
      ]
     },
     "execution_count": 8,
     "metadata": {},
     "output_type": "execute_result"
    }
   ],
   "source": [
    "raw_data.head()"
   ]
  },
  {
   "cell_type": "code",
   "execution_count": 9,
   "id": "21228bed",
   "metadata": {},
   "outputs": [],
   "source": [
    "y = raw_data['Forest loss']\n",
    "x = raw_data['Pop dens']\n",
    "X = sm.add_constant(x)"
   ]
  },
  {
   "cell_type": "code",
   "execution_count": 10,
   "id": "535fdd3a",
   "metadata": {},
   "outputs": [
    {
     "name": "stdout",
     "output_type": "stream",
     "text": [
      "                            OLS Regression Results                            \n",
      "==============================================================================\n",
      "Dep. Variable:            Forest loss   R-squared:                       0.434\n",
      "Model:                            OLS   Adj. R-squared:                  0.426\n",
      "Method:                 Least Squares   F-statistic:                     52.24\n",
      "Date:                Wed, 08 Dec 2021   Prob (F-statistic):           5.50e-10\n",
      "Time:                        10:38:09   Log-Likelihood:                -73.655\n",
      "No. Observations:                  70   AIC:                             151.3\n",
      "Df Residuals:                      68   BIC:                             155.8\n",
      "Df Model:                           1                                         \n",
      "Covariance Type:            nonrobust                                         \n",
      "==============================================================================\n",
      "                 coef    std err          t      P>|t|      [0.025      0.975]\n",
      "------------------------------------------------------------------------------\n",
      "const          0.6000      0.112      5.342      0.000       0.376       0.824\n",
      "Pop dens       0.0008      0.000      7.228      0.000       0.001       0.001\n",
      "==============================================================================\n",
      "Omnibus:                       21.745   Durbin-Watson:                   2.045\n",
      "Prob(Omnibus):                  0.000   Jarque-Bera (JB):               36.165\n",
      "Skew:                           1.136   Prob(JB):                     1.40e-08\n",
      "Kurtosis:                       5.691   Cond. No.                     1.29e+03\n",
      "==============================================================================\n",
      "\n",
      "Notes:\n",
      "[1] Standard Errors assume that the covariance matrix of the errors is correctly specified.\n",
      "[2] The condition number is large, 1.29e+03. This might indicate that there are\n",
      "strong multicollinearity or other numerical problems.\n"
     ]
    }
   ],
   "source": [
    "model = sm.OLS(y, X)\n",
    "results = model.fit()\n",
    "print(results.summary())"
   ]
  },
  {
   "cell_type": "code",
   "execution_count": 11,
   "id": "0e5f2a19",
   "metadata": {},
   "outputs": [
    {
     "data": {
      "text/plain": [
       "0.698008420354728"
      ]
     },
     "execution_count": 11,
     "metadata": {},
     "output_type": "execute_result"
    }
   ],
   "source": [
    "np.std(results.resid, ddof=1)"
   ]
  },
  {
   "cell_type": "code",
   "execution_count": null,
   "id": "7748a69c",
   "metadata": {},
   "outputs": [],
   "source": []
  },
  {
   "cell_type": "code",
   "execution_count": 12,
   "id": "a457a682",
   "metadata": {},
   "outputs": [],
   "source": [
    "x = raw_data[['Pop dens', 'Crop ch']]\n",
    "X = sm.add_constant(x)"
   ]
  },
  {
   "cell_type": "code",
   "execution_count": 13,
   "id": "7543326f",
   "metadata": {},
   "outputs": [
    {
     "name": "stdout",
     "output_type": "stream",
     "text": [
      "                            OLS Regression Results                            \n",
      "==============================================================================\n",
      "Dep. Variable:            Forest loss   R-squared:                       0.435\n",
      "Model:                            OLS   Adj. R-squared:                  0.419\n",
      "Method:                 Least Squares   F-statistic:                     25.84\n",
      "Date:                Wed, 08 Dec 2021   Prob (F-statistic):           4.80e-09\n",
      "Time:                        11:01:10   Log-Likelihood:                -73.594\n",
      "No. Observations:                  70   AIC:                             153.2\n",
      "Df Residuals:                      67   BIC:                             159.9\n",
      "Df Model:                           2                                         \n",
      "Covariance Type:            nonrobust                                         \n",
      "==============================================================================\n",
      "                 coef    std err          t      P>|t|      [0.025      0.975]\n",
      "------------------------------------------------------------------------------\n",
      "const          0.5721      0.139      4.108      0.000       0.294       0.850\n",
      "Pop dens       0.0008      0.000      7.166      0.000       0.001       0.001\n",
      "Crop ch        0.0035      0.010      0.343      0.733      -0.017       0.024\n",
      "==============================================================================\n",
      "Omnibus:                       21.263   Durbin-Watson:                   2.058\n",
      "Prob(Omnibus):                  0.000   Jarque-Bera (JB):               35.009\n",
      "Skew:                           1.115   Prob(JB):                     2.50e-08\n",
      "Kurtosis:                       5.652   Cond. No.                     1.59e+03\n",
      "==============================================================================\n",
      "\n",
      "Notes:\n",
      "[1] Standard Errors assume that the covariance matrix of the errors is correctly specified.\n",
      "[2] The condition number is large, 1.59e+03. This might indicate that there are\n",
      "strong multicollinearity or other numerical problems.\n"
     ]
    }
   ],
   "source": [
    "model2 = sm.OLS(y, X)\n",
    "results2 = model2.fit()\n",
    "print(results2.summary())"
   ]
  },
  {
   "cell_type": "code",
   "execution_count": null,
   "id": "d1db8b5f",
   "metadata": {},
   "outputs": [],
   "source": []
  }
 ],
 "metadata": {
  "kernelspec": {
   "display_name": "Python 3",
   "language": "python",
   "name": "python3"
  },
  "language_info": {
   "codemirror_mode": {
    "name": "ipython",
    "version": 3
   },
   "file_extension": ".py",
   "mimetype": "text/x-python",
   "name": "python",
   "nbconvert_exporter": "python",
   "pygments_lexer": "ipython3",
   "version": "3.8.11"
  }
 },
 "nbformat": 4,
 "nbformat_minor": 5
}
