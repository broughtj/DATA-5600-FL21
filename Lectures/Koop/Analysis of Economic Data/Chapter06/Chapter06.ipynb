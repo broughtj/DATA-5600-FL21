{
 "cells": [
  {
   "cell_type": "markdown",
   "metadata": {},
   "source": [
    "# DATA 5600: Introduction to Regression and Machine Learning for Analytics\n",
    "\n",
    "## __Koop Chapter 06: Multiple Regression__\n",
    "\n",
    "<br>\n",
    "\n",
    "Author:  Tyler J. Brough <br>\n",
    "Updated: November 15, 2021 <br>\n",
    "\n",
    "---\n",
    "\n",
    "<br>"
   ]
  },
  {
   "cell_type": "code",
   "execution_count": 1,
   "metadata": {},
   "outputs": [],
   "source": [
    "import numpy as np\n",
    "import pandas as pd\n",
    "from scipy import stats\n",
    "import matplotlib.pyplot as plt\n",
    "import statsmodels.api as sm\n",
    "\n",
    "plt.rcParams['figure.figsize'] = [10, 8]"
   ]
  },
  {
   "cell_type": "markdown",
   "metadata": {},
   "source": [
    "---"
   ]
  },
  {
   "cell_type": "markdown",
   "metadata": {},
   "source": [
    "## __Introduction__\n",
    "\n",
    "<br>\n",
    "\n",
    "These notes are based upon Chapter 6: Multiple Regression from the book _Analysis of Economic Data 4th Edition_ by Gary Koop.\n",
    "\n",
    "<br>\n",
    "\n",
    "The main objectives of chapters 4 & 5 were the following: \n",
    "\n",
    "* development of graphical intuition for regression techniques as the fitting of a straight line through an $XY$-plot\n",
    "\n",
    "* introduction of the regression coefficient as measuring a marginal effect\n",
    "\n",
    "* description of the OLS estimate as a best fitting line (minimizing the SSR) through an $XY$-plot\n",
    "\n",
    "* introduction of $R^{2}$ as a measure of fit of a regression model\n",
    "\n",
    "* understanding regression as a probability model\n",
    "\n",
    "<br>\n",
    "\n",
    "The objectives of multiple regression are not different from these listed above. We will extend these objectives to the case of multiple regressors or explanatory or right-hand side variables.\n",
    "\n",
    "<br>\n"
   ]
  },
  {
   "cell_type": "markdown",
   "metadata": {},
   "source": [
    "### __Explaining House Prices__\n",
    "\n",
    "<br>\n",
    "\n",
    "* applied microeconometrics models to try to explain the price of a good as explained by several characteristics\n",
    "\n",
    "* We will use the `HPRICE.XLS` dataset\n",
    "\n",
    "* $N = 546$ houses sold in Windsor, Canada\n",
    "\n",
    "* The LHS variable $Y$ is the selling price of the house\n",
    "\n",
    "* In the simple regression context $X =$ lot size\n",
    "\n",
    "* We introduce the following additional RHS variables:\n",
    "\n",
    "    1. $X_{1} =$ the lot size of the property (square feet)\n",
    "\n",
    "    2. $X_{2} =$ the number of bedrooms\n",
    "\n",
    "    3. $X_{3} =$ the number of bathroooms\n",
    "\n",
    "    4. $X_{4} =$ the number of storeys (excluding basement)\n",
    "\n",
    "<br>"
   ]
  },
  {
   "cell_type": "markdown",
   "metadata": {},
   "source": [
    "---\n",
    "\n",
    "### Exercise 6.1\n",
    "\n",
    "* (a) Create $XY$-plots using the four explanatory variables in the house pricing example one at a time\n",
    "\n",
    "* (b) Perform simple regressions using the explanatory variables one at a time (i.e. regress $Y$ on $X_{1}$, then $Y$ on $X_{2}$, and so on)\n",
    "\n",
    "* (c) Comment on the relationships you find in parts (a) and (b)\n",
    "\n"
   ]
  },
  {
   "cell_type": "code",
   "execution_count": 2,
   "metadata": {},
   "outputs": [
    {
     "data": {
      "text/html": [
       "<div>\n",
       "<style scoped>\n",
       "    .dataframe tbody tr th:only-of-type {\n",
       "        vertical-align: middle;\n",
       "    }\n",
       "\n",
       "    .dataframe tbody tr th {\n",
       "        vertical-align: top;\n",
       "    }\n",
       "\n",
       "    .dataframe thead th {\n",
       "        text-align: right;\n",
       "    }\n",
       "</style>\n",
       "<table border=\"1\" class=\"dataframe\">\n",
       "  <thead>\n",
       "    <tr style=\"text-align: right;\">\n",
       "      <th></th>\n",
       "      <th>sale price</th>\n",
       "      <th>lot size</th>\n",
       "      <th>#bedroom</th>\n",
       "      <th>#bath</th>\n",
       "      <th>#stories</th>\n",
       "      <th>driveway</th>\n",
       "      <th>rec room</th>\n",
       "      <th>basement</th>\n",
       "      <th>gas</th>\n",
       "      <th>air cond</th>\n",
       "      <th>#garage</th>\n",
       "      <th>desire loc</th>\n",
       "    </tr>\n",
       "  </thead>\n",
       "  <tbody>\n",
       "    <tr>\n",
       "      <th>0</th>\n",
       "      <td>42000</td>\n",
       "      <td>5850</td>\n",
       "      <td>3</td>\n",
       "      <td>1</td>\n",
       "      <td>2</td>\n",
       "      <td>1</td>\n",
       "      <td>0</td>\n",
       "      <td>1</td>\n",
       "      <td>0</td>\n",
       "      <td>0</td>\n",
       "      <td>1</td>\n",
       "      <td>0</td>\n",
       "    </tr>\n",
       "    <tr>\n",
       "      <th>1</th>\n",
       "      <td>38500</td>\n",
       "      <td>4000</td>\n",
       "      <td>2</td>\n",
       "      <td>1</td>\n",
       "      <td>1</td>\n",
       "      <td>1</td>\n",
       "      <td>0</td>\n",
       "      <td>0</td>\n",
       "      <td>0</td>\n",
       "      <td>0</td>\n",
       "      <td>0</td>\n",
       "      <td>0</td>\n",
       "    </tr>\n",
       "    <tr>\n",
       "      <th>2</th>\n",
       "      <td>49500</td>\n",
       "      <td>3060</td>\n",
       "      <td>3</td>\n",
       "      <td>1</td>\n",
       "      <td>1</td>\n",
       "      <td>1</td>\n",
       "      <td>0</td>\n",
       "      <td>0</td>\n",
       "      <td>0</td>\n",
       "      <td>0</td>\n",
       "      <td>0</td>\n",
       "      <td>0</td>\n",
       "    </tr>\n",
       "    <tr>\n",
       "      <th>3</th>\n",
       "      <td>60500</td>\n",
       "      <td>6650</td>\n",
       "      <td>3</td>\n",
       "      <td>1</td>\n",
       "      <td>2</td>\n",
       "      <td>1</td>\n",
       "      <td>1</td>\n",
       "      <td>0</td>\n",
       "      <td>0</td>\n",
       "      <td>0</td>\n",
       "      <td>0</td>\n",
       "      <td>0</td>\n",
       "    </tr>\n",
       "    <tr>\n",
       "      <th>4</th>\n",
       "      <td>61000</td>\n",
       "      <td>6360</td>\n",
       "      <td>2</td>\n",
       "      <td>1</td>\n",
       "      <td>1</td>\n",
       "      <td>1</td>\n",
       "      <td>0</td>\n",
       "      <td>0</td>\n",
       "      <td>0</td>\n",
       "      <td>0</td>\n",
       "      <td>0</td>\n",
       "      <td>0</td>\n",
       "    </tr>\n",
       "  </tbody>\n",
       "</table>\n",
       "</div>"
      ],
      "text/plain": [
       "   sale price  lot size  #bedroom  #bath  #stories  driveway  rec room  \\\n",
       "0       42000      5850         3      1         2         1         0   \n",
       "1       38500      4000         2      1         1         1         0   \n",
       "2       49500      3060         3      1         1         1         0   \n",
       "3       60500      6650         3      1         2         1         1   \n",
       "4       61000      6360         2      1         1         1         0   \n",
       "\n",
       "   basement  gas  air cond  #garage  desire loc  \n",
       "0         1    0         0        1           0  \n",
       "1         0    0         0        0           0  \n",
       "2         0    0         0        0           0  \n",
       "3         0    0         0        0           0  \n",
       "4         0    0         0        0           0  "
      ]
     },
     "execution_count": 2,
     "metadata": {},
     "output_type": "execute_result"
    }
   ],
   "source": [
    "df = pd.read_excel(\"HPRICE.XLS\")\n",
    "df.head()"
   ]
  },
  {
   "cell_type": "code",
   "execution_count": 3,
   "metadata": {},
   "outputs": [
    {
     "data": {
      "text/html": [
       "<div>\n",
       "<style scoped>\n",
       "    .dataframe tbody tr th:only-of-type {\n",
       "        vertical-align: middle;\n",
       "    }\n",
       "\n",
       "    .dataframe tbody tr th {\n",
       "        vertical-align: top;\n",
       "    }\n",
       "\n",
       "    .dataframe thead th {\n",
       "        text-align: right;\n",
       "    }\n",
       "</style>\n",
       "<table border=\"1\" class=\"dataframe\">\n",
       "  <thead>\n",
       "    <tr style=\"text-align: right;\">\n",
       "      <th></th>\n",
       "      <th>sale price</th>\n",
       "      <th>lot size</th>\n",
       "      <th>#bedroom</th>\n",
       "      <th>#bath</th>\n",
       "      <th>#stories</th>\n",
       "      <th>driveway</th>\n",
       "      <th>rec room</th>\n",
       "      <th>basement</th>\n",
       "      <th>gas</th>\n",
       "      <th>air cond</th>\n",
       "      <th>#garage</th>\n",
       "      <th>desire loc</th>\n",
       "    </tr>\n",
       "  </thead>\n",
       "  <tbody>\n",
       "    <tr>\n",
       "      <th>541</th>\n",
       "      <td>91500</td>\n",
       "      <td>4800</td>\n",
       "      <td>3</td>\n",
       "      <td>2</td>\n",
       "      <td>4</td>\n",
       "      <td>1</td>\n",
       "      <td>1</td>\n",
       "      <td>0</td>\n",
       "      <td>0</td>\n",
       "      <td>1</td>\n",
       "      <td>0</td>\n",
       "      <td>0</td>\n",
       "    </tr>\n",
       "    <tr>\n",
       "      <th>542</th>\n",
       "      <td>94000</td>\n",
       "      <td>6000</td>\n",
       "      <td>3</td>\n",
       "      <td>2</td>\n",
       "      <td>4</td>\n",
       "      <td>1</td>\n",
       "      <td>0</td>\n",
       "      <td>0</td>\n",
       "      <td>0</td>\n",
       "      <td>1</td>\n",
       "      <td>0</td>\n",
       "      <td>0</td>\n",
       "    </tr>\n",
       "    <tr>\n",
       "      <th>543</th>\n",
       "      <td>103000</td>\n",
       "      <td>6000</td>\n",
       "      <td>3</td>\n",
       "      <td>2</td>\n",
       "      <td>4</td>\n",
       "      <td>1</td>\n",
       "      <td>1</td>\n",
       "      <td>0</td>\n",
       "      <td>0</td>\n",
       "      <td>1</td>\n",
       "      <td>1</td>\n",
       "      <td>0</td>\n",
       "    </tr>\n",
       "    <tr>\n",
       "      <th>544</th>\n",
       "      <td>105000</td>\n",
       "      <td>6000</td>\n",
       "      <td>3</td>\n",
       "      <td>2</td>\n",
       "      <td>2</td>\n",
       "      <td>1</td>\n",
       "      <td>1</td>\n",
       "      <td>0</td>\n",
       "      <td>0</td>\n",
       "      <td>1</td>\n",
       "      <td>1</td>\n",
       "      <td>0</td>\n",
       "    </tr>\n",
       "    <tr>\n",
       "      <th>545</th>\n",
       "      <td>105000</td>\n",
       "      <td>6000</td>\n",
       "      <td>3</td>\n",
       "      <td>1</td>\n",
       "      <td>2</td>\n",
       "      <td>1</td>\n",
       "      <td>0</td>\n",
       "      <td>0</td>\n",
       "      <td>0</td>\n",
       "      <td>1</td>\n",
       "      <td>1</td>\n",
       "      <td>0</td>\n",
       "    </tr>\n",
       "  </tbody>\n",
       "</table>\n",
       "</div>"
      ],
      "text/plain": [
       "     sale price  lot size  #bedroom  #bath  #stories  driveway  rec room  \\\n",
       "541       91500      4800         3      2         4         1         1   \n",
       "542       94000      6000         3      2         4         1         0   \n",
       "543      103000      6000         3      2         4         1         1   \n",
       "544      105000      6000         3      2         2         1         1   \n",
       "545      105000      6000         3      1         2         1         0   \n",
       "\n",
       "     basement  gas  air cond  #garage  desire loc  \n",
       "541         0    0         1        0           0  \n",
       "542         0    0         1        0           0  \n",
       "543         0    0         1        1           0  \n",
       "544         0    0         1        1           0  \n",
       "545         0    0         1        1           0  "
      ]
     },
     "execution_count": 3,
     "metadata": {},
     "output_type": "execute_result"
    }
   ],
   "source": [
    "df.tail()"
   ]
  },
  {
   "cell_type": "code",
   "execution_count": 4,
   "metadata": {},
   "outputs": [
    {
     "data": {
      "text/html": [
       "<div>\n",
       "<style scoped>\n",
       "    .dataframe tbody tr th:only-of-type {\n",
       "        vertical-align: middle;\n",
       "    }\n",
       "\n",
       "    .dataframe tbody tr th {\n",
       "        vertical-align: top;\n",
       "    }\n",
       "\n",
       "    .dataframe thead th {\n",
       "        text-align: right;\n",
       "    }\n",
       "</style>\n",
       "<table border=\"1\" class=\"dataframe\">\n",
       "  <thead>\n",
       "    <tr style=\"text-align: right;\">\n",
       "      <th></th>\n",
       "      <th>sale price</th>\n",
       "      <th>lot size</th>\n",
       "      <th>#bedroom</th>\n",
       "      <th>#bath</th>\n",
       "      <th>#stories</th>\n",
       "      <th>driveway</th>\n",
       "      <th>rec room</th>\n",
       "      <th>basement</th>\n",
       "      <th>gas</th>\n",
       "      <th>air cond</th>\n",
       "      <th>#garage</th>\n",
       "      <th>desire loc</th>\n",
       "    </tr>\n",
       "  </thead>\n",
       "  <tbody>\n",
       "    <tr>\n",
       "      <th>count</th>\n",
       "      <td>546.000000</td>\n",
       "      <td>546.000000</td>\n",
       "      <td>546.000000</td>\n",
       "      <td>546.000000</td>\n",
       "      <td>546.000000</td>\n",
       "      <td>546.000000</td>\n",
       "      <td>546.000000</td>\n",
       "      <td>546.000000</td>\n",
       "      <td>546.000000</td>\n",
       "      <td>546.000000</td>\n",
       "      <td>546.000000</td>\n",
       "      <td>546.000000</td>\n",
       "    </tr>\n",
       "    <tr>\n",
       "      <th>mean</th>\n",
       "      <td>68121.597070</td>\n",
       "      <td>5150.265568</td>\n",
       "      <td>2.965201</td>\n",
       "      <td>1.285714</td>\n",
       "      <td>1.807692</td>\n",
       "      <td>0.858974</td>\n",
       "      <td>0.177656</td>\n",
       "      <td>0.349817</td>\n",
       "      <td>0.045788</td>\n",
       "      <td>0.316850</td>\n",
       "      <td>0.692308</td>\n",
       "      <td>0.234432</td>\n",
       "    </tr>\n",
       "    <tr>\n",
       "      <th>std</th>\n",
       "      <td>26702.670926</td>\n",
       "      <td>2168.158725</td>\n",
       "      <td>0.737388</td>\n",
       "      <td>0.502158</td>\n",
       "      <td>0.868203</td>\n",
       "      <td>0.348367</td>\n",
       "      <td>0.382573</td>\n",
       "      <td>0.477349</td>\n",
       "      <td>0.209216</td>\n",
       "      <td>0.465675</td>\n",
       "      <td>0.861307</td>\n",
       "      <td>0.424032</td>\n",
       "    </tr>\n",
       "    <tr>\n",
       "      <th>min</th>\n",
       "      <td>25000.000000</td>\n",
       "      <td>1650.000000</td>\n",
       "      <td>1.000000</td>\n",
       "      <td>1.000000</td>\n",
       "      <td>1.000000</td>\n",
       "      <td>0.000000</td>\n",
       "      <td>0.000000</td>\n",
       "      <td>0.000000</td>\n",
       "      <td>0.000000</td>\n",
       "      <td>0.000000</td>\n",
       "      <td>0.000000</td>\n",
       "      <td>0.000000</td>\n",
       "    </tr>\n",
       "    <tr>\n",
       "      <th>25%</th>\n",
       "      <td>49125.000000</td>\n",
       "      <td>3600.000000</td>\n",
       "      <td>2.000000</td>\n",
       "      <td>1.000000</td>\n",
       "      <td>1.000000</td>\n",
       "      <td>1.000000</td>\n",
       "      <td>0.000000</td>\n",
       "      <td>0.000000</td>\n",
       "      <td>0.000000</td>\n",
       "      <td>0.000000</td>\n",
       "      <td>0.000000</td>\n",
       "      <td>0.000000</td>\n",
       "    </tr>\n",
       "    <tr>\n",
       "      <th>50%</th>\n",
       "      <td>62000.000000</td>\n",
       "      <td>4600.000000</td>\n",
       "      <td>3.000000</td>\n",
       "      <td>1.000000</td>\n",
       "      <td>2.000000</td>\n",
       "      <td>1.000000</td>\n",
       "      <td>0.000000</td>\n",
       "      <td>0.000000</td>\n",
       "      <td>0.000000</td>\n",
       "      <td>0.000000</td>\n",
       "      <td>0.000000</td>\n",
       "      <td>0.000000</td>\n",
       "    </tr>\n",
       "    <tr>\n",
       "      <th>75%</th>\n",
       "      <td>82000.000000</td>\n",
       "      <td>6360.000000</td>\n",
       "      <td>3.000000</td>\n",
       "      <td>2.000000</td>\n",
       "      <td>2.000000</td>\n",
       "      <td>1.000000</td>\n",
       "      <td>0.000000</td>\n",
       "      <td>1.000000</td>\n",
       "      <td>0.000000</td>\n",
       "      <td>1.000000</td>\n",
       "      <td>1.000000</td>\n",
       "      <td>0.000000</td>\n",
       "    </tr>\n",
       "    <tr>\n",
       "      <th>max</th>\n",
       "      <td>190000.000000</td>\n",
       "      <td>16200.000000</td>\n",
       "      <td>6.000000</td>\n",
       "      <td>4.000000</td>\n",
       "      <td>4.000000</td>\n",
       "      <td>1.000000</td>\n",
       "      <td>1.000000</td>\n",
       "      <td>1.000000</td>\n",
       "      <td>1.000000</td>\n",
       "      <td>1.000000</td>\n",
       "      <td>3.000000</td>\n",
       "      <td>1.000000</td>\n",
       "    </tr>\n",
       "  </tbody>\n",
       "</table>\n",
       "</div>"
      ],
      "text/plain": [
       "          sale price      lot size    #bedroom       #bath    #stories  \\\n",
       "count     546.000000    546.000000  546.000000  546.000000  546.000000   \n",
       "mean    68121.597070   5150.265568    2.965201    1.285714    1.807692   \n",
       "std     26702.670926   2168.158725    0.737388    0.502158    0.868203   \n",
       "min     25000.000000   1650.000000    1.000000    1.000000    1.000000   \n",
       "25%     49125.000000   3600.000000    2.000000    1.000000    1.000000   \n",
       "50%     62000.000000   4600.000000    3.000000    1.000000    2.000000   \n",
       "75%     82000.000000   6360.000000    3.000000    2.000000    2.000000   \n",
       "max    190000.000000  16200.000000    6.000000    4.000000    4.000000   \n",
       "\n",
       "         driveway    rec room    basement         gas    air cond     #garage  \\\n",
       "count  546.000000  546.000000  546.000000  546.000000  546.000000  546.000000   \n",
       "mean     0.858974    0.177656    0.349817    0.045788    0.316850    0.692308   \n",
       "std      0.348367    0.382573    0.477349    0.209216    0.465675    0.861307   \n",
       "min      0.000000    0.000000    0.000000    0.000000    0.000000    0.000000   \n",
       "25%      1.000000    0.000000    0.000000    0.000000    0.000000    0.000000   \n",
       "50%      1.000000    0.000000    0.000000    0.000000    0.000000    0.000000   \n",
       "75%      1.000000    0.000000    1.000000    0.000000    1.000000    1.000000   \n",
       "max      1.000000    1.000000    1.000000    1.000000    1.000000    3.000000   \n",
       "\n",
       "       desire loc  \n",
       "count  546.000000  \n",
       "mean     0.234432  \n",
       "std      0.424032  \n",
       "min      0.000000  \n",
       "25%      0.000000  \n",
       "50%      0.000000  \n",
       "75%      0.000000  \n",
       "max      1.000000  "
      ]
     },
     "execution_count": 4,
     "metadata": {},
     "output_type": "execute_result"
    }
   ],
   "source": [
    "df.describe()"
   ]
  },
  {
   "cell_type": "code",
   "execution_count": 5,
   "metadata": {},
   "outputs": [
    {
     "data": {
      "text/plain": [
       "[<matplotlib.lines.Line2D at 0x7f8ea052dc40>]"
      ]
     },
     "execution_count": 5,
     "metadata": {},
     "output_type": "execute_result"
    },
    {
     "data": {
      "image/png": "[encoded data removed]",
      "text/plain": [
       "<Figure size 720x576 with 1 Axes>"
      ]
     },
     "metadata": {
      "needs_background": "light"
     },
     "output_type": "display_data"
    }
   ],
   "source": [
    "### (a)\n",
    "plt.plot(df['lot size'], df['sale price'], '*', lw=2.0)"
   ]
  },
  {
   "cell_type": "code",
   "execution_count": null,
   "metadata": {},
   "outputs": [],
   "source": []
  },
  {
   "cell_type": "code",
   "execution_count": null,
   "metadata": {},
   "outputs": [],
   "source": []
  },
  {
   "cell_type": "code",
   "execution_count": null,
   "metadata": {},
   "outputs": [],
   "source": []
  },
  {
   "cell_type": "code",
   "execution_count": null,
   "metadata": {},
   "outputs": [],
   "source": []
  },
  {
   "cell_type": "code",
   "execution_count": null,
   "metadata": {},
   "outputs": [],
   "source": [
    "### (b)\n",
    "X1 = df['lot size']\n",
    "X1 = sm.add_constant(X1)\n",
    "model1 = sm.OLS(y, X1)\n",
    "results1 = model1.fit()\n",
    "print(results1.summary())"
   ]
  },
  {
   "cell_type": "code",
   "execution_count": null,
   "metadata": {},
   "outputs": [],
   "source": []
  },
  {
   "cell_type": "code",
   "execution_count": null,
   "metadata": {},
   "outputs": [],
   "source": []
  },
  {
   "cell_type": "code",
   "execution_count": null,
   "metadata": {},
   "outputs": [],
   "source": []
  },
  {
   "cell_type": "code",
   "execution_count": null,
   "metadata": {},
   "outputs": [],
   "source": []
  },
  {
   "cell_type": "markdown",
   "metadata": {},
   "source": [
    "#### (c) Comments...\n",
    "\n",
    "\n",
    "<br>\n",
    "\n",
    "---\n",
    "\n",
    "\n",
    "<br>"
   ]
  },
  {
   "cell_type": "markdown",
   "metadata": {},
   "source": [
    "### __Regression as a Best Fitting Line__\n",
    "\n",
    "<br>"
   ]
  },
  {
   "cell_type": "markdown",
   "metadata": {},
   "source": [
    "### __OLS Estimation of the Multiple Regression Model__\n",
    "\n",
    "<br>\n",
    "\n",
    "The multiple regression model with $k$ explanatory variables is written as:\n",
    "\n",
    "<br>\n",
    "\n",
    "$$\n",
    "Y = \\alpha + \\beta_{1}X_{1} + \\beta_{2}X_{2} + \\ldots + \\beta_{k}X_{k} + \\epsilon\n",
    "$$\n",
    "\n",
    "<br>\n",
    "\n",
    "We now have the following $\\theta = \\{\\alpha, \\beta_{1}, \\beta_{2}, \\ldots, \\beta_{k}\\}$ coefficients to estimate.\n",
    "\n",
    "We proceed as before by seeking parameter values that minimize the sum or squared residuals: \n",
    "\n",
    "<br>\n",
    "\n",
    "$$\n",
    "SSR = \\sum (Y_{i} - \\hat{\\alpha} - \\hat{\\beta_{1}}X_{1i} - \\ldots - \\hat{\\beta_{k}} X_{ki})^{2}\n",
    "$$\n",
    "\n",
    "<br>\n",
    "\n",
    "* where $X_{1i}$ is the $i$th observation of the first RHS variable for $i = 1, \\ldots, N$ observations.\n",
    "\n",
    "* the other RHS variables are likewise defined\n",
    "\n",
    "* The OLS estimates (interpreted as a best-fitting line) are found by choosing the values $\\hat{\\alpha}$ and $\\hat{\\beta_{1}}$, $\\hat{\\beta_{2}}$, $\\ldots$, $\\hat{\\beta_{k}}$ that minimize the SSR\n",
    "\n",
    "* Python modules calculate these for us \n",
    "\n",
    "<br>"
   ]
  },
  {
   "cell_type": "markdown",
   "metadata": {},
   "source": [
    "### __Multiple Regression as a Probability Model__\n",
    "\n",
    "<br>\n",
    "\n",
    "* multiple regression as a probability model is basically the same for simple regression\n",
    "\n",
    "* $R^{2}$ is still a measure of goodness of fit and is calculated the same way\n",
    "\n",
    "* Note: it should now be interpreted as a measure of the explanatory power of all the RHS variables together\n",
    "\n",
    "* We can continue to test each $\\beta$ coefficient in the standard null hypothesis: $H_{0}: \\quad \\beta_{j} = 0$\n",
    "\n",
    "* We will also introduce the $F$-statistic as a way to test if $R^{2} = 0$ for the model as a whole\n",
    "\n",
    "* If we find that $R^{2} \\ne 0$ then we conclude that \"we cannot reject the hypothesis that the explanatory variables in the regression, taken together, help explain the dependent variable\"\n",
    "\n",
    "* If we find that $R^{2} = 0$ then we conclude that \"the explanatory variables are not significant and do not provide any explanatory power for the dependent variable\"\n",
    "\n",
    "* The general formula for testing for the regression coefficient CIs is the same as in Chapter 5 for simple regression\n",
    "\n",
    "* It is important to remember that in this frequentist approach, the multiple regression as a "
   ]
  },
  {
   "cell_type": "markdown",
   "metadata": {},
   "source": [
    "### __Interpreting OLS Estimates__\n",
    "\n",
    "<br>\n",
    "\n",
    "* In the interpretation of the coefficients does introduce subtle differences between simple and multiple regression\n",
    "\n",
    "* When we speak generically about a property that holds generally for any of the coefficients we will write $\\beta_{j}$\n",
    "\n",
    "* When we wish to speak about a specific coefficient we will indicate it with an exact index (e.g. $\\beta_{1}$ for $j=1$)\n",
    "\n",
    "* In simple regression we mentioned that $\\beta$ could be interpreted as a marginal effect (i.e. a measure of the effect that a change in $X$ has on $Y$)\n",
    "\n",
    "* In multiple regression $\\beta_{j}$ can still be interpreted as a marginal effect\n",
    "\n",
    "* In particular, $\\beta_{j}$ is the marginal effect of $X$ on $Y$ when all other explanatory variables are held constant\n",
    "\n",
    "<br>\n",
    "\n",
    "We will look at the house price data next...\n",
    "\n",
    "<br>"
   ]
  },
  {
   "cell_type": "code",
   "execution_count": 6,
   "metadata": {},
   "outputs": [],
   "source": [
    "y = df['sale price']\n",
    "X = df[['lot size', '#bedroom', '#bath', '#stories']]\n",
    "X = sm.add_constant(X)"
   ]
  },
  {
   "cell_type": "code",
   "execution_count": 7,
   "metadata": {},
   "outputs": [
    {
     "name": "stdout",
     "output_type": "stream",
     "text": [
      "                            OLS Regression Results                            \n",
      "==============================================================================\n",
      "Dep. Variable:             sale price   R-squared:                       0.536\n",
      "Model:                            OLS   Adj. R-squared:                  0.532\n",
      "Method:                 Least Squares   F-statistic:                     156.0\n",
      "Date:                Wed, 17 Nov 2021   Prob (F-statistic):           1.18e-88\n",
      "Time:                        06:40:00   Log-Likelihood:                -6130.0\n",
      "No. Observations:                 546   AIC:                         1.227e+04\n",
      "Df Residuals:                     541   BIC:                         1.229e+04\n",
      "Df Model:                           4                                         \n",
      "Covariance Type:            nonrobust                                         \n",
      "==============================================================================\n",
      "                 coef    std err          t      P>|t|      [0.025      0.975]\n",
      "------------------------------------------------------------------------------\n",
      "const      -4009.5500   3603.109     -1.113      0.266   -1.11e+04    3068.248\n",
      "lot size       5.4292      0.369     14.703      0.000       4.704       6.155\n",
      "#bedroom    2824.6138   1214.808      2.325      0.020     438.296    5210.932\n",
      "#bath       1.711e+04   1734.434      9.862      0.000    1.37e+04    2.05e+04\n",
      "#stories    7634.8970   1007.974      7.574      0.000    5654.874    9614.920\n",
      "==============================================================================\n",
      "Omnibus:                       94.915   Durbin-Watson:                   1.483\n",
      "Prob(Omnibus):                  0.000   Jarque-Bera (JB):              232.320\n",
      "Skew:                           0.893   Prob(JB):                     3.57e-51\n",
      "Kurtosis:                       5.650   Cond. No.                     2.64e+04\n",
      "==============================================================================\n",
      "\n",
      "Notes:\n",
      "[1] Standard Errors assume that the covariance matrix of the errors is correctly specified.\n",
      "[2] The condition number is large, 2.64e+04. This might indicate that there are\n",
      "strong multicollinearity or other numerical problems.\n"
     ]
    }
   ],
   "source": [
    "model = sm.OLS(y, X)\n",
    "results = model.fit()\n",
    "print(results.summary())"
   ]
  },
  {
   "cell_type": "code",
   "execution_count": null,
   "metadata": {},
   "outputs": [],
   "source": []
  },
  {
   "cell_type": "code",
   "execution_count": null,
   "metadata": {},
   "outputs": [],
   "source": []
  },
  {
   "cell_type": "code",
   "execution_count": null,
   "metadata": {},
   "outputs": [],
   "source": []
  },
  {
   "cell_type": "code",
   "execution_count": null,
   "metadata": {},
   "outputs": [],
   "source": []
  },
  {
   "cell_type": "code",
   "execution_count": null,
   "metadata": {},
   "outputs": [],
   "source": []
  },
  {
   "cell_type": "markdown",
   "metadata": {},
   "source": [
    "#### __Pitfalls of Using Simple Regression in a Multiple Regression Context__\n",
    "\n",
    "<br>\n",
    "\n",
    "* To compare simple regression to multiple regression let's run a simple regression of sales price ($Y$) on number of bedrooms ($X$).\n",
    "\n",
    "<br>"
   ]
  },
  {
   "cell_type": "code",
   "execution_count": 9,
   "metadata": {},
   "outputs": [
    {
     "name": "stdout",
     "output_type": "stream",
     "text": [
      "                            OLS Regression Results                            \n",
      "==============================================================================\n",
      "Dep. Variable:             sale price   R-squared:                       0.134\n",
      "Model:                            OLS   Adj. R-squared:                  0.133\n",
      "Method:                 Least Squares   F-statistic:                     84.38\n",
      "Date:                Wed, 17 Nov 2021   Prob (F-statistic):           8.53e-19\n",
      "Time:                        06:40:15   Log-Likelihood:                -6300.0\n",
      "No. Observations:                 546   AIC:                         1.260e+04\n",
      "Df Residuals:                     544   BIC:                         1.261e+04\n",
      "Df Model:                           1                                         \n",
      "Covariance Type:            nonrobust                                         \n",
      "==============================================================================\n",
      "                 coef    std err          t      P>|t|      [0.025      0.975]\n",
      "------------------------------------------------------------------------------\n",
      "const       2.877e+04   4413.753      6.519      0.000    2.01e+04    3.74e+04\n",
      "#bedroom    1.327e+04   1444.598      9.186      0.000    1.04e+04    1.61e+04\n",
      "==============================================================================\n",
      "Omnibus:                       91.631   Durbin-Watson:                   0.812\n",
      "Prob(Omnibus):                  0.000   Jarque-Bera (JB):              162.283\n",
      "Skew:                           0.994   Prob(JB):                     5.76e-36\n",
      "Kurtosis:                       4.784   Cond. No.                         14.0\n",
      "==============================================================================\n",
      "\n",
      "Notes:\n",
      "[1] Standard Errors assume that the covariance matrix of the errors is correctly specified.\n"
     ]
    }
   ],
   "source": [
    "X = df['#bedroom']\n",
    "X = sm.add_constant(X)\n",
    "model = sm.OLS(y, X)\n",
    "results = model.fit()\n",
    "print(results.summary())"
   ]
  },
  {
   "cell_type": "code",
   "execution_count": 10,
   "metadata": {},
   "outputs": [
    {
     "data": {
      "text/plain": [
       "13269.980086649646"
      ]
     },
     "execution_count": 10,
     "metadata": {},
     "output_type": "execute_result"
    }
   ],
   "source": [
    "results.params[1]"
   ]
  },
  {
   "cell_type": "markdown",
   "metadata": {},
   "source": [
    "<br>\n",
    "\n",
    "* Since $\\hat{\\beta} = 13269.98$  we are able to make statements like \"the marginal effect of the number of bedrooms on house prices is $\\$13,269.98$\"\n",
    "\n",
    "* \"houses with an extra bedroom tend to cost $\\$13,269.98$ more\"\n",
    "\n",
    "* Contrast this with the interpretation of $\\beta_{2}$ in the multiple regression context\n",
    "\n",
    "* Simple regression leaves out the _ceteris paribus_ conditions that are implicit in the part of the sentence \"if we consider comparable houses\"\n",
    "\n",
    "* Note: the coefficient on the number of bedrooms in the simple regression is much higher than for the multiple regression\n",
    "\n",
    "* Why is this the case?\n",
    "\n",
    "* Imagine a friend is building a new house and asks you (the data scientist) what adding an extra bedroom would be worth\n",
    "\n",
    "* How can we answer? \n",
    "\n",
    "* In the simple regression context we have only data on house prices and the number of bedrooms\n",
    "\n",
    "* After observing the variation in the sample we conclude that those with more bedrooms tend to be more expensive\n",
    "\n",
    "* (e.g. those with three bedrooms tend to cost $\\$13,269.98$ more than those with two bedrooms)\n",
    "\n",
    "* This does not mean that adding an extra bedroom will raise the price by that amount though\n",
    "\n",
    "* The reason is that there are many factors other than the number of bedrooms that influence house prices\n",
    "\n",
    "* These factors tend to be highly correlated (houses with more square footage tend to have more bedrooms, more bathrooms, more storeys, and a larger lot size)\n",
    "\n",
    "* Let's look at the correlation matrix\n",
    "\n",
    "<br>"
   ]
  },
  {
   "cell_type": "code",
   "execution_count": 15,
   "metadata": {},
   "outputs": [
    {
     "data": {
      "text/html": [
       "<div>\n",
       "<style scoped>\n",
       "    .dataframe tbody tr th:only-of-type {\n",
       "        vertical-align: middle;\n",
       "    }\n",
       "\n",
       "    .dataframe tbody tr th {\n",
       "        vertical-align: top;\n",
       "    }\n",
       "\n",
       "    .dataframe thead th {\n",
       "        text-align: right;\n",
       "    }\n",
       "</style>\n",
       "<table border=\"1\" class=\"dataframe\">\n",
       "  <thead>\n",
       "    <tr style=\"text-align: right;\">\n",
       "      <th></th>\n",
       "      <th>sale price</th>\n",
       "      <th>lot size</th>\n",
       "      <th>#bedroom</th>\n",
       "      <th>#bath</th>\n",
       "      <th>#stories</th>\n",
       "    </tr>\n",
       "  </thead>\n",
       "  <tbody>\n",
       "    <tr>\n",
       "      <th>sale price</th>\n",
       "      <td>1.000000</td>\n",
       "      <td>0.535796</td>\n",
       "      <td>0.366447</td>\n",
       "      <td>0.516719</td>\n",
       "      <td>0.421190</td>\n",
       "    </tr>\n",
       "    <tr>\n",
       "      <th>lot size</th>\n",
       "      <td>0.535796</td>\n",
       "      <td>1.000000</td>\n",
       "      <td>0.151851</td>\n",
       "      <td>0.193833</td>\n",
       "      <td>0.083675</td>\n",
       "    </tr>\n",
       "    <tr>\n",
       "      <th>#bedroom</th>\n",
       "      <td>0.366447</td>\n",
       "      <td>0.151851</td>\n",
       "      <td>1.000000</td>\n",
       "      <td>0.373769</td>\n",
       "      <td>0.407974</td>\n",
       "    </tr>\n",
       "    <tr>\n",
       "      <th>#bath</th>\n",
       "      <td>0.516719</td>\n",
       "      <td>0.193833</td>\n",
       "      <td>0.373769</td>\n",
       "      <td>1.000000</td>\n",
       "      <td>0.324066</td>\n",
       "    </tr>\n",
       "    <tr>\n",
       "      <th>#stories</th>\n",
       "      <td>0.421190</td>\n",
       "      <td>0.083675</td>\n",
       "      <td>0.407974</td>\n",
       "      <td>0.324066</td>\n",
       "      <td>1.000000</td>\n",
       "    </tr>\n",
       "  </tbody>\n",
       "</table>\n",
       "</div>"
      ],
      "text/plain": [
       "            sale price  lot size  #bedroom     #bath  #stories\n",
       "sale price    1.000000  0.535796  0.366447  0.516719  0.421190\n",
       "lot size      0.535796  1.000000  0.151851  0.193833  0.083675\n",
       "#bedroom      0.366447  0.151851  1.000000  0.373769  0.407974\n",
       "#bath         0.516719  0.193833  0.373769  1.000000  0.324066\n",
       "#stories      0.421190  0.083675  0.407974  0.324066  1.000000"
      ]
     },
     "execution_count": 15,
     "metadata": {},
     "output_type": "execute_result"
    }
   ],
   "source": [
    "df[['sale price', 'lot size', '#bedroom', '#bath', '#stories']].corr()"
   ]
  },
  {
   "cell_type": "markdown",
   "metadata": {},
   "source": [
    "* All elements of the correlation matrix are positive\n",
    "\n",
    "* Therefore each pair of variables is positively correlated\n",
    "\n",
    "* Simple regression cannot disentangle the influences of the individual variables on house prices\n",
    "\n",
    "* So the simple relationship between the number of bedrooms and house prices does not necessarily mean that more bedrooms directly add value to the house\n",
    "\n",
    "* We ___cannot___ advise that an additional bedroom will lead directly to an increase in the house price of $\\$13,269.98$\n",
    "\n",
    "* That would be misleading\n",
    "\n",
    "* By contrast, multiple regression allows us to disentangle the individual contributions of the four RHS variables\n",
    "\n",
    "* The figure of $\\hat{\\beta_{2}} = \\$2824.61$ comes much closer to being a true measure of the effect of adding an additional bedroom\n",
    "\n",
    "<br>"
   ]
  },
  {
   "cell_type": "markdown",
   "metadata": {},
   "source": [
    "### __Omitted Variable Bias__\n",
    "\n",
    "<br>\n",
    "\n",
    "* The example above relates to the statistical issue known as _omitted variable bias_\n",
    "\n",
    "* Let's think about this from the probability perspective\n",
    "\n",
    "* Let's run a Monte Carlo experiment to flesh this out\n",
    "\n",
    "<br>"
   ]
  },
  {
   "cell_type": "code",
   "execution_count": 22,
   "metadata": {},
   "outputs": [],
   "source": [
    "## assumed population coefficients\n",
    "β = np.array([1.0, 2.35, 1.78])"
   ]
  },
  {
   "cell_type": "code",
   "execution_count": 25,
   "metadata": {},
   "outputs": [],
   "source": [
    "M = 10_000\n",
    "N = 100\n",
    "X = np.random.uniform(size=(N,3))\n",
    "X[:,0] = 1.0\n",
    "\n",
    "true_beta_hat = np.zeros(M)\n",
    "biased_beta_hat = np.zeros(M)\n",
    "\n",
    "for i in range(M):\n",
    "    u = np.random.normal(0.0, σ, size=N)\n",
    "    y = np.dot(X, β) + u\n",
    "    reg1 = sm.OLS(y,X).fit()\n",
    "    reg2 = sm.OLS(y,X[:,:2]).fit()\n",
    "    true_beta_hat[i] = reg1.params[1]\n",
    "    biased_beta_hat[i] = reg2.params[1]"
   ]
  },
  {
   "cell_type": "code",
   "execution_count": 30,
   "metadata": {},
   "outputs": [
    {
     "data": {
      "text/plain": [
       "(2.3480834673230855, 2.399752658342609)"
      ]
     },
     "execution_count": 30,
     "metadata": {},
     "output_type": "execute_result"
    }
   ],
   "source": [
    "true_beta_hat.mean(), biased_beta_hat.mean()"
   ]
  },
  {
   "cell_type": "code",
   "execution_count": 28,
   "metadata": {},
   "outputs": [
    {
     "data": {
      "image/png": "[encoded data removed]",
      "text/plain": [
       "<Figure size 720x576 with 1 Axes>"
      ]
     },
     "metadata": {
      "needs_background": "light"
     },
     "output_type": "display_data"
    }
   ],
   "source": [
    "plt.hist(true_beta_hat, bins=100);"
   ]
  },
  {
   "cell_type": "code",
   "execution_count": 29,
   "metadata": {},
   "outputs": [
    {
     "data": {
      "image/png": "[encoded data removed]",
      "text/plain": [
       "<Figure size 720x576 with 1 Axes>"
      ]
     },
     "metadata": {
      "needs_background": "light"
     },
     "output_type": "display_data"
    }
   ],
   "source": [
    "plt.hist(biased_beta_hat, bins=100);"
   ]
  },
  {
   "cell_type": "code",
   "execution_count": 38,
   "metadata": {},
   "outputs": [
    {
     "data": {
      "text/plain": [
       "array([[1.      , 0.028928],\n",
       "       [0.028928, 1.      ]])"
      ]
     },
     "execution_count": 38,
     "metadata": {},
     "output_type": "execute_result"
    }
   ],
   "source": [
    "np.corrcoef(X[:,1:].T)"
   ]
  },
  {
   "cell_type": "markdown",
   "metadata": {},
   "source": [
    "---"
   ]
  },
  {
   "cell_type": "markdown",
   "metadata": {},
   "source": [
    "#### __Footnote: OLS Estimation as an Optimization Routine__\n",
    "\n",
    "<br>\n",
    "\n",
    "One way to understand the process of fitting a regression is as a numerical minimization problem. \n",
    "\n",
    "<br>\n",
    "\n",
    "We can formulate least squares regression in the following way: \n",
    "\n",
    "<br>\n",
    "\n",
    "$$\n",
    "\\arg\\min_{(\\alpha, \\beta)} \\left(\\frac{1}{2} || y - (X\\beta - \\alpha)||^{2}\\right)\n",
    "$$\n",
    "\n",
    "<br>\n",
    "\n",
    "__NB:__ thinking about the OLS parameter estimates in this way helps us see the mathematical/numerical aspect of OLS regression. Understanding this procedure as an ___estimator___ links the numerical perspective to the probability perspective and helps us understand regression as a ___probability model___.\n",
    "\n",
    "<br>\n",
    "\n",
    "__NB:__ To understand what the $||$ mean in math see here: https://mathworld.wolfram.com/Norm.html\n",
    "\n",
    "<br>"
   ]
  },
  {
   "cell_type": "code",
   "execution_count": null,
   "metadata": {},
   "outputs": [],
   "source": [
    "np.linalg.lstsq?"
   ]
  },
  {
   "cell_type": "code",
   "execution_count": null,
   "metadata": {},
   "outputs": [],
   "source": [
    "beta_hat, resid, rank, svals = np.linalg.lstsq(X, y, rcond=None)"
   ]
  },
  {
   "cell_type": "code",
   "execution_count": null,
   "metadata": {},
   "outputs": [],
   "source": [
    "beta_hat"
   ]
  },
  {
   "cell_type": "code",
   "execution_count": null,
   "metadata": {},
   "outputs": [],
   "source": []
  }
 ],
 "metadata": {
  "interpreter": {
   "hash": "3ebcde7977c6dda95db6af92c16a2185a847441a323b0c2d6c2400888a269ba8"
  },
  "kernelspec": {
   "display_name": "Python 3",
   "language": "python",
   "name": "python3"
  },
  "language_info": {
   "codemirror_mode": {
    "name": "ipython",
    "version": 3
   },
   "file_extension": ".py",
   "mimetype": "text/x-python",
   "name": "python",
   "nbconvert_exporter": "python",
   "pygments_lexer": "ipython3",
   "version": "3.8.11"
  }
 },
 "nbformat": 4,
 "nbformat_minor": 4
}
