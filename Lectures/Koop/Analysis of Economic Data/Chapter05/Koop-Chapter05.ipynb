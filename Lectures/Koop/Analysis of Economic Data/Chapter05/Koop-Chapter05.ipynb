{
 "cells": [
  {
   "cell_type": "markdown",
   "id": "8b67662a",
   "metadata": {},
   "source": [
    "# DATA 5600: Introduction to Regression and Machine Learning for Analytics\n",
    "\n",
    "## __Koop Chapter 05: Statistical Aspects of Regression__ <br>\n",
    "\n",
    "Author:  Tyler J. Brough <br>\n",
    "Updated: November 8, 2021 <br>\n",
    "\n",
    "---\n",
    "\n",
    "<br>"
   ]
  },
  {
   "cell_type": "code",
   "execution_count": 1,
   "id": "8f1de497",
   "metadata": {},
   "outputs": [],
   "source": [
    "import numpy as np\n",
    "import pandas as pd\n",
    "from scipy import stats\n",
    "import matplotlib.pyplot as plt\n",
    "\n",
    "plt.rcParams['figure.figsize'] = [10, 8]"
   ]
  },
  {
   "cell_type": "code",
   "execution_count": 2,
   "id": "6ea32d91",
   "metadata": {},
   "outputs": [],
   "source": [
    "np.random.seed(7)"
   ]
  },
  {
   "cell_type": "markdown",
   "id": "0cb9d030",
   "metadata": {},
   "source": [
    "---"
   ]
  },
  {
   "cell_type": "markdown",
   "id": "4c88b721",
   "metadata": {},
   "source": [
    "<br>\n",
    "\n",
    "## __Introduction__\n",
    "\n",
    "<br>\n",
    "\n",
    "\n",
    "These notes are taken from chapter 5 of the book _Analysis of Economic Data 2nd Edition_ by Gary Koop.\n",
    "\n",
    "<br>\n",
    "\n",
    "In this chapter we build up to an understanding of the statistical aspects of the regression model. \n",
    "\n",
    "* Discuss what the statistical methods are and what they are designed to do\n",
    "\n",
    "* Show how to carry out a regression analysis using these statistical methods\n",
    "\n",
    "* Interpret the results correctly\n",
    "\n",
    "* Provide some graphical intuition in order to gain insight into where statistical results come from and what they mean\n",
    "\n",
    "<br>"
   ]
  },
  {
   "cell_type": "markdown",
   "id": "85583448",
   "metadata": {},
   "source": [
    "<br>\n",
    "\n",
    "We distinguish between $\\alpha$ and $\\beta$ in the regression and the OLS (ordinary least squares) estimates of these coefficients $\\hat{alpha}$ and $\\hat{\\beta}$\n",
    "\n",
    "Remember the regression model:\n",
    "\n",
    "<br>\n",
    "\n",
    "$$\n",
    "\\Large{Y_{i} = \\alpha + \\beta X_{i} + \\epsilon_{i}}\n",
    "$$\n",
    "\n",
    "<br>\n",
    "\n",
    "* for $i = 1, \\ldots, N$ observations\n",
    "\n",
    "* $\\alpha$ and $\\beta$ measure the relationship between $Y$ and $X$\n",
    "\n",
    "* We do not generally know what this relationship is without numerical values for $\\alpha$ and $\\beta$\n",
    "\n",
    "* We derived OLS estimates which we labeled $\\hat{\\alpha}$ and $\\hat{\\beta}$\n",
    "\n",
    "* We emphasized that $\\alpha$ and $\\beta$ are the true but unknown population coefficients\n",
    "\n",
    "* $\\hat{\\alpha}$ and $\\hat{\\beta}$ are statistical estimates\n",
    "\n",
    "* This leads us to ask how accurate these estimates are\n",
    "\n",
    "* To answer this question we can bring to bear statistical theory\n",
    "\n",
    "* At first we will focus on frequentist methods of understanding this process\n",
    "\n",
    "* We will calculate _confidence intervals_ and conduct _hypothesis tests_ for the coefficients\n",
    "\n",
    "* We say that OLS provides _point estimates_ for $\\beta$ (e.g. $\\hat{\\beta} = 0.000842$ is the point estimate of $\\beta$ in the regression of deforestation on population density)\n",
    "\n",
    "* Think of the point estimate as our best statistical guess for what the right value of $\\beta$ is\n",
    "\n",
    "* Confidence intervals provide us with interval estimates allowing us to make statements that reflect the uncertainty we may have about the true value of $\\beta$ (e.g. \"we are confident that $\\beta$ is greater than 0.0006 and less than 0.0010\")\n",
    "\n",
    "* We can obtain different confidence intervals corresponding to different levels of confidence\n",
    "\n",
    "* The degree of confidence we have in a chosen interval (e.g. $95\\%$) is referred to as a _confidence level_\n",
    "\n",
    "* The other major activity of the empirical researcher is _hypothesis testing_ \n",
    "\n",
    "* An example: $H_{0}: \\beta = 0$\n",
    "\n",
    "* If this later hypothesis is true, then it means that the explanatory variable has not explanatory power\n",
    "\n",
    "* Hypothesis testing allows us to carry out such tests\n",
    "\n",
    "\n"
   ]
  },
  {
   "cell_type": "markdown",
   "id": "d444992a",
   "metadata": {},
   "source": [
    "### __Which Factors Affect the Accuracy of the Estimate $\\hat{\\beta}$?__\n",
    "\n",
    "<br>\n",
    "\n",
    "* Simulated models with $\\alpha = 0$ and $\\beta = 1$\n",
    "\n",
    "* Figures 5.1, 5.2, 5.3, and 5.4\n",
    "\n",
    "* If we try to fit a regression line to these different data sets they will lead to very different levels of accuracy\n",
    "\n",
    "* Q: how confident would you be in the fitted model to each of these artificial datasets?\n",
    "\n",
    "* 5.3 would be the most accurate - the linear pattern \"leaps out\" at you\n",
    "\n",
    "<br>\n",
    "\n",
    "These figures illustrate three main factors that affect the accuracy of OLS estimates and the uncertainty that surrounds our knowledge of what the true value of $\\beta$ really is:\n",
    "\n",
    "1. Having more data points improves the accuracy of estimation. This can be seem by comparing Figure 5.1 ($N = 5$) with Figure 5.3 ($N = 100$).\n",
    "\n",
    "2. Having smaller errors improves accuracy of estimation. Equivalently, if the SSR is small or the variance of the errors is small, the accuracy of the estimation will be improved. This can be seen by comparing Figure 5.2 (large variance of errors) with Figure 5.3 (small variance of errors)\n",
    "\n",
    "3. Having a larger spread of values (i.e. larger variance) of the explanatory variable ($X$) improves accuracy of estimation. This can be seen by comparing Figure 5.3 (values of the explanatory variable spread all the way from 0 to 6) to Figure 5.4 (values of the explanatory variable are clustered around 3)\n",
    "\n",
    "<br>"
   ]
  },
  {
   "cell_type": "markdown",
   "id": "2ec23a6f",
   "metadata": {},
   "source": [
    "### __Simulation Replication Exercise__"
   ]
  },
  {
   "cell_type": "code",
   "execution_count": null,
   "id": "d362f43a",
   "metadata": {},
   "outputs": [],
   "source": []
  },
  {
   "cell_type": "markdown",
   "id": "d1e7ff6c",
   "metadata": {},
   "source": [
    "### __Calculating Confidence Intervals__\n",
    "\n",
    "<br>\n",
    "\n",
    "* The confidence interval reflects the uncertainty surrounding the accuracy of the estimate $\\hat{\\beta}$\n",
    "\n",
    "* A smaller confidence interval indicates higher accuracy\n",
    "\n",
    "* A larger confidence interval indicates great uncertainty over the true value of $\\beta$\n",
    "\n",
    "* In most cases researchers present both point estimates and confidence intervals\n",
    "\n",
    "<br>\n",
    "\n",
    "The mathematical formula for the confidence interval for $\\beta$ is:\n",
    "\n",
    "<br>\n",
    "\n",
    "$$\n",
    "\\Large{[\\hat{\\beta} - t_{b} s_{b}, \\hat{\\beta} + t_{b} s_{b}]}\n",
    "$$\n",
    "\n",
    "<br>\n",
    "\n",
    "An equivalent way of presenting the confidence interval is:\n",
    "\n",
    "<br>\n",
    "\n",
    "$$\n",
    "\\Large{\\hat{\\beta} - t_{b} s_{b} \\le \\beta \\ge \\hat{\\beta} + t_{b} s_{b}}\n",
    "$$\n",
    "\n",
    "<br>\n",
    "\n",
    "The above formulas require the following:\n",
    "\n",
    "* $\\hat{\\beta}$ the OLS estimate of the slope coefficient $\\beta$\n",
    "\n",
    "* $s_{b}$ is the standard deviation of $\\hat{\\beta}$ (also called the _standard error_ because it is the standard deviation of the sampling distribution for $\\hat{\\beta}$)\n",
    "\n",
    "* We typically use a Central Limit Theorem assumption to derive $s_{b}$. Bootstrapping and other resampling methods can also be used. \n",
    "\n",
    "* The formula for $s_{b}$ is as follows:\n",
    "\n",
    "<br>\n",
    "\n",
    "$$\n",
    "\\Large{s_{b} = \\sqrt{\\frac{SSR}{(N-2) \\sum (X_{i} - \\bar{X})^{2}}}}\n",
    "$$\n",
    "\n",
    "<br>\n",
    "\n",
    "Recall the following:\n",
    "\n",
    "<br>\n",
    "\n",
    "$$\n",
    "\\Large{SSR = \\sum\\limits_{i=1}^{N} u_{i}^{2}}\n",
    "$$\n",
    "\n",
    "* for $i = 1, \\ldots, N$\n",
    "\n",
    "* CI = confidence interval\n",
    "\n",
    "* The larger $s_{b}$ is the wider will be the CI\n",
    "\n",
    "* The width of the CI varies directly with $SSR$ (i.e. more variable errors or residuals imply less accurate estimation)\n",
    "\n",
    "* The CI varies inversely with $N$ (i.e. more data points imply more accurate estimation)\n",
    "\n",
    "* The CI varies inversely with $\\sum(X_{i} - \\bar{X})^{2}$ (i.e. more variability in $X$ implies more accurate estimation)\n",
    "\n",
    "<br>"
   ]
  },
  {
   "cell_type": "markdown",
   "id": "7b8e0b8b",
   "metadata": {},
   "source": [
    "The third item in the CI formula is $t_{b}$\n",
    "\n",
    "* Note that the more confident you wish to be in your CI the wider it must become\n",
    "\n",
    "* $99\\%$ CIs will always be wider than $95\\%$ CIs\n",
    "\n",
    "* The value of $t_{b}$ controls the confidence level\n",
    "\n",
    "* If the confidence level is high (e.g. $99\\%$) $t_{b}$ will be large, while if it is low (e.g. $50\\%$) $t_{b}$ will be small\n",
    "\n",
    "* $t_{b}$ decreases with N (i.e. the more data points one has the smaller the CI will be)\n",
    "\n",
    "* $t_{b}$ increases with the level of confidence you choose\n",
    "\n",
    "<br>"
   ]
  },
  {
   "cell_type": "markdown",
   "id": "fae25f9f",
   "metadata": {},
   "source": [
    "### __Running Regressions in Python with the `Statsmodels` Module__\n",
    "\n",
    "<br>\n",
    "\n",
    "See here for an introductory example: https://www.statsmodels.org/dev/examples/notebooks/generated/ols.html\n",
    "\n",
    "<br>"
   ]
  },
  {
   "cell_type": "code",
   "execution_count": 3,
   "id": "1139e805",
   "metadata": {},
   "outputs": [],
   "source": [
    "import statsmodels.api as sm"
   ]
  },
  {
   "cell_type": "code",
   "execution_count": 4,
   "id": "c7552fd8",
   "metadata": {},
   "outputs": [],
   "source": [
    "fig51 = pd.read_excel(\"FIG51.XLS\")"
   ]
  },
  {
   "cell_type": "code",
   "execution_count": 5,
   "id": "cd327b93",
   "metadata": {},
   "outputs": [
    {
     "data": {
      "text/html": [
       "<div>\n",
       "<style scoped>\n",
       "    .dataframe tbody tr th:only-of-type {\n",
       "        vertical-align: middle;\n",
       "    }\n",
       "\n",
       "    .dataframe tbody tr th {\n",
       "        vertical-align: top;\n",
       "    }\n",
       "\n",
       "    .dataframe thead th {\n",
       "        text-align: right;\n",
       "    }\n",
       "</style>\n",
       "<table border=\"1\" class=\"dataframe\">\n",
       "  <thead>\n",
       "    <tr style=\"text-align: right;\">\n",
       "      <th></th>\n",
       "      <th>X</th>\n",
       "      <th>Y</th>\n",
       "    </tr>\n",
       "  </thead>\n",
       "  <tbody>\n",
       "    <tr>\n",
       "      <th>0</th>\n",
       "      <td>0.414991</td>\n",
       "      <td>1.951798</td>\n",
       "    </tr>\n",
       "    <tr>\n",
       "      <th>1</th>\n",
       "      <td>1.739270</td>\n",
       "      <td>-1.562661</td>\n",
       "    </tr>\n",
       "    <tr>\n",
       "      <th>2</th>\n",
       "      <td>4.355215</td>\n",
       "      <td>3.926579</td>\n",
       "    </tr>\n",
       "    <tr>\n",
       "      <th>3</th>\n",
       "      <td>2.509085</td>\n",
       "      <td>1.960235</td>\n",
       "    </tr>\n",
       "    <tr>\n",
       "      <th>4</th>\n",
       "      <td>1.465250</td>\n",
       "      <td>-1.433530</td>\n",
       "    </tr>\n",
       "  </tbody>\n",
       "</table>\n",
       "</div>"
      ],
      "text/plain": [
       "          X         Y\n",
       "0  0.414991  1.951798\n",
       "1  1.739270 -1.562661\n",
       "2  4.355215  3.926579\n",
       "3  2.509085  1.960235\n",
       "4  1.465250 -1.433530"
      ]
     },
     "execution_count": 5,
     "metadata": {},
     "output_type": "execute_result"
    }
   ],
   "source": [
    "fig51"
   ]
  },
  {
   "cell_type": "code",
   "execution_count": 6,
   "id": "aceb3dc3",
   "metadata": {},
   "outputs": [
    {
     "data": {
      "text/plain": [
       "(5, 2)"
      ]
     },
     "execution_count": 6,
     "metadata": {},
     "output_type": "execute_result"
    }
   ],
   "source": [
    "fig51.shape"
   ]
  },
  {
   "cell_type": "code",
   "execution_count": 7,
   "id": "3d3f59ea",
   "metadata": {},
   "outputs": [
    {
     "data": {
      "text/html": [
       "<div>\n",
       "<style scoped>\n",
       "    .dataframe tbody tr th:only-of-type {\n",
       "        vertical-align: middle;\n",
       "    }\n",
       "\n",
       "    .dataframe tbody tr th {\n",
       "        vertical-align: top;\n",
       "    }\n",
       "\n",
       "    .dataframe thead th {\n",
       "        text-align: right;\n",
       "    }\n",
       "</style>\n",
       "<table border=\"1\" class=\"dataframe\">\n",
       "  <thead>\n",
       "    <tr style=\"text-align: right;\">\n",
       "      <th></th>\n",
       "      <th>X</th>\n",
       "      <th>Y</th>\n",
       "    </tr>\n",
       "  </thead>\n",
       "  <tbody>\n",
       "    <tr>\n",
       "      <th>count</th>\n",
       "      <td>5.000000</td>\n",
       "      <td>5.000000</td>\n",
       "    </tr>\n",
       "    <tr>\n",
       "      <th>mean</th>\n",
       "      <td>2.096762</td>\n",
       "      <td>0.968484</td>\n",
       "    </tr>\n",
       "    <tr>\n",
       "      <th>std</th>\n",
       "      <td>1.468467</td>\n",
       "      <td>2.391504</td>\n",
       "    </tr>\n",
       "    <tr>\n",
       "      <th>min</th>\n",
       "      <td>0.414991</td>\n",
       "      <td>-1.562661</td>\n",
       "    </tr>\n",
       "    <tr>\n",
       "      <th>25%</th>\n",
       "      <td>1.465250</td>\n",
       "      <td>-1.433530</td>\n",
       "    </tr>\n",
       "    <tr>\n",
       "      <th>50%</th>\n",
       "      <td>1.739270</td>\n",
       "      <td>1.951798</td>\n",
       "    </tr>\n",
       "    <tr>\n",
       "      <th>75%</th>\n",
       "      <td>2.509085</td>\n",
       "      <td>1.960235</td>\n",
       "    </tr>\n",
       "    <tr>\n",
       "      <th>max</th>\n",
       "      <td>4.355215</td>\n",
       "      <td>3.926579</td>\n",
       "    </tr>\n",
       "  </tbody>\n",
       "</table>\n",
       "</div>"
      ],
      "text/plain": [
       "              X         Y\n",
       "count  5.000000  5.000000\n",
       "mean   2.096762  0.968484\n",
       "std    1.468467  2.391504\n",
       "min    0.414991 -1.562661\n",
       "25%    1.465250 -1.433530\n",
       "50%    1.739270  1.951798\n",
       "75%    2.509085  1.960235\n",
       "max    4.355215  3.926579"
      ]
     },
     "execution_count": 7,
     "metadata": {},
     "output_type": "execute_result"
    }
   ],
   "source": [
    "fig51.describe()"
   ]
  },
  {
   "cell_type": "code",
   "execution_count": 9,
   "id": "a5b0fc1a",
   "metadata": {},
   "outputs": [],
   "source": [
    "y51 = fig51.Y\n",
    "X51 = fig51.X\n",
    "X51 = sm.add_constant(X51)"
   ]
  },
  {
   "cell_type": "code",
   "execution_count": 10,
   "id": "116b6333",
   "metadata": {},
   "outputs": [
    {
     "data": {
      "text/html": [
       "<div>\n",
       "<style scoped>\n",
       "    .dataframe tbody tr th:only-of-type {\n",
       "        vertical-align: middle;\n",
       "    }\n",
       "\n",
       "    .dataframe tbody tr th {\n",
       "        vertical-align: top;\n",
       "    }\n",
       "\n",
       "    .dataframe thead th {\n",
       "        text-align: right;\n",
       "    }\n",
       "</style>\n",
       "<table border=\"1\" class=\"dataframe\">\n",
       "  <thead>\n",
       "    <tr style=\"text-align: right;\">\n",
       "      <th></th>\n",
       "      <th>const</th>\n",
       "      <th>X</th>\n",
       "    </tr>\n",
       "  </thead>\n",
       "  <tbody>\n",
       "    <tr>\n",
       "      <th>0</th>\n",
       "      <td>1.0</td>\n",
       "      <td>0.414991</td>\n",
       "    </tr>\n",
       "    <tr>\n",
       "      <th>1</th>\n",
       "      <td>1.0</td>\n",
       "      <td>1.739270</td>\n",
       "    </tr>\n",
       "    <tr>\n",
       "      <th>2</th>\n",
       "      <td>1.0</td>\n",
       "      <td>4.355215</td>\n",
       "    </tr>\n",
       "    <tr>\n",
       "      <th>3</th>\n",
       "      <td>1.0</td>\n",
       "      <td>2.509085</td>\n",
       "    </tr>\n",
       "    <tr>\n",
       "      <th>4</th>\n",
       "      <td>1.0</td>\n",
       "      <td>1.465250</td>\n",
       "    </tr>\n",
       "  </tbody>\n",
       "</table>\n",
       "</div>"
      ],
      "text/plain": [
       "   const         X\n",
       "0    1.0  0.414991\n",
       "1    1.0  1.739270\n",
       "2    1.0  4.355215\n",
       "3    1.0  2.509085\n",
       "4    1.0  1.465250"
      ]
     },
     "execution_count": 10,
     "metadata": {},
     "output_type": "execute_result"
    }
   ],
   "source": [
    "X51"
   ]
  },
  {
   "cell_type": "code",
   "execution_count": 11,
   "id": "233b9aaa",
   "metadata": {},
   "outputs": [
    {
     "name": "stdout",
     "output_type": "stream",
     "text": [
      "                            OLS Regression Results                            \n",
      "==============================================================================\n",
      "Dep. Variable:                      Y   R-squared:                       0.313\n",
      "Model:                            OLS   Adj. R-squared:                  0.084\n",
      "Method:                 Least Squares   F-statistic:                     1.366\n",
      "Date:                Mon, 08 Nov 2021   Prob (F-statistic):              0.327\n",
      "Time:                        14:37:27   Log-Likelihood:                -9.9583\n",
      "No. Observations:                   5   AIC:                             23.92\n",
      "Df Residuals:                       3   BIC:                             23.14\n",
      "Df Model:                           1                                         \n",
      "Covariance Type:            nonrobust                                         \n",
      "==============================================================================\n",
      "                 coef    std err          t      P>|t|      [0.025      0.975]\n",
      "------------------------------------------------------------------------------\n",
      "const         -0.9416      1.928     -0.488      0.659      -7.079       5.195\n",
      "X              0.9110      0.779      1.169      0.327      -1.569       3.391\n",
      "==============================================================================\n",
      "Omnibus:                          nan   Durbin-Watson:                   2.416\n",
      "Prob(Omnibus):                    nan   Jarque-Bera (JB):                0.450\n",
      "Skew:                           0.002   Prob(JB):                        0.799\n",
      "Kurtosis:                       1.530   Cond. No.                         5.23\n",
      "==============================================================================\n",
      "\n",
      "Notes:\n",
      "[1] Standard Errors assume that the covariance matrix of the errors is correctly specified.\n"
     ]
    },
    {
     "name": "stderr",
     "output_type": "stream",
     "text": [
      "/Users/tjb/anaconda3/envs/DATA5600/lib/python3.8/site-packages/statsmodels/stats/stattools.py:74: ValueWarning: omni_normtest is not valid with less than 8 observations; 5 samples were given.\n",
      "  warn(\"omni_normtest is not valid with less than 8 observations; %i \"\n"
     ]
    }
   ],
   "source": [
    "model51 = sm.OLS(y51, X51)\n",
    "results51 = model51.fit()\n",
    "print(results51.summary())"
   ]
  },
  {
   "cell_type": "code",
   "execution_count": 12,
   "id": "bdb24b5d",
   "metadata": {},
   "outputs": [],
   "source": [
    "fig52 = pd.read_excel(\"FIG52.XLS\")"
   ]
  },
  {
   "cell_type": "code",
   "execution_count": 13,
   "id": "3d619384",
   "metadata": {},
   "outputs": [
    {
     "data": {
      "text/html": [
       "<div>\n",
       "<style scoped>\n",
       "    .dataframe tbody tr th:only-of-type {\n",
       "        vertical-align: middle;\n",
       "    }\n",
       "\n",
       "    .dataframe tbody tr th {\n",
       "        vertical-align: top;\n",
       "    }\n",
       "\n",
       "    .dataframe thead th {\n",
       "        text-align: right;\n",
       "    }\n",
       "</style>\n",
       "<table border=\"1\" class=\"dataframe\">\n",
       "  <thead>\n",
       "    <tr style=\"text-align: right;\">\n",
       "      <th></th>\n",
       "      <th>X</th>\n",
       "      <th>Y</th>\n",
       "    </tr>\n",
       "  </thead>\n",
       "  <tbody>\n",
       "    <tr>\n",
       "      <th>0</th>\n",
       "      <td>0.414991</td>\n",
       "      <td>0.571723</td>\n",
       "    </tr>\n",
       "    <tr>\n",
       "      <th>1</th>\n",
       "      <td>1.739270</td>\n",
       "      <td>1.383048</td>\n",
       "    </tr>\n",
       "    <tr>\n",
       "      <th>2</th>\n",
       "      <td>4.355215</td>\n",
       "      <td>6.150757</td>\n",
       "    </tr>\n",
       "    <tr>\n",
       "      <th>3</th>\n",
       "      <td>2.509085</td>\n",
       "      <td>2.692491</td>\n",
       "    </tr>\n",
       "    <tr>\n",
       "      <th>4</th>\n",
       "      <td>1.465250</td>\n",
       "      <td>0.263816</td>\n",
       "    </tr>\n",
       "  </tbody>\n",
       "</table>\n",
       "</div>"
      ],
      "text/plain": [
       "          X         Y\n",
       "0  0.414991  0.571723\n",
       "1  1.739270  1.383048\n",
       "2  4.355215  6.150757\n",
       "3  2.509085  2.692491\n",
       "4  1.465250  0.263816"
      ]
     },
     "execution_count": 13,
     "metadata": {},
     "output_type": "execute_result"
    }
   ],
   "source": [
    "fig52.head()"
   ]
  },
  {
   "cell_type": "code",
   "execution_count": 14,
   "id": "b47aff8e",
   "metadata": {},
   "outputs": [
    {
     "data": {
      "text/html": [
       "<div>\n",
       "<style scoped>\n",
       "    .dataframe tbody tr th:only-of-type {\n",
       "        vertical-align: middle;\n",
       "    }\n",
       "\n",
       "    .dataframe tbody tr th {\n",
       "        vertical-align: top;\n",
       "    }\n",
       "\n",
       "    .dataframe thead th {\n",
       "        text-align: right;\n",
       "    }\n",
       "</style>\n",
       "<table border=\"1\" class=\"dataframe\">\n",
       "  <thead>\n",
       "    <tr style=\"text-align: right;\">\n",
       "      <th></th>\n",
       "      <th>X</th>\n",
       "      <th>Y</th>\n",
       "    </tr>\n",
       "  </thead>\n",
       "  <tbody>\n",
       "    <tr>\n",
       "      <th>95</th>\n",
       "      <td>2.146799</td>\n",
       "      <td>3.887730</td>\n",
       "    </tr>\n",
       "    <tr>\n",
       "      <th>96</th>\n",
       "      <td>3.357127</td>\n",
       "      <td>3.821765</td>\n",
       "    </tr>\n",
       "    <tr>\n",
       "      <th>97</th>\n",
       "      <td>3.162842</td>\n",
       "      <td>3.169746</td>\n",
       "    </tr>\n",
       "    <tr>\n",
       "      <th>98</th>\n",
       "      <td>1.574346</td>\n",
       "      <td>4.480406</td>\n",
       "    </tr>\n",
       "    <tr>\n",
       "      <th>99</th>\n",
       "      <td>2.948085</td>\n",
       "      <td>3.236203</td>\n",
       "    </tr>\n",
       "  </tbody>\n",
       "</table>\n",
       "</div>"
      ],
      "text/plain": [
       "           X         Y\n",
       "95  2.146799  3.887730\n",
       "96  3.357127  3.821765\n",
       "97  3.162842  3.169746\n",
       "98  1.574346  4.480406\n",
       "99  2.948085  3.236203"
      ]
     },
     "execution_count": 14,
     "metadata": {},
     "output_type": "execute_result"
    }
   ],
   "source": [
    "fig52.tail()"
   ]
  },
  {
   "cell_type": "code",
   "execution_count": 15,
   "id": "9fd14751",
   "metadata": {},
   "outputs": [
    {
     "data": {
      "text/plain": [
       "(100, 2)"
      ]
     },
     "execution_count": 15,
     "metadata": {},
     "output_type": "execute_result"
    }
   ],
   "source": [
    "fig52.shape"
   ]
  },
  {
   "cell_type": "code",
   "execution_count": 16,
   "id": "00cb1d54",
   "metadata": {},
   "outputs": [
    {
     "data": {
      "text/html": [
       "<div>\n",
       "<style scoped>\n",
       "    .dataframe tbody tr th:only-of-type {\n",
       "        vertical-align: middle;\n",
       "    }\n",
       "\n",
       "    .dataframe tbody tr th {\n",
       "        vertical-align: top;\n",
       "    }\n",
       "\n",
       "    .dataframe thead th {\n",
       "        text-align: right;\n",
       "    }\n",
       "</style>\n",
       "<table border=\"1\" class=\"dataframe\">\n",
       "  <thead>\n",
       "    <tr style=\"text-align: right;\">\n",
       "      <th></th>\n",
       "      <th>X</th>\n",
       "      <th>Y</th>\n",
       "    </tr>\n",
       "  </thead>\n",
       "  <tbody>\n",
       "    <tr>\n",
       "      <th>count</th>\n",
       "      <td>100.000000</td>\n",
       "      <td>100.000000</td>\n",
       "    </tr>\n",
       "    <tr>\n",
       "      <th>mean</th>\n",
       "      <td>3.031319</td>\n",
       "      <td>3.018473</td>\n",
       "    </tr>\n",
       "    <tr>\n",
       "      <th>std</th>\n",
       "      <td>1.131920</td>\n",
       "      <td>2.257812</td>\n",
       "    </tr>\n",
       "    <tr>\n",
       "      <th>min</th>\n",
       "      <td>0.005124</td>\n",
       "      <td>-3.263926</td>\n",
       "    </tr>\n",
       "    <tr>\n",
       "      <th>25%</th>\n",
       "      <td>2.140309</td>\n",
       "      <td>1.288116</td>\n",
       "    </tr>\n",
       "    <tr>\n",
       "      <th>50%</th>\n",
       "      <td>3.113845</td>\n",
       "      <td>3.073942</td>\n",
       "    </tr>\n",
       "    <tr>\n",
       "      <th>75%</th>\n",
       "      <td>3.837339</td>\n",
       "      <td>4.766682</td>\n",
       "    </tr>\n",
       "    <tr>\n",
       "      <th>max</th>\n",
       "      <td>5.597868</td>\n",
       "      <td>7.417962</td>\n",
       "    </tr>\n",
       "  </tbody>\n",
       "</table>\n",
       "</div>"
      ],
      "text/plain": [
       "                X           Y\n",
       "count  100.000000  100.000000\n",
       "mean     3.031319    3.018473\n",
       "std      1.131920    2.257812\n",
       "min      0.005124   -3.263926\n",
       "25%      2.140309    1.288116\n",
       "50%      3.113845    3.073942\n",
       "75%      3.837339    4.766682\n",
       "max      5.597868    7.417962"
      ]
     },
     "execution_count": 16,
     "metadata": {},
     "output_type": "execute_result"
    }
   ],
   "source": [
    "fig52.describe()"
   ]
  },
  {
   "cell_type": "code",
   "execution_count": 17,
   "id": "4743c708",
   "metadata": {},
   "outputs": [],
   "source": [
    "y52 = fig52.Y\n",
    "X52 = fig52.X\n",
    "X52 = sm.add_constant(X52)"
   ]
  },
  {
   "cell_type": "code",
   "execution_count": 18,
   "id": "f3d3eebd",
   "metadata": {},
   "outputs": [
    {
     "name": "stdout",
     "output_type": "stream",
     "text": [
      "                            OLS Regression Results                            \n",
      "==============================================================================\n",
      "Dep. Variable:                      Y   R-squared:                       0.271\n",
      "Model:                            OLS   Adj. R-squared:                  0.264\n",
      "Method:                 Least Squares   F-statistic:                     36.52\n",
      "Date:                Mon, 08 Nov 2021   Prob (F-statistic):           2.73e-08\n",
      "Time:                        14:41:06   Log-Likelihood:                -206.99\n",
      "No. Observations:                 100   AIC:                             418.0\n",
      "Df Residuals:                      98   BIC:                             423.2\n",
      "Df Model:                           1                                         \n",
      "Covariance Type:            nonrobust                                         \n",
      "==============================================================================\n",
      "                 coef    std err          t      P>|t|      [0.025      0.975]\n",
      "------------------------------------------------------------------------------\n",
      "const         -0.1321      0.556     -0.238      0.813      -1.236       0.972\n",
      "X              1.0393      0.172      6.043      0.000       0.698       1.381\n",
      "==============================================================================\n",
      "Omnibus:                        1.038   Durbin-Watson:                   1.988\n",
      "Prob(Omnibus):                  0.595   Jarque-Bera (JB):                0.577\n",
      "Skew:                          -0.133   Prob(JB):                        0.749\n",
      "Kurtosis:                       3.260   Cond. No.                         10.1\n",
      "==============================================================================\n",
      "\n",
      "Notes:\n",
      "[1] Standard Errors assume that the covariance matrix of the errors is correctly specified.\n"
     ]
    }
   ],
   "source": [
    "model52 = sm.OLS(y52, X52)\n",
    "results52 = model52.fit()\n",
    "print(results52.summary())"
   ]
  },
  {
   "cell_type": "code",
   "execution_count": 19,
   "id": "09808874",
   "metadata": {},
   "outputs": [],
   "source": [
    "fig53 = pd.read_excel(\"FIG53.XLS\")"
   ]
  },
  {
   "cell_type": "code",
   "execution_count": 20,
   "id": "ae87d78b",
   "metadata": {},
   "outputs": [
    {
     "data": {
      "text/html": [
       "<div>\n",
       "<style scoped>\n",
       "    .dataframe tbody tr th:only-of-type {\n",
       "        vertical-align: middle;\n",
       "    }\n",
       "\n",
       "    .dataframe tbody tr th {\n",
       "        vertical-align: top;\n",
       "    }\n",
       "\n",
       "    .dataframe thead th {\n",
       "        text-align: right;\n",
       "    }\n",
       "</style>\n",
       "<table border=\"1\" class=\"dataframe\">\n",
       "  <thead>\n",
       "    <tr style=\"text-align: right;\">\n",
       "      <th></th>\n",
       "      <th>X</th>\n",
       "      <th>Y</th>\n",
       "    </tr>\n",
       "  </thead>\n",
       "  <tbody>\n",
       "    <tr>\n",
       "      <th>0</th>\n",
       "      <td>0.414991</td>\n",
       "      <td>0.422828</td>\n",
       "    </tr>\n",
       "    <tr>\n",
       "      <th>1</th>\n",
       "      <td>1.739270</td>\n",
       "      <td>1.721458</td>\n",
       "    </tr>\n",
       "    <tr>\n",
       "      <th>2</th>\n",
       "      <td>4.355215</td>\n",
       "      <td>4.444992</td>\n",
       "    </tr>\n",
       "    <tr>\n",
       "      <th>3</th>\n",
       "      <td>2.509085</td>\n",
       "      <td>2.518255</td>\n",
       "    </tr>\n",
       "    <tr>\n",
       "      <th>4</th>\n",
       "      <td>1.465250</td>\n",
       "      <td>1.405178</td>\n",
       "    </tr>\n",
       "  </tbody>\n",
       "</table>\n",
       "</div>"
      ],
      "text/plain": [
       "          X         Y\n",
       "0  0.414991  0.422828\n",
       "1  1.739270  1.721458\n",
       "2  4.355215  4.444992\n",
       "3  2.509085  2.518255\n",
       "4  1.465250  1.405178"
      ]
     },
     "execution_count": 20,
     "metadata": {},
     "output_type": "execute_result"
    }
   ],
   "source": [
    "fig53.head()"
   ]
  },
  {
   "cell_type": "code",
   "execution_count": 21,
   "id": "e44fa90b",
   "metadata": {},
   "outputs": [
    {
     "data": {
      "text/html": [
       "<div>\n",
       "<style scoped>\n",
       "    .dataframe tbody tr th:only-of-type {\n",
       "        vertical-align: middle;\n",
       "    }\n",
       "\n",
       "    .dataframe tbody tr th {\n",
       "        vertical-align: top;\n",
       "    }\n",
       "\n",
       "    .dataframe thead th {\n",
       "        text-align: right;\n",
       "    }\n",
       "</style>\n",
       "<table border=\"1\" class=\"dataframe\">\n",
       "  <thead>\n",
       "    <tr style=\"text-align: right;\">\n",
       "      <th></th>\n",
       "      <th>X</th>\n",
       "      <th>Y</th>\n",
       "    </tr>\n",
       "  </thead>\n",
       "  <tbody>\n",
       "    <tr>\n",
       "      <th>95</th>\n",
       "      <td>2.146799</td>\n",
       "      <td>2.233845</td>\n",
       "    </tr>\n",
       "    <tr>\n",
       "      <th>96</th>\n",
       "      <td>3.357127</td>\n",
       "      <td>3.380359</td>\n",
       "    </tr>\n",
       "    <tr>\n",
       "      <th>97</th>\n",
       "      <td>3.162842</td>\n",
       "      <td>3.163188</td>\n",
       "    </tr>\n",
       "    <tr>\n",
       "      <th>98</th>\n",
       "      <td>1.574346</td>\n",
       "      <td>1.719649</td>\n",
       "    </tr>\n",
       "    <tr>\n",
       "      <th>99</th>\n",
       "      <td>4.325516</td>\n",
       "      <td>4.387482</td>\n",
       "    </tr>\n",
       "  </tbody>\n",
       "</table>\n",
       "</div>"
      ],
      "text/plain": [
       "           X         Y\n",
       "95  2.146799  2.233845\n",
       "96  3.357127  3.380359\n",
       "97  3.162842  3.163188\n",
       "98  1.574346  1.719649\n",
       "99  4.325516  4.387482"
      ]
     },
     "execution_count": 21,
     "metadata": {},
     "output_type": "execute_result"
    }
   ],
   "source": [
    "fig53.tail()"
   ]
  },
  {
   "cell_type": "code",
   "execution_count": 22,
   "id": "74d17163",
   "metadata": {},
   "outputs": [
    {
     "data": {
      "text/plain": [
       "(100, 2)"
      ]
     },
     "execution_count": 22,
     "metadata": {},
     "output_type": "execute_result"
    }
   ],
   "source": [
    "fig53.shape"
   ]
  },
  {
   "cell_type": "code",
   "execution_count": 23,
   "id": "0ee14876",
   "metadata": {},
   "outputs": [
    {
     "data": {
      "text/html": [
       "<div>\n",
       "<style scoped>\n",
       "    .dataframe tbody tr th:only-of-type {\n",
       "        vertical-align: middle;\n",
       "    }\n",
       "\n",
       "    .dataframe tbody tr th {\n",
       "        vertical-align: top;\n",
       "    }\n",
       "\n",
       "    .dataframe thead th {\n",
       "        text-align: right;\n",
       "    }\n",
       "</style>\n",
       "<table border=\"1\" class=\"dataframe\">\n",
       "  <thead>\n",
       "    <tr style=\"text-align: right;\">\n",
       "      <th></th>\n",
       "      <th>X</th>\n",
       "      <th>Y</th>\n",
       "    </tr>\n",
       "  </thead>\n",
       "  <tbody>\n",
       "    <tr>\n",
       "      <th>count</th>\n",
       "      <td>100.000000</td>\n",
       "      <td>100.000000</td>\n",
       "    </tr>\n",
       "    <tr>\n",
       "      <th>mean</th>\n",
       "      <td>3.045094</td>\n",
       "      <td>3.044927</td>\n",
       "    </tr>\n",
       "    <tr>\n",
       "      <th>std</th>\n",
       "      <td>1.139254</td>\n",
       "      <td>1.146261</td>\n",
       "    </tr>\n",
       "    <tr>\n",
       "      <th>min</th>\n",
       "      <td>0.005124</td>\n",
       "      <td>-0.077661</td>\n",
       "    </tr>\n",
       "    <tr>\n",
       "      <th>25%</th>\n",
       "      <td>2.140309</td>\n",
       "      <td>2.185499</td>\n",
       "    </tr>\n",
       "    <tr>\n",
       "      <th>50%</th>\n",
       "      <td>3.139180</td>\n",
       "      <td>3.097413</td>\n",
       "    </tr>\n",
       "    <tr>\n",
       "      <th>75%</th>\n",
       "      <td>3.874080</td>\n",
       "      <td>3.882446</td>\n",
       "    </tr>\n",
       "    <tr>\n",
       "      <th>max</th>\n",
       "      <td>5.597868</td>\n",
       "      <td>5.655590</td>\n",
       "    </tr>\n",
       "  </tbody>\n",
       "</table>\n",
       "</div>"
      ],
      "text/plain": [
       "                X           Y\n",
       "count  100.000000  100.000000\n",
       "mean     3.045094    3.044927\n",
       "std      1.139254    1.146261\n",
       "min      0.005124   -0.077661\n",
       "25%      2.140309    2.185499\n",
       "50%      3.139180    3.097413\n",
       "75%      3.874080    3.882446\n",
       "max      5.597868    5.655590"
      ]
     },
     "execution_count": 23,
     "metadata": {},
     "output_type": "execute_result"
    }
   ],
   "source": [
    "fig53.describe()"
   ]
  },
  {
   "cell_type": "code",
   "execution_count": 24,
   "id": "5f0726ac",
   "metadata": {},
   "outputs": [],
   "source": [
    "y53 = fig53.Y\n",
    "X53 = fig53.X\n",
    "X53 = sm.add_constant(X53)"
   ]
  },
  {
   "cell_type": "code",
   "execution_count": 25,
   "id": "dac58347",
   "metadata": {},
   "outputs": [
    {
     "name": "stdout",
     "output_type": "stream",
     "text": [
      "                            OLS Regression Results                            \n",
      "==============================================================================\n",
      "Dep. Variable:                      Y   R-squared:                       0.993\n",
      "Model:                            OLS   Adj. R-squared:                  0.993\n",
      "Method:                 Least Squares   F-statistic:                 1.372e+04\n",
      "Date:                Mon, 08 Nov 2021   Prob (F-statistic):          3.92e-107\n",
      "Time:                        14:44:51   Log-Likelihood:                 92.401\n",
      "No. Observations:                 100   AIC:                            -180.8\n",
      "Df Residuals:                      98   BIC:                            -175.6\n",
      "Df Model:                           1                                         \n",
      "Covariance Type:            nonrobust                                         \n",
      "==============================================================================\n",
      "                 coef    std err          t      P>|t|      [0.025      0.975]\n",
      "------------------------------------------------------------------------------\n",
      "const         -0.0080      0.028     -0.288      0.774      -0.063       0.047\n",
      "X              1.0026      0.009    117.138      0.000       0.986       1.020\n",
      "==============================================================================\n",
      "Omnibus:                        1.044   Durbin-Watson:                   1.969\n",
      "Prob(Omnibus):                  0.593   Jarque-Bera (JB):                0.589\n",
      "Skew:                          -0.142   Prob(JB):                        0.745\n",
      "Kurtosis:                       3.247   Cond. No.                         10.1\n",
      "==============================================================================\n",
      "\n",
      "Notes:\n",
      "[1] Standard Errors assume that the covariance matrix of the errors is correctly specified.\n"
     ]
    }
   ],
   "source": [
    "model53 = sm.OLS(y53, X53)\n",
    "results53 = model53.fit()\n",
    "print(results53.summary())"
   ]
  },
  {
   "cell_type": "code",
   "execution_count": null,
   "id": "c66334b7",
   "metadata": {},
   "outputs": [],
   "source": [
    "fig54 = pd.read_excel(\"FIG54.XLS\")"
   ]
  },
  {
   "cell_type": "code",
   "execution_count": null,
   "id": "351b8e18",
   "metadata": {},
   "outputs": [],
   "source": [
    "fig54.head()"
   ]
  },
  {
   "cell_type": "code",
   "execution_count": null,
   "id": "2c153962",
   "metadata": {},
   "outputs": [],
   "source": [
    "fig54.tail()"
   ]
  },
  {
   "cell_type": "code",
   "execution_count": null,
   "id": "f471129a",
   "metadata": {},
   "outputs": [],
   "source": [
    "fig54.shape"
   ]
  },
  {
   "cell_type": "code",
   "execution_count": null,
   "id": "c7c67697",
   "metadata": {},
   "outputs": [],
   "source": [
    "fig54.describe()"
   ]
  },
  {
   "cell_type": "code",
   "execution_count": null,
   "id": "9042a209",
   "metadata": {},
   "outputs": [],
   "source": [
    "y54 = fig54.Y\n",
    "X54 = fig54.X\n",
    "X54 = sm.add_constant(X54)"
   ]
  },
  {
   "cell_type": "code",
   "execution_count": null,
   "id": "774be4b9",
   "metadata": {},
   "outputs": [],
   "source": [
    "model54 = sm.OLS(y54, X54)\n",
    "results54 = model54.fit()\n",
    "print(results54.summary())"
   ]
  },
  {
   "cell_type": "markdown",
   "id": "17321eb6",
   "metadata": {},
   "source": [
    "### __The Deforestation Regression__"
   ]
  },
  {
   "cell_type": "code",
   "execution_count": null,
   "id": "db631fb2",
   "metadata": {},
   "outputs": [],
   "source": [
    "forest = pd.read_excel(\"FOREST.XLS\")"
   ]
  },
  {
   "cell_type": "code",
   "execution_count": null,
   "id": "0eb5dc63",
   "metadata": {},
   "outputs": [],
   "source": [
    "forest.head()"
   ]
  },
  {
   "cell_type": "code",
   "execution_count": null,
   "id": "6d281e75",
   "metadata": {},
   "outputs": [],
   "source": [
    "forest.shape"
   ]
  },
  {
   "cell_type": "code",
   "execution_count": null,
   "id": "71310805",
   "metadata": {},
   "outputs": [],
   "source": [
    "forest.describe()"
   ]
  },
  {
   "cell_type": "code",
   "execution_count": null,
   "id": "8861bb7a",
   "metadata": {},
   "outputs": [],
   "source": [
    "y = forest['Forest loss']\n",
    "X = forest['Pop dens']\n",
    "X = sm.add_constant(X)"
   ]
  },
  {
   "cell_type": "code",
   "execution_count": null,
   "id": "90b582b2",
   "metadata": {},
   "outputs": [],
   "source": [
    "model = sm.OLS(y, X)\n",
    "results = model.fit()\n",
    "print(results.summary())"
   ]
  },
  {
   "cell_type": "code",
   "execution_count": 26,
   "id": "af1d12ef",
   "metadata": {},
   "outputs": [
    {
     "name": "stdout",
     "output_type": "stream",
     "text": [
      "Variable    Type                        Data/Info\n",
      "-------------------------------------------------\n",
      "X51         DataFrame                      const         X\\n0    <...>09085\\n4    1.0  1.465250\n",
      "X52         DataFrame                       const         X\\n0   <...>n\\n[100 rows x 2 columns]\n",
      "X53         DataFrame                       const         X\\n0   <...>n\\n[100 rows x 2 columns]\n",
      "fig51       DataFrame                             X         Y\\n0 <...>35\\n4  1.465250 -1.433530\n",
      "fig52       DataFrame                              X         Y\\n0<...>n\\n[100 rows x 2 columns]\n",
      "fig53       DataFrame                              X         Y\\n0<...>n\\n[100 rows x 2 columns]\n",
      "model51     OLS                         <statsmodels.regression.l<...>object at 0x7fa7606bf8e0>\n",
      "model52     OLS                         <statsmodels.regression.l<...>object at 0x7fa77a6321c0>\n",
      "model53     OLS                         <statsmodels.regression.l<...>object at 0x7fa77a6395b0>\n",
      "np          module                      <module 'numpy' from '/Us<...>kages/numpy/__init__.py'>\n",
      "pd          module                      <module 'pandas' from '/U<...>ages/pandas/__init__.py'>\n",
      "plt         module                      <module 'matplotlib.pyplo<...>es/matplotlib/pyplot.py'>\n",
      "results51   RegressionResultsWrapper    <statsmodels.regression.l<...>object at 0x7fa77a5dc3a0>\n",
      "results52   RegressionResultsWrapper    <statsmodels.regression.l<...>object at 0x7fa74871cbb0>\n",
      "results53   RegressionResultsWrapper    <statsmodels.regression.l<...>object at 0x7fa77a639550>\n",
      "sm          module                      <module 'statsmodels.api'<...>ages/statsmodels/api.py'>\n",
      "stats       module                      <module 'scipy.stats' fro<...>scipy/stats/__init__.py'>\n",
      "y51         Series                      0    1.951798\\n1   -1.562<...>\\nName: Y, dtype: float64\n",
      "y52         Series                      0     0.571723\\n1     1.3<...>ngth: 100, dtype: float64\n",
      "y53         Series                      0     0.422828\\n1     1.7<...>ngth: 100, dtype: float64\n"
     ]
    }
   ],
   "source": [
    "whos"
   ]
  },
  {
   "cell_type": "code",
   "execution_count": 27,
   "id": "3e749bfb",
   "metadata": {},
   "outputs": [
    {
     "data": {
      "text/html": [
       "<div>\n",
       "<style scoped>\n",
       "    .dataframe tbody tr th:only-of-type {\n",
       "        vertical-align: middle;\n",
       "    }\n",
       "\n",
       "    .dataframe tbody tr th {\n",
       "        vertical-align: top;\n",
       "    }\n",
       "\n",
       "    .dataframe thead th {\n",
       "        text-align: right;\n",
       "    }\n",
       "</style>\n",
       "<table border=\"1\" class=\"dataframe\">\n",
       "  <thead>\n",
       "    <tr style=\"text-align: right;\">\n",
       "      <th></th>\n",
       "      <th>0</th>\n",
       "      <th>1</th>\n",
       "    </tr>\n",
       "  </thead>\n",
       "  <tbody>\n",
       "    <tr>\n",
       "      <th>const</th>\n",
       "      <td>-0.063201</td>\n",
       "      <td>0.047175</td>\n",
       "    </tr>\n",
       "    <tr>\n",
       "      <th>X</th>\n",
       "      <td>0.985592</td>\n",
       "      <td>1.019562</td>\n",
       "    </tr>\n",
       "  </tbody>\n",
       "</table>\n",
       "</div>"
      ],
      "text/plain": [
       "              0         1\n",
       "const -0.063201  0.047175\n",
       "X      0.985592  1.019562"
      ]
     },
     "execution_count": 27,
     "metadata": {},
     "output_type": "execute_result"
    }
   ],
   "source": [
    "results53.conf_int()"
   ]
  },
  {
   "cell_type": "code",
   "execution_count": null,
   "id": "54b878c1",
   "metadata": {},
   "outputs": [],
   "source": []
  }
 ],
 "metadata": {
  "kernelspec": {
   "display_name": "Python 3",
   "language": "python",
   "name": "python3"
  },
  "language_info": {
   "codemirror_mode": {
    "name": "ipython",
    "version": 3
   },
   "file_extension": ".py",
   "mimetype": "text/x-python",
   "name": "python",
   "nbconvert_exporter": "python",
   "pygments_lexer": "ipython3",
   "version": "3.8.11"
  }
 },
 "nbformat": 4,
 "nbformat_minor": 5
}
