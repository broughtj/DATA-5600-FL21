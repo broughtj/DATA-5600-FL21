{
 "cells": [
  {
   "cell_type": "markdown",
   "id": "a8e1209d",
   "metadata": {},
   "source": [
    "# DATA 5600: Introduction to Regression and Machine Learning for Analytics\n",
    "\n",
    "## __Simulating Regression__ <br>\n",
    "\n",
    "Author:  Tyler J. Brough <br>\n",
    "Updated: November 10, 2021 <br>\n",
    "\n",
    "---\n",
    "\n",
    "<br>"
   ]
  },
  {
   "cell_type": "code",
   "execution_count": 1,
   "id": "010820c6",
   "metadata": {},
   "outputs": [],
   "source": [
    "import numpy as np\n",
    "import pandas as pd\n",
    "from scipy import stats\n",
    "import statsmodels.api as sm\n",
    "import matplotlib.pyplot as plt\n",
    "\n",
    "plt.rcParams['figure.figsize'] = [10, 8]"
   ]
  },
  {
   "cell_type": "code",
   "execution_count": 2,
   "id": "d7f32892",
   "metadata": {},
   "outputs": [],
   "source": [
    "np.random.seed(11102021)"
   ]
  },
  {
   "cell_type": "code",
   "execution_count": 3,
   "id": "b44ef299",
   "metadata": {},
   "outputs": [],
   "source": [
    "α = 0.0\n",
    "β = 1.0"
   ]
  },
  {
   "cell_type": "code",
   "execution_count": 91,
   "id": "c7d054b1",
   "metadata": {},
   "outputs": [],
   "source": [
    "N = 40\n",
    "x = np.random.uniform(size=N)\n",
    "#x[x < 0.3] = 0.0\n",
    "X = sm.add_constant(x)"
   ]
  },
  {
   "cell_type": "code",
   "execution_count": 92,
   "id": "33643a1d",
   "metadata": {},
   "outputs": [],
   "source": [
    "μ = 0.0\n",
    "σ = 0.5\n",
    "ϵ = np.random.normal(μ, σ, N)"
   ]
  },
  {
   "cell_type": "code",
   "execution_count": 93,
   "id": "02cd6bb1",
   "metadata": {},
   "outputs": [],
   "source": [
    "y = α + β * x + ϵ"
   ]
  },
  {
   "cell_type": "code",
   "execution_count": 94,
   "id": "3c6ce147",
   "metadata": {},
   "outputs": [
    {
     "data": {
      "text/plain": [
       "[<matplotlib.lines.Line2D at 0x7fcf9ac148e0>]"
      ]
     },
     "execution_count": 94,
     "metadata": {},
     "output_type": "execute_result"
    },
    {
     "data": {
      "image/png": "[encoded data removed]",
      "text/plain": [
       "<Figure size 720x576 with 1 Axes>"
      ]
     },
     "metadata": {
      "needs_background": "light"
     },
     "output_type": "display_data"
    }
   ],
   "source": [
    "plt.plot(x, y, '*')"
   ]
  },
  {
   "cell_type": "code",
   "execution_count": 95,
   "id": "22bae6e5",
   "metadata": {},
   "outputs": [
    {
     "name": "stdout",
     "output_type": "stream",
     "text": [
      "                            OLS Regression Results                            \n",
      "==============================================================================\n",
      "Dep. Variable:                      y   R-squared:                       0.182\n",
      "Model:                            OLS   Adj. R-squared:                  0.161\n",
      "Method:                 Least Squares   F-statistic:                     8.460\n",
      "Date:                Wed, 10 Nov 2021   Prob (F-statistic):            0.00603\n",
      "Time:                        14:20:59   Log-Likelihood:                -18.893\n",
      "No. Observations:                  40   AIC:                             41.79\n",
      "Df Residuals:                      38   BIC:                             45.16\n",
      "Df Model:                           1                                         \n",
      "Covariance Type:            nonrobust                                         \n",
      "==============================================================================\n",
      "                 coef    std err          t      P>|t|      [0.025      0.975]\n",
      "------------------------------------------------------------------------------\n",
      "const          0.0462      0.126      0.367      0.715      -0.208       0.301\n",
      "x1             0.6705      0.231      2.909      0.006       0.204       1.137\n",
      "==============================================================================\n",
      "Omnibus:                        5.501   Durbin-Watson:                   2.085\n",
      "Prob(Omnibus):                  0.064   Jarque-Bera (JB):                4.894\n",
      "Skew:                           0.857   Prob(JB):                       0.0865\n",
      "Kurtosis:                       3.018   Cond. No.                         4.53\n",
      "==============================================================================\n",
      "\n",
      "Notes:\n",
      "[1] Standard Errors assume that the covariance matrix of the errors is correctly specified.\n"
     ]
    }
   ],
   "source": [
    "model = sm.OLS(y, X)\n",
    "results = model.fit()\n",
    "print(results.summary())"
   ]
  },
  {
   "cell_type": "code",
   "execution_count": null,
   "id": "8746bd84",
   "metadata": {},
   "outputs": [],
   "source": []
  },
  {
   "cell_type": "code",
   "execution_count": 96,
   "id": "f4466957",
   "metadata": {},
   "outputs": [],
   "source": [
    "beta_hat = results.params[1]"
   ]
  },
  {
   "cell_type": "code",
   "execution_count": 97,
   "id": "7c3c4f52",
   "metadata": {},
   "outputs": [],
   "source": [
    "std_err_beta = results.bse[1]"
   ]
  },
  {
   "cell_type": "code",
   "execution_count": 98,
   "id": "ee92f29f",
   "metadata": {},
   "outputs": [],
   "source": [
    "hypo_beta = 0.9999"
   ]
  },
  {
   "cell_type": "code",
   "execution_count": 99,
   "id": "03656ac8",
   "metadata": {},
   "outputs": [],
   "source": [
    "t = beta_hat - hypo_beta / std_err_beta"
   ]
  },
  {
   "cell_type": "code",
   "execution_count": 100,
   "id": "97ba6294",
   "metadata": {},
   "outputs": [
    {
     "data": {
      "text/plain": [
       "-3.6667021046200925"
      ]
     },
     "execution_count": 100,
     "metadata": {},
     "output_type": "execute_result"
    }
   ],
   "source": [
    "t"
   ]
  },
  {
   "cell_type": "code",
   "execution_count": null,
   "id": "77bd666f",
   "metadata": {},
   "outputs": [],
   "source": []
  }
 ],
 "metadata": {
  "kernelspec": {
   "display_name": "Python 3",
   "language": "python",
   "name": "python3"
  },
  "language_info": {
   "codemirror_mode": {
    "name": "ipython",
    "version": 3
   },
   "file_extension": ".py",
   "mimetype": "text/x-python",
   "name": "python",
   "nbconvert_exporter": "python",
   "pygments_lexer": "ipython3",
   "version": "3.8.11"
  }
 },
 "nbformat": 4,
 "nbformat_minor": 5
}
