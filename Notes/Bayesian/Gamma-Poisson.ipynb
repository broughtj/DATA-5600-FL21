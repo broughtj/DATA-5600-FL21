{
 "cells": [
  {
   "cell_type": "markdown",
   "id": "12d2c366",
   "metadata": {},
   "source": [
    "# __DATA 5600: Introduction to Regression and Machine Learning for Analytics__\n",
    "\n",
    "## __Notes on the Bayesian Gamma-Poisson Conjugate Model__ <br>\n",
    "\n",
    "Author:      Tyler J. Brough <br>\n",
    "Last Update: December 6, 2021 <br>\n",
    "\n",
    "<br>\n",
    "\n",
    "---\n",
    "\n",
    "<br>"
   ]
  },
  {
   "cell_type": "code",
   "execution_count": 1,
   "id": "f3d2ce4e",
   "metadata": {},
   "outputs": [],
   "source": [
    "import numpy as np\n",
    "import pandas as pd\n",
    "from scipy import stats\n",
    "import seaborn as sns\n",
    "import matplotlib.pyplot as plt\n",
    "\n",
    "sns.set_style('darkgrid')\n",
    "plt.rcParams['figure.figsize'] = [10, 5]"
   ]
  },
  {
   "cell_type": "code",
   "execution_count": 2,
   "id": "f02d9186",
   "metadata": {},
   "outputs": [],
   "source": [
    "np.random.seed(111111)"
   ]
  },
  {
   "cell_type": "markdown",
   "id": "98cb6b9d",
   "metadata": {},
   "source": [
    "<br>\n",
    "\n",
    "## __Introduction__\n",
    "\n",
    "These notes provide an introduction to the Bayesian Gamma-Poisson conjugate model and are based in part on the following: \n",
    "\n",
    "* https://vioshyvo.github.io/Bayesian_inference/conjugate-distributions.html\n",
    "\n",
    "* https://web.ma.utexas.edu/users/pmueller/compbayes/\n",
    "\n",
    "<br>"
   ]
  },
  {
   "cell_type": "markdown",
   "id": "d5ca7b71",
   "metadata": {},
   "source": [
    "### __The Gamma-Poisson Model__\n",
    "\n",
    "<br>\n",
    "\n",
    "The Poisson distribution is a dicrete distribution which models count data (positive integer values). Examples: \n",
    "\n",
    "\n",
    "* Points in a football game\n",
    "\n",
    "* The number bicycles passing a point in the park during lunch hour\n",
    "\n",
    "* The number of customers served at a check-out counter per hour\n",
    "\n",
    "<br>\n",
    "\n",
    "A Poisson random variable is denoted: \n",
    "\n",
    "$$\n",
    "Y \\sim Poisson(\\lambda)\n",
    "$$\n",
    "\n",
    "and has the following properties: \n",
    "\n",
    "* $E[Y] = \\lambda$ \n",
    "\n",
    "* $Var[Y] = \\lambda$\n",
    "\n",
    "* Therefore, $E[Y] = Var[Y]$ (proportional variance)\n",
    "\n",
    "<br>\n",
    "\n",
    "Let's simulate some observations from a $Poisson(3)$ distribution: \n",
    "\n",
    "<br>"
   ]
  },
  {
   "cell_type": "code",
   "execution_count": 3,
   "id": "000a8ec5",
   "metadata": {},
   "outputs": [],
   "source": [
    "n = 10\n",
    "true_lambda = 3\n",
    "y = np.random.poisson(lam=true_lambda, size=n)"
   ]
  },
  {
   "cell_type": "code",
   "execution_count": 4,
   "id": "161317b0",
   "metadata": {},
   "outputs": [
    {
     "data": {
      "text/plain": [
       "array([3, 2, 6, 3, 2, 2, 5, 4, 2, 2])"
      ]
     },
     "execution_count": 4,
     "metadata": {},
     "output_type": "execute_result"
    }
   ],
   "source": [
    "y"
   ]
  },
  {
   "cell_type": "markdown",
   "id": "e17d8875",
   "metadata": {},
   "source": [
    "<br>\n",
    "\n",
    "### __The Likelihood__\n",
    "\n",
    "We know that these data $\\{y\\}_{i=1}^{n=10}$ come from a $Poisson(3)$; but let's forget this for a minute and pretend that we are the Statistician who has obtained these data for the purpose of inference. \n",
    "\n",
    "<br>\n",
    "\n",
    "We will assume that the DGP (data generating process) for these data is the Poisson:\n",
    "\n",
    "$$\n",
    "Y_{1}, \\ldots, Y_{n} \\sim Poisson(\\lambda)\n",
    "$$\n",
    "\n",
    "That is, in a Bayesian setup we will assume a Poisson likelihood function.\n",
    "\n",
    "<br>\n",
    "\n",
    "The likelihood can then be written as:\n",
    "\n",
    "$$\n",
    "p(y | \\lambda) = \\prod_{i=1}^{n} p(y_{i} | \\lambda) = \\prod_{i=1}^{n} \\left(\\lambda^{y_{i}} \\frac{e^{-\\lambda}}{y_{i}!} \\right) \\propto \\lambda^{\\sum_{i=1}^{n} y_{i}} e^{-n\\lambda} = \\lambda^{n \\bar{y}} e^{-n \\lambda}\n",
    "$$\n",
    "\n",
    "<br>\n",
    "\n",
    "Where \n",
    "\n",
    "$$\n",
    "\\bar{y} = \\frac{1}{n} \\sum_{i=1}^{n} y_{i}\n",
    "$$\n",
    "\n",
    "is the arithmetic mean.\n",
    "\n",
    "<br>"
   ]
  },
  {
   "cell_type": "markdown",
   "id": "11dd5b22",
   "metadata": {},
   "source": [
    "### __The Prior__\n",
    "\n",
    "<br>\n",
    "\n",
    "A $Gamma(\\alpha, \\beta)$ is a convenient choice for a prior for $\\lambda$ because it offers a conjugate relationship (i.e. the posterior distribution will also be in the $Gamma$ family).\n",
    "\n",
    "<br>\n",
    "\n",
    "So we can state the prior thus:\n",
    "\n",
    "$$\n",
    "\\lambda \\sim Gamma(\\alpha, \\beta)\n",
    "$$\n",
    "\n",
    "<br>\n",
    "\n",
    "For now we will set the values of the hyperparameters to $\\alpha = 1$ and $\\beta = 1$. \n",
    "\n",
    "<br>"
   ]
  },
  {
   "cell_type": "code",
   "execution_count": 5,
   "id": "cf6db724",
   "metadata": {},
   "outputs": [],
   "source": [
    "## Helper function to plot Beta priors\n",
    "def plot_gamma(a=1, b=1):\n",
    "    x = np.arange(0, 7, 0.01)\n",
    "    y = stats.gamma.pdf(x, a=a, scale=1/b)\n",
    "    plt.plot(x, y, lw = 2.0, color='darkblue', alpha=0.8)\n",
    "    plt.fill_between(x, y, facecolor='orange', alpha=0.5)\n",
    "    plt.title(f\"Gamma({a},{b}) Prior Distribution\")\n",
    "    plt.show()"
   ]
  },
  {
   "cell_type": "code",
   "execution_count": 6,
   "id": "458f37c9",
   "metadata": {},
   "outputs": [
    {
     "data": {
      "image/png": "[encoded data removed]",
      "text/plain": [
       "<Figure size 720x360 with 1 Axes>"
      ]
     },
     "metadata": {},
     "output_type": "display_data"
    }
   ],
   "source": [
    "plot_gamma()"
   ]
  },
  {
   "cell_type": "markdown",
   "id": "8ff5369d",
   "metadata": {},
   "source": [
    "<br>\n",
    "\n",
    "Now, let's plot the posterior using the 10 observations from above.\n",
    "\n",
    "<br>"
   ]
  },
  {
   "cell_type": "code",
   "execution_count": 7,
   "id": "7b746606",
   "metadata": {},
   "outputs": [
    {
     "data": {
      "text/plain": [
       "(32, 11)"
      ]
     },
     "execution_count": 7,
     "metadata": {},
     "output_type": "execute_result"
    }
   ],
   "source": [
    "## Prior hyperparameters\n",
    "alpha = 1\n",
    "beta = 1\n",
    "\n",
    "## Posterior hyperparameters\n",
    "alpha_post = alpha + np.sum(y)\n",
    "beta_post = beta + len(y)\n",
    "\n",
    "(alpha_post, beta_post)"
   ]
  },
  {
   "cell_type": "code",
   "execution_count": 8,
   "id": "a98dec09",
   "metadata": {},
   "outputs": [
    {
     "data": {
      "image/png": "[encoded data removed]",
      "text/plain": [
       "<Figure size 720x360 with 1 Axes>"
      ]
     },
     "metadata": {},
     "output_type": "display_data"
    }
   ],
   "source": [
    "## Plot the posterior\n",
    "plot_gamma(a=alpha_post, b=beta_post)"
   ]
  },
  {
   "cell_type": "markdown",
   "id": "574a306e",
   "metadata": {},
   "source": [
    "<br>\n",
    "\n",
    "Credit: https://github.com/tonyduan/conjugate-bayes/blob/master/conjugate_bayes/models.py\n",
    "        \n",
    "<br>"
   ]
  },
  {
   "cell_type": "code",
   "execution_count": 9,
   "id": "73480fd8",
   "metadata": {},
   "outputs": [],
   "source": [
    "class GammaPoisson(object):\n",
    "    \"\"\"\n",
    "    Conjugate prior for a Poisson distribution with unknown rate λ.\n",
    "    Parameters\n",
    "    ----------\n",
    "    alpha: prior for Gamma(alpha, beta) prior on parameter λ.\n",
    "    beta:  prior for Gamma(alpha, beta) prior on parameter λ.\n",
    "    \"\"\"\n",
    "    def __init__(self, alpha, beta):\n",
    "        self.alpha = alpha\n",
    "        self.beta = beta\n",
    "        \n",
    "    def fit(self, x):\n",
    "        self.alpha += np.sum(x)\n",
    "        self.beta += len(x)\n",
    "\n",
    "    def plot_posterior(self):\n",
    "        x = np.arange(0, 7, 0.01)\n",
    "        y = stats.gamma.pdf(x, a=self.alpha, scale=1/self.beta)\n",
    "        plt.plot(x, y, lw = 2.0, color='darkblue', alpha=0.8)\n",
    "        plt.fill_between(x, y, facecolor='orange', alpha=0.5)\n",
    "        plt.title(f\"Gamma({self.alpha},{self.beta}) Prior Distribution\")\n",
    "        plt.show()"
   ]
  },
  {
   "cell_type": "code",
   "execution_count": 10,
   "id": "eb56ec61",
   "metadata": {},
   "outputs": [],
   "source": [
    "gp = GammaPoisson(1, 1)"
   ]
  },
  {
   "cell_type": "code",
   "execution_count": 11,
   "id": "6d1e8c27",
   "metadata": {},
   "outputs": [],
   "source": [
    "gp.fit(y)"
   ]
  },
  {
   "cell_type": "code",
   "execution_count": 12,
   "id": "cb7c7b26",
   "metadata": {},
   "outputs": [
    {
     "data": {
      "text/plain": [
       "(32, 11)"
      ]
     },
     "execution_count": 12,
     "metadata": {},
     "output_type": "execute_result"
    }
   ],
   "source": [
    "gp.alpha, gp.beta"
   ]
  },
  {
   "cell_type": "code",
   "execution_count": 13,
   "id": "8c5d15d9",
   "metadata": {},
   "outputs": [
    {
     "data": {
      "image/png": "[encoded data removed]",
      "text/plain": [
       "<Figure size 720x360 with 1 Axes>"
      ]
     },
     "metadata": {},
     "output_type": "display_data"
    }
   ],
   "source": [
    "gp.plot_posterior()"
   ]
  },
  {
   "cell_type": "code",
   "execution_count": 14,
   "id": "c149db14",
   "metadata": {},
   "outputs": [
    {
     "data": {
      "text/plain": [
       "(3.1, 1.8900000000000001)"
      ]
     },
     "execution_count": 14,
     "metadata": {},
     "output_type": "execute_result"
    }
   ],
   "source": [
    "np.mean(y), np.var(y)"
   ]
  },
  {
   "cell_type": "markdown",
   "id": "b66cba8b",
   "metadata": {},
   "source": [
    "### __A Larger Simulation Example__\n",
    "\n",
    "* Set $n = 200$\n",
    "\n",
    "* Set $\\lambda = 3$"
   ]
  },
  {
   "cell_type": "code",
   "execution_count": 15,
   "id": "6303f2d0",
   "metadata": {},
   "outputs": [],
   "source": [
    "n = 200\n",
    "true_lambda = 3\n",
    "y = np.random.poisson(lam=true_lambda, size=n)"
   ]
  },
  {
   "cell_type": "code",
   "execution_count": 16,
   "id": "6c3ad31d",
   "metadata": {},
   "outputs": [
    {
     "data": {
      "text/plain": [
       "count    200.000000\n",
       "mean       3.180000\n",
       "std        1.741483\n",
       "min        0.000000\n",
       "25%        2.000000\n",
       "50%        3.000000\n",
       "75%        4.000000\n",
       "max        8.000000\n",
       "dtype: float64"
      ]
     },
     "execution_count": 16,
     "metadata": {},
     "output_type": "execute_result"
    }
   ],
   "source": [
    "y_series = pd.Series(y)\n",
    "y_series.describe()"
   ]
  },
  {
   "cell_type": "code",
   "execution_count": 17,
   "id": "53382786",
   "metadata": {},
   "outputs": [
    {
     "data": {
      "text/plain": [
       "(3.18, 3.0176)"
      ]
     },
     "execution_count": 17,
     "metadata": {},
     "output_type": "execute_result"
    }
   ],
   "source": [
    "np.mean(y), np.var(y)"
   ]
  },
  {
   "cell_type": "code",
   "execution_count": 18,
   "id": "c9607ade",
   "metadata": {},
   "outputs": [
    {
     "data": {
      "image/png": "[encoded data removed]",
      "text/plain": [
       "<Figure size 720x360 with 1 Axes>"
      ]
     },
     "metadata": {},
     "output_type": "display_data"
    }
   ],
   "source": [
    "plt.hist(y, bins=8);"
   ]
  },
  {
   "cell_type": "code",
   "execution_count": 19,
   "id": "6525390e",
   "metadata": {},
   "outputs": [],
   "source": [
    "jeep = GammaPoisson(1, 1)\n",
    "jeep.fit(y)"
   ]
  },
  {
   "cell_type": "code",
   "execution_count": 20,
   "id": "3e7cdcb0",
   "metadata": {},
   "outputs": [
    {
     "data": {
      "text/plain": [
       "(637, 201)"
      ]
     },
     "execution_count": 20,
     "metadata": {},
     "output_type": "execute_result"
    }
   ],
   "source": [
    "jeep.alpha, jeep.beta"
   ]
  },
  {
   "cell_type": "code",
   "execution_count": 21,
   "id": "2c02b8f9",
   "metadata": {},
   "outputs": [
    {
     "data": {
      "image/png": "[encoded data removed]",
      "text/plain": [
       "<Figure size 720x360 with 1 Axes>"
      ]
     },
     "metadata": {},
     "output_type": "display_data"
    }
   ],
   "source": [
    "jeep.plot_posterior()"
   ]
  },
  {
   "cell_type": "markdown",
   "id": "c620b8e7",
   "metadata": {},
   "source": [
    "<br>\n",
    "\n",
    "### __Frequentist MLE, Bootstrap, and Bayesian Comparisons__\n",
    "\n",
    "<br>"
   ]
  },
  {
   "cell_type": "markdown",
   "id": "fd4148b3",
   "metadata": {},
   "source": [
    "#### __Frequentist__"
   ]
  },
  {
   "cell_type": "code",
   "execution_count": 22,
   "id": "c7525ef7",
   "metadata": {},
   "outputs": [
    {
     "data": {
      "text/plain": [
       "(3.18, 3.0176)"
      ]
     },
     "execution_count": 22,
     "metadata": {},
     "output_type": "execute_result"
    }
   ],
   "source": [
    "ybar = np.mean(y)\n",
    "y_var = np.var(y)\n",
    "ybar, y_var"
   ]
  },
  {
   "cell_type": "code",
   "execution_count": 23,
   "id": "779146d8",
   "metadata": {},
   "outputs": [],
   "source": [
    "y_se = np.std(y, ddof=1)/np.sqrt(n)"
   ]
  },
  {
   "cell_type": "code",
   "execution_count": 39,
   "id": "13f4e194",
   "metadata": {},
   "outputs": [
    {
     "data": {
      "text/plain": [
       "(3.18, 0.1231414596936279)"
      ]
     },
     "execution_count": 39,
     "metadata": {},
     "output_type": "execute_result"
    }
   ],
   "source": [
    "ybar, y_se"
   ]
  },
  {
   "cell_type": "code",
   "execution_count": 24,
   "id": "a49ca9dd",
   "metadata": {},
   "outputs": [],
   "source": [
    "conf_level = 0.05\n",
    "lo = stats.t(n-1).ppf(conf_level/2.)\n",
    "hi = stats.t(n-1).ppf(1. - (conf_level/2.))\n",
    "CI = (ybar + y_se*lo, ybar + y_se*hi)"
   ]
  },
  {
   "cell_type": "code",
   "execution_count": 25,
   "id": "b92caa56",
   "metadata": {},
   "outputs": [
    {
     "data": {
      "text/plain": [
       "(2.9371703926887274, 3.422829607311273)"
      ]
     },
     "execution_count": 25,
     "metadata": {},
     "output_type": "execute_result"
    }
   ],
   "source": [
    "CI"
   ]
  },
  {
   "cell_type": "markdown",
   "id": "7d32386e",
   "metadata": {},
   "source": [
    "<br>\n",
    "\n",
    "Let's conduct a classical hypothesis test. The test is the following: \n",
    "\n",
    "<br>\n",
    "\n",
    "$$\n",
    "\\begin{align}\n",
    "H_{0}: & \\quad \\lambda = 3 \\\\\n",
    "& \\\\\n",
    "H_{a}: & \\quad \\lambda \\ne 3\n",
    "\\end{align}\n",
    "$$\n",
    "\n",
    "<br>\n",
    "\n",
    "To do this of course we form the following test statistic:\n",
    "\n",
    "<br>\n",
    "\n",
    "$$\n",
    "t = \\frac{\\bar{y} - 3}{s / \\sqrt{n}}\n",
    "$$\n",
    "\n",
    "<br>\n",
    "\n",
    "Which we can compute rather easily in Python:\n",
    "\n",
    "<br>\n"
   ]
  },
  {
   "cell_type": "code",
   "execution_count": 26,
   "id": "db4a63b2",
   "metadata": {},
   "outputs": [
    {
     "data": {
      "text/plain": [
       "1.4617335253929467"
      ]
     },
     "execution_count": 26,
     "metadata": {},
     "output_type": "execute_result"
    }
   ],
   "source": [
    "t = (ybar - 3.) / y_se\n",
    "t"
   ]
  },
  {
   "cell_type": "code",
   "execution_count": 29,
   "id": "8ffe4bd1",
   "metadata": {},
   "outputs": [
    {
     "data": {
      "text/plain": [
       "1.971956544249395"
      ]
     },
     "execution_count": 29,
     "metadata": {},
     "output_type": "execute_result"
    }
   ],
   "source": [
    "## Two-tailed t-test with 5% confidence level\n",
    "α = 0.05\n",
    "t_crit = np.abs(stats.t(n-1).ppf(1. - (α / 2.)))\n",
    "t_crit"
   ]
  },
  {
   "cell_type": "code",
   "execution_count": 30,
   "id": "043fab48",
   "metadata": {},
   "outputs": [
    {
     "data": {
      "text/plain": [
       "False"
      ]
     },
     "execution_count": 30,
     "metadata": {},
     "output_type": "execute_result"
    }
   ],
   "source": [
    "t > t_crit"
   ]
  },
  {
   "cell_type": "markdown",
   "id": "aaa21d54",
   "metadata": {},
   "source": [
    "<br>\n",
    "\n",
    "We fail to reject the null hypothesis.\n",
    "\n",
    "<br>"
   ]
  },
  {
   "cell_type": "markdown",
   "id": "51bc5907",
   "metadata": {},
   "source": [
    "#### __Bootstrap__"
   ]
  },
  {
   "cell_type": "code",
   "execution_count": 45,
   "id": "21f6dcec",
   "metadata": {},
   "outputs": [],
   "source": [
    "B = 10_000\n",
    "y_bar_star = np.zeros(B)\n",
    "t_star = np.zeros(B)\n",
    "\n",
    "for b in range(B):\n",
    "    y_star = np.random.choice(y, size=n, replace=True)\n",
    "    y_bar_star[b] = np.mean(y_star)\n",
    "    t_star[b] = y_bar_star[b] - 3."
   ]
  },
  {
   "cell_type": "code",
   "execution_count": 46,
   "id": "9ceb65d5",
   "metadata": {},
   "outputs": [
    {
     "data": {
      "image/png": "[encoded data removed]",
      "text/plain": [
       "<Figure size 720x360 with 1 Axes>"
      ]
     },
     "metadata": {},
     "output_type": "display_data"
    }
   ],
   "source": [
    "plt.hist(y_bar_star, bins=100);"
   ]
  },
  {
   "cell_type": "code",
   "execution_count": 47,
   "id": "e19d6d30",
   "metadata": {},
   "outputs": [],
   "source": [
    "y_bar_star.sort()"
   ]
  },
  {
   "cell_type": "code",
   "execution_count": 48,
   "id": "19e5f76a",
   "metadata": {},
   "outputs": [],
   "source": [
    "y_bar_star_se = np.std(y_bar_star, ddof=1)"
   ]
  },
  {
   "cell_type": "code",
   "execution_count": 49,
   "id": "44c74504",
   "metadata": {},
   "outputs": [
    {
     "data": {
      "text/plain": [
       "(3.1789004999999997, 0.12205807395290043)"
      ]
     },
     "execution_count": 49,
     "metadata": {},
     "output_type": "execute_result"
    }
   ],
   "source": [
    "y_bar_star.mean(), y_bar_star_se"
   ]
  },
  {
   "cell_type": "code",
   "execution_count": 50,
   "id": "72f4f7f2",
   "metadata": {},
   "outputs": [
    {
     "data": {
      "text/plain": [
       "(250, 9750)"
      ]
     },
     "execution_count": 50,
     "metadata": {},
     "output_type": "execute_result"
    }
   ],
   "source": [
    "α = 0.05\n",
    "lb = int(B * α / 2.)\n",
    "ub = int(B * (1. - α / 2.))\n",
    "lb, ub"
   ]
  },
  {
   "cell_type": "code",
   "execution_count": 51,
   "id": "c07dd8ee",
   "metadata": {},
   "outputs": [],
   "source": [
    "CI_star = y_bar_star[lb], y_bar_star[ub]"
   ]
  },
  {
   "cell_type": "code",
   "execution_count": 52,
   "id": "747a5ddb",
   "metadata": {},
   "outputs": [
    {
     "data": {
      "text/plain": [
       "(2.94, 3.42)"
      ]
     },
     "execution_count": 52,
     "metadata": {},
     "output_type": "execute_result"
    }
   ],
   "source": [
    "CI_star"
   ]
  },
  {
   "cell_type": "code",
   "execution_count": 54,
   "id": "414639ad",
   "metadata": {},
   "outputs": [],
   "source": [
    "t_star /= y_bar_star_se"
   ]
  },
  {
   "cell_type": "code",
   "execution_count": 56,
   "id": "984a6cef",
   "metadata": {},
   "outputs": [
    {
     "data": {
      "text/plain": [
       "1.465699844395659"
      ]
     },
     "execution_count": 56,
     "metadata": {},
     "output_type": "execute_result"
    }
   ],
   "source": [
    "np.mean(t_star)"
   ]
  },
  {
   "cell_type": "markdown",
   "id": "e51185ae",
   "metadata": {},
   "source": [
    "This is just to show that we can arrive at a standardized $t$-stat in much the same way. But the hypothesis test is rather trivial in actuality because we are working with the non-standardized bootstrap sampling distribution.\n",
    "\n",
    "<br>\n",
    "\n",
    "We would just compare the hypothesized value of $3$ to the $97.5$th quantile\n",
    "\n",
    "<br>"
   ]
  },
  {
   "cell_type": "code",
   "execution_count": 58,
   "id": "6a0f63fa",
   "metadata": {},
   "outputs": [
    {
     "data": {
      "text/plain": [
       "False"
      ]
     },
     "execution_count": 58,
     "metadata": {},
     "output_type": "execute_result"
    }
   ],
   "source": [
    "3. >= y_bar_star[ub]"
   ]
  },
  {
   "cell_type": "markdown",
   "id": "e10bb953",
   "metadata": {},
   "source": [
    "<br>\n",
    "\n",
    "So again we fail to reject the null hypothesis. \n",
    "\n",
    "<br>"
   ]
  },
  {
   "cell_type": "code",
   "execution_count": null,
   "id": "bda82971",
   "metadata": {},
   "outputs": [],
   "source": []
  }
 ],
 "metadata": {
  "kernelspec": {
   "display_name": "Python 3",
   "language": "python",
   "name": "python3"
  },
  "language_info": {
   "codemirror_mode": {
    "name": "ipython",
    "version": 3
   },
   "file_extension": ".py",
   "mimetype": "text/x-python",
   "name": "python",
   "nbconvert_exporter": "python",
   "pygments_lexer": "ipython3",
   "version": "3.8.11"
  }
 },
 "nbformat": 4,
 "nbformat_minor": 5
}
