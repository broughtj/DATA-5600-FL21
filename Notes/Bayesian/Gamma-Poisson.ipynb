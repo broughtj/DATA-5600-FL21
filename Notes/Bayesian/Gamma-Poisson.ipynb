{
 "cells": [
  {
   "cell_type": "markdown",
   "id": "fc22131a",
   "metadata": {},
   "source": [
    "# __DATA 5600: Introduction to Regression and Machine Learning for Analytics__\n",
    "\n",
    "## __Notes on the Bayesian Gamma-Poisson Conjugate Model__ <br>\n",
    "\n",
    "Author:      Tyler J. Brough <br>\n",
    "Last Update: December 6, 2021 <br>\n",
    "\n",
    "<br>\n",
    "\n",
    "---\n",
    "\n",
    "<br>"
   ]
  },
  {
   "cell_type": "code",
   "execution_count": 65,
   "id": "0c7c84f3",
   "metadata": {},
   "outputs": [],
   "source": [
    "import numpy as np\n",
    "import pandas as pd\n",
    "from scipy import stats\n",
    "import seaborn as sns\n",
    "import matplotlib.pyplot as plt\n",
    "\n",
    "sns.set_style('darkgrid')\n",
    "plt.rcParams['figure.figsize'] = [10, 5]"
   ]
  },
  {
   "cell_type": "code",
   "execution_count": 66,
   "id": "d7123246",
   "metadata": {},
   "outputs": [],
   "source": [
    "np.random.seed(111111)"
   ]
  },
  {
   "cell_type": "markdown",
   "id": "1913a34a",
   "metadata": {},
   "source": [
    "<br>\n",
    "\n",
    "## __Introduction__\n",
    "\n",
    "These notes provide an introduction to the Bayesian Gamma-Poisson conjugate model and are based in part on the following: \n",
    "\n",
    "* https://vioshyvo.github.io/Bayesian_inference/conjugate-distributions.html\n",
    "\n",
    "* https://web.ma.utexas.edu/users/pmueller/compbayes/\n",
    "\n",
    "<br>"
   ]
  },
  {
   "cell_type": "markdown",
   "id": "d67f905b",
   "metadata": {},
   "source": [
    "### __The Gamma-Poisson Model__\n",
    "\n",
    "<br>\n",
    "\n",
    "The Poisson distribution is a dicrete distribution which models count data (positive integer values). Examples: \n",
    "\n",
    "\n",
    "* Points in a football game\n",
    "\n",
    "* The number bicycles passing a point in the park during lunch hour\n",
    "\n",
    "* The number of customers served at a check-out counter per hour\n",
    "\n",
    "<br>\n",
    "\n",
    "A Poisson random variable is denoted: \n",
    "\n",
    "$$\n",
    "Y \\sim Poisson(\\lambda)\n",
    "$$\n",
    "\n",
    "and has the following properties: \n",
    "\n",
    "* $E[Y] = \\lambda$ \n",
    "\n",
    "* $Var[Y] = \\lambda$\n",
    "\n",
    "* Therefore, $E[Y] = Var[Y]$ (proportional variance)\n",
    "\n",
    "<br>\n",
    "\n",
    "Let's simulate some observations from a $Poisson(3)$ distribution: \n",
    "\n",
    "<br>"
   ]
  },
  {
   "cell_type": "code",
   "execution_count": 67,
   "id": "288d63a9",
   "metadata": {},
   "outputs": [],
   "source": [
    "n = 10\n",
    "true_lambda = 3\n",
    "y = np.random.poisson(lam=true_lambda, size=n)"
   ]
  },
  {
   "cell_type": "code",
   "execution_count": 68,
   "id": "81d54b35",
   "metadata": {},
   "outputs": [
    {
     "data": {
      "text/plain": [
       "array([3, 2, 6, 3, 2, 2, 5, 4, 2, 2])"
      ]
     },
     "execution_count": 68,
     "metadata": {},
     "output_type": "execute_result"
    }
   ],
   "source": [
    "y"
   ]
  },
  {
   "cell_type": "markdown",
   "id": "90d72258",
   "metadata": {},
   "source": [
    "<br>\n",
    "\n",
    "### __The Likelihood__\n",
    "\n",
    "We know that these data $\\{y\\}_{i=1}^{n=10}$ come from a $Poisson(3)$; but let's forget this for a minute and pretend that we are the Statistician who has obtained these data for the purpose of inference. \n",
    "\n",
    "<br>\n",
    "\n",
    "We will assume that the DGP (data generating process) for these data is the Poisson:\n",
    "\n",
    "$$\n",
    "Y_{1}, \\ldots, Y_{n} \\sim Poisson(\\lambda)\n",
    "$$\n",
    "\n",
    "That is, in a Bayesian setup we will assume a Poisson likelihood function.\n",
    "\n",
    "<br>\n",
    "\n",
    "The likelihood can then be written as:\n",
    "\n",
    "$$\n",
    "p(y | \\lambda) = \\prod_{i=1}^{n} p(y_{i} | \\lambda) = \\prod_{i=1}^{n} \\left(\\lambda^{y_{i}} \\frac{e^{-\\lambda}}{y_{i}!} \\right) \\propto \\lambda^{\\sum_{i=1}^{n} y_{i}} e^{-n\\lambda} = \\lambda^{n \\bar{y}} e^{-n \\lambda}\n",
    "$$\n",
    "\n",
    "<br>\n",
    "\n",
    "Where \n",
    "\n",
    "$$\n",
    "\\bar{y} = \\frac{1}{n} \\sum_{i=1}^{n} y_{i}\n",
    "$$\n",
    "\n",
    "is the arithmetic mean.\n",
    "\n",
    "<br>"
   ]
  },
  {
   "cell_type": "markdown",
   "id": "01d5569b",
   "metadata": {},
   "source": [
    "### __The Prior__\n",
    "\n",
    "<br>\n",
    "\n",
    "A $Gamma(\\alpha, \\beta)$ is a convenient choice for a prior for $\\lambda$ because it offers a conjugate relationship (i.e. the posterior distribution will also be in the $Gamma$ family).\n",
    "\n",
    "<br>\n",
    "\n",
    "So we can state the prior thus:\n",
    "\n",
    "$$\n",
    "\\lambda \\sim Gamma(\\alpha, \\beta)\n",
    "$$\n",
    "\n",
    "<br>\n",
    "\n",
    "For now we will set the values of the hyperparameters to $\\alpha = 1$ and $\\beta = 1$. \n",
    "\n",
    "<br>"
   ]
  },
  {
   "cell_type": "code",
   "execution_count": 69,
   "id": "24435eae",
   "metadata": {},
   "outputs": [],
   "source": [
    "## Helper function to plot Beta priors\n",
    "def plot_gamma(a=1, b=1):\n",
    "    x = np.arange(0, 7, 0.01)\n",
    "    y = stats.gamma.pdf(x, a=a, scale=1/b)\n",
    "    plt.plot(x, y, lw = 2.0, color='darkblue', alpha=0.8)\n",
    "    plt.fill_between(x, y, facecolor='orange', alpha=0.5)\n",
    "    plt.title(f\"Gamma({a},{b}) Prior Distribution\")\n",
    "    plt.show()"
   ]
  },
  {
   "cell_type": "code",
   "execution_count": 70,
   "id": "6bc0024e",
   "metadata": {},
   "outputs": [
    {
     "data": {
      "image/png": "[encoded data removed]",
      "text/plain": [
       "<Figure size 720x360 with 1 Axes>"
      ]
     },
     "metadata": {},
     "output_type": "display_data"
    }
   ],
   "source": [
    "plot_gamma_prior()"
   ]
  },
  {
   "cell_type": "markdown",
   "id": "bf4a34bd",
   "metadata": {},
   "source": [
    "<br>\n",
    "\n",
    "Now, let's plot the posterior using the 10 observations from above.\n",
    "\n",
    "<br>"
   ]
  },
  {
   "cell_type": "code",
   "execution_count": 71,
   "id": "39c5002a",
   "metadata": {},
   "outputs": [
    {
     "data": {
      "text/plain": [
       "(32, 11)"
      ]
     },
     "execution_count": 71,
     "metadata": {},
     "output_type": "execute_result"
    }
   ],
   "source": [
    "## Prior hyperparameters\n",
    "alpha = 1\n",
    "beta = 1\n",
    "\n",
    "## Posterior hyperparameters\n",
    "alpha_post = alpha + np.sum(y)\n",
    "beta_post = beta + len(y)\n",
    "\n",
    "(alpha_post, beta_post)"
   ]
  },
  {
   "cell_type": "code",
   "execution_count": 72,
   "id": "28c5a6d0",
   "metadata": {},
   "outputs": [
    {
     "data": {
      "image/png": "[encoded data removed]",
      "text/plain": [
       "<Figure size 720x360 with 1 Axes>"
      ]
     },
     "metadata": {},
     "output_type": "display_data"
    }
   ],
   "source": [
    "## Plot the posterior\n",
    "plot_gamma(a=alpha_post, b=beta_post)"
   ]
  },
  {
   "cell_type": "markdown",
   "id": "e5d78dc2",
   "metadata": {},
   "source": [
    "<br>\n",
    "\n",
    "Credit: https://github.com/tonyduan/conjugate-bayes/blob/master/conjugate_bayes/models.py\n",
    "        \n",
    "<br>"
   ]
  },
  {
   "cell_type": "code",
   "execution_count": 73,
   "id": "55c3af66",
   "metadata": {},
   "outputs": [],
   "source": [
    "class GammaPoisson(object):\n",
    "    \"\"\"\n",
    "    Conjugate prior for a Poisson distribution with unknown rate λ.\n",
    "    Parameters\n",
    "    ----------\n",
    "    alpha: prior for Gamma(alpha, beta) prior on parameter λ.\n",
    "    beta:  prior for Gamma(alpha, beta) prior on parameter λ.\n",
    "    \"\"\"\n",
    "    def __init__(self, alpha, beta):\n",
    "        self.alpha = alpha\n",
    "        self.beta = beta\n",
    "        \n",
    "    def fit(self, x):\n",
    "        self.alpha += np.sum(x)\n",
    "        self.beta += len(x)\n",
    "\n",
    "    def plot_posterior(self):\n",
    "        x = np.arange(0, 7, 0.01)\n",
    "        y = stats.gamma.pdf(x, a=self.alpha, scale=1/self.beta)\n",
    "        plt.plot(x, y, lw = 2.0, color='darkblue', alpha=0.8)\n",
    "        plt.fill_between(x, y, facecolor='orange', alpha=0.5)\n",
    "        plt.title(f\"Gamma({self.alpha},{self.beta}) Prior Distribution\")\n",
    "        plt.show()"
   ]
  },
  {
   "cell_type": "code",
   "execution_count": 74,
   "id": "d2ac0664",
   "metadata": {},
   "outputs": [],
   "source": [
    "gp = GammaPoisson(1, 1)"
   ]
  },
  {
   "cell_type": "code",
   "execution_count": 75,
   "id": "1949e5cd",
   "metadata": {},
   "outputs": [],
   "source": [
    "gp.fit(y)"
   ]
  },
  {
   "cell_type": "code",
   "execution_count": 76,
   "id": "c6f42888",
   "metadata": {},
   "outputs": [
    {
     "data": {
      "text/plain": [
       "(32, 11)"
      ]
     },
     "execution_count": 76,
     "metadata": {},
     "output_type": "execute_result"
    }
   ],
   "source": [
    "gp.alpha, gp.beta"
   ]
  },
  {
   "cell_type": "code",
   "execution_count": 77,
   "id": "c46807e5",
   "metadata": {},
   "outputs": [
    {
     "data": {
      "image/png": "[encoded data removed]",
      "text/plain": [
       "<Figure size 720x360 with 1 Axes>"
      ]
     },
     "metadata": {},
     "output_type": "display_data"
    }
   ],
   "source": [
    "gp.plot_posterior()"
   ]
  },
  {
   "cell_type": "code",
   "execution_count": 78,
   "id": "c39134c4",
   "metadata": {},
   "outputs": [
    {
     "data": {
      "text/plain": [
       "(3.1, 1.8900000000000001)"
      ]
     },
     "execution_count": 78,
     "metadata": {},
     "output_type": "execute_result"
    }
   ],
   "source": [
    "np.mean(y), np.var(y)"
   ]
  },
  {
   "cell_type": "markdown",
   "id": "2aa13781",
   "metadata": {},
   "source": [
    "### __A Larger Simulation Example__\n",
    "\n",
    "* Set $n = 200$\n",
    "\n",
    "* Set $\\lambda = 3$"
   ]
  },
  {
   "cell_type": "code",
   "execution_count": 83,
   "id": "5f45c973",
   "metadata": {},
   "outputs": [],
   "source": [
    "n = 200\n",
    "true_lambda = 3\n",
    "y = np.random.poisson(lam=true_lambda, size=n)"
   ]
  },
  {
   "cell_type": "code",
   "execution_count": 84,
   "id": "faf4b750",
   "metadata": {},
   "outputs": [
    {
     "data": {
      "text/plain": [
       "count    200.000000\n",
       "mean       2.965000\n",
       "std        1.660591\n",
       "min        0.000000\n",
       "25%        2.000000\n",
       "50%        3.000000\n",
       "75%        4.000000\n",
       "max        8.000000\n",
       "dtype: float64"
      ]
     },
     "execution_count": 84,
     "metadata": {},
     "output_type": "execute_result"
    }
   ],
   "source": [
    "y_series = pd.Series(y)\n",
    "y_series.describe()"
   ]
  },
  {
   "cell_type": "code",
   "execution_count": 85,
   "id": "e69eefbc",
   "metadata": {},
   "outputs": [
    {
     "data": {
      "text/plain": [
       "(2.965, 2.743775)"
      ]
     },
     "execution_count": 85,
     "metadata": {},
     "output_type": "execute_result"
    }
   ],
   "source": [
    "np.mean(y), np.var(y)"
   ]
  },
  {
   "cell_type": "code",
   "execution_count": 86,
   "id": "14ded421",
   "metadata": {},
   "outputs": [
    {
     "data": {
      "image/png": "[encoded data removed]",
      "text/plain": [
       "<Figure size 720x360 with 1 Axes>"
      ]
     },
     "metadata": {},
     "output_type": "display_data"
    }
   ],
   "source": [
    "plt.hist(y, bins=8);"
   ]
  },
  {
   "cell_type": "code",
   "execution_count": 88,
   "id": "e400f4a0",
   "metadata": {},
   "outputs": [],
   "source": [
    "jeep = GammaPoisson(1, 1)\n",
    "jeep.fit(y)"
   ]
  },
  {
   "cell_type": "code",
   "execution_count": 89,
   "id": "e0846829",
   "metadata": {},
   "outputs": [
    {
     "data": {
      "text/plain": [
       "(594, 201)"
      ]
     },
     "execution_count": 89,
     "metadata": {},
     "output_type": "execute_result"
    }
   ],
   "source": [
    "jeep.alpha, jeep.beta"
   ]
  },
  {
   "cell_type": "code",
   "execution_count": 90,
   "id": "5c25448b",
   "metadata": {},
   "outputs": [
    {
     "data": {
      "image/png": "[encoded data removed]",
      "text/plain": [
       "<Figure size 720x360 with 1 Axes>"
      ]
     },
     "metadata": {},
     "output_type": "display_data"
    }
   ],
   "source": [
    "jeep.plot_posterior()"
   ]
  },
  {
   "cell_type": "markdown",
   "id": "af16871d",
   "metadata": {},
   "source": [
    "<br>\n",
    "\n",
    "### __Frequentist MLE, Bootstrap, and Bayesian Comparisons__\n",
    "\n",
    "<br>"
   ]
  },
  {
   "cell_type": "code",
   "execution_count": null,
   "id": "f9b0a2aa",
   "metadata": {},
   "outputs": [],
   "source": []
  },
  {
   "cell_type": "code",
   "execution_count": null,
   "id": "f01c8767",
   "metadata": {},
   "outputs": [],
   "source": []
  },
  {
   "cell_type": "code",
   "execution_count": null,
   "id": "08896437",
   "metadata": {},
   "outputs": [],
   "source": []
  }
 ],
 "metadata": {
  "kernelspec": {
   "display_name": "Python 3",
   "language": "python",
   "name": "python3"
  },
  "language_info": {
   "codemirror_mode": {
    "name": "ipython",
    "version": 3
   },
   "file_extension": ".py",
   "mimetype": "text/x-python",
   "name": "python",
   "nbconvert_exporter": "python",
   "pygments_lexer": "ipython3",
   "version": "3.8.11"
  }
 },
 "nbformat": 4,
 "nbformat_minor": 5
}
