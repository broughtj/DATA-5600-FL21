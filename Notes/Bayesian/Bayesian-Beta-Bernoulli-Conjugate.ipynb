{
 "cells": [
  {
   "cell_type": "markdown",
   "id": "384603c9",
   "metadata": {},
   "source": [
    "# __DATA 5600: Introduction to Regression and Machine Learning for Analytics__\n",
    "\n",
    "## __Notes on the Bayesian Beta-Bernoulli Conjugate Model__ <br>\n",
    "\n",
    "Author:      Tyler J. Brough <br>\n",
    "Last Update: September 13, 2021 <br>\n",
    "\n",
    "<br>"
   ]
  },
  {
   "cell_type": "code",
   "execution_count": 1,
   "id": "317bd947",
   "metadata": {},
   "outputs": [],
   "source": [
    "import numpy as np\n",
    "from scipy import stats\n",
    "import seaborn as sns\n",
    "import matplotlib.pyplot as plt\n",
    "\n",
    "sns.set_style('darkgrid')\n",
    "plt.rcParams['figure.figsize'] = [10, 5]"
   ]
  },
  {
   "cell_type": "markdown",
   "id": "3c34945a",
   "metadata": {},
   "source": [
    "<br>\n",
    "\n",
    "## Introduction\n",
    "\n",
    "<br>\n",
    "\n",
    "I would like to take a step back and consider the process of Bayesian inference in a simpler model. We will first consider the simple case of flipping a coin and estimating the proportion of heads. Let $Y \\in \\{0,1\\}$ be our random variable for the outcome of a coin flip where $y = 1$ stands for heads and $y = 0$ stands for tails. \n",
    "\n",
    "<br>\n",
    "\n",
    "We will first consider the case where we have a fair coin. That is, where $\\theta = 0.5$, and $\\theta$ is the proportion of heads in the total number of flips. By definition, each flip is independent of the last. We usually model coin flipping with the _Binomial distribution_. So we will first take some time to understand the basic details of that particular distribution. \n",
    "\n",
    "<br>\n",
    "\n",
    "Note that we are no so interested in the coin flipping problem per se, but rather are interested in it because it offers a simple setting in which to come to grips with the process of Bayesian statistical inference. Although, the binomial distribution does play an important role in finance, and coin flipping can be replaced in a more general setting for any binary outcome. Therefore, the process of statistical inference that we derive for coin flipping can apply much more broadly to more interesting questions. Here are some examples of binary random variables that we might be interested in:\n",
    "\n",
    "<br>\n",
    "\n",
    "- The existence of God\n",
    "\n",
    "- In a two-party election, what is the probability that a person will vote for each candidate?\n",
    "\n",
    "- If you are an airline analyst, what is the probability that a passenger will show up for his flight? Should you overbook? By how much?\n",
    "\n",
    "- For a given job training program, what is the probability that we will see at least a $10\\%$ improvement?\n",
    "\n",
    "- For a given survey question, what is the probability that a respondent will agree or disagree?\n",
    "\n",
    "- In online advertising what is the probability of a click-through?\n",
    "\n",
    "<br>"
   ]
  },
  {
   "cell_type": "markdown",
   "id": "78ca15d6",
   "metadata": {},
   "source": [
    "<br>\n",
    "\n",
    "## The Bernoulli and Binomial Distributions\n",
    "\n",
    "<br>\n",
    "\n",
    "Please see the following Wikipedia artciles on the _Bernoulli_ and _Binomial_ distributions:\n",
    "\n",
    "- The Bernoulli distribution: <https://en.wikipedia.org/wiki/Bernoulli_distribution>\n",
    "\n",
    "- The Binomial distribution: <https://en.wikipedia.org/wiki/Binomial_distribution>\n",
    "\n",
    "<br>"
   ]
  },
  {
   "cell_type": "markdown",
   "id": "6df67e31",
   "metadata": {},
   "source": [
    "<br>\n",
    "\n",
    "### The Bernoulli Distribution\n",
    "\n",
    "<br>\n",
    "\n",
    "Consider flipping a coin a single time and recording the outcome. Let the random variable $Y$ represent the outcome of the single flip. Also let $\\theta$ be the probability of the coin landing on heads (if it is a fair coin, then $\\theta = 0.5$). Then we can say the following:\n",
    "\n",
    "- $p(y = 1 | \\theta) = \\theta$\n",
    "\n",
    "- $p(y = 0 | \\theta) = 1 - \\theta$\n",
    "\n",
    "We can combine these equations as follows:\n",
    "\n",
    "$$\n",
    "p(y | \\theta) = \\theta^{y} (1 - \\theta)^{(1 - y)}\n",
    "$$\n",
    "\n",
    "This is the _Bernoulli distribution_ for $Y \\in \\{0,1\\}$ and $0 \\le \\theta \\le 1$. \n",
    "\n",
    "We can show that:\n",
    "\n",
    "- $E(Y) = \\theta$\n",
    "\n",
    "- $Var(Y) = \\theta (1 - \\theta)$\n",
    "\n",
    "Note that when $y = 1$ the expression simplifies to $\\theta$, and when $y = 1$ the expression becomes $(1 - \\theta)$\n",
    "\n",
    "<br>"
   ]
  },
  {
   "cell_type": "markdown",
   "id": "c6254525",
   "metadata": {},
   "source": [
    "<br>\n",
    "\n",
    "### The Binomial Distribution\n",
    "\n",
    "<br>\n",
    "\n",
    "Now consider the case when we flip a coin some number of times, denote this by $N$. We might then ask how many times a heads came up in the total number of flips. In this case, $\\theta$ is still the probability of heads for a single flip, but we can also interpret it as the proportion of heads in $N$ flips. Each flip is called a Bernoulli trial. So the Binomial distribution is a generalization of the Bernoulli distribution. In fact, when $N = 1$, the Binomial distribution collapses to the Bernoulli distribution. \n",
    "\n",
    "<br>\n",
    "\n",
    "Let $X \\in \\{1,\\ldots,N\\}$ represent the number of heads in $N$ trials. In other words, let $X = \\sum\\limits_{i=1}^{N} Y_{i}$, where each $Y_{i}$ is the outcome of a single trial. Then $X$ has a _Binomial_ distribution (or $X$ is distributed according to the Binomial distribution):\n",
    "\n",
    "<br>\n",
    "\n",
    "$$\n",
    "p(X | N) = \\binom{N}{X} \\theta^{X} (1 - \\theta)^{(N - X)}\n",
    "$$\n",
    "\n",
    "<br>\n",
    "\n",
    "where \n",
    "\n",
    "<br>\n",
    "\n",
    "$$\n",
    "\\binom{N}{X} = \\frac{N!}{(N-X)!X!}\n",
    "$$\n",
    "\n",
    "<br>\n",
    "\n",
    "is the number of ways to choose $X$ items from $N$.\n",
    "\n",
    "<br>\n",
    "\n",
    "Say we have the data set $D = \\{y_{1}, \\ldots, y_{N}\\}$ where each $y_{i}$ is the observed outcome of a single flip (i.e. a single Bernoulli trial). Notice that the likelihood function becomes:\n",
    "\n",
    "<br>\n",
    "\n",
    "$$\n",
    "p(D | \\theta) = \\prod\\limits_{i=1}^{N} p(y_{i} | \\theta) = \\prod\\limits_{i=1}^{N} \\theta^{y_{i}} (1 - \\theta)^{(1 - y_{i})} = \\theta^{N_{1}} (1 - \\theta)^{N_{0}}\n",
    "$$\n",
    "\n",
    "<br>\n",
    "\n",
    "where $N_{1} = \\sum_{i} y_{i}$ is the number of heads and $N_{0} = \\sum_{i} (1 - y_{i})$ is the number of tails. Obviously, $N = N_{1} + N_{0}$. \n",
    "\n",
    "<br>\n",
    "\n",
    "This the Binomial likelihood function for our data. \n",
    "\n",
    "<br>\n",
    "<br>"
   ]
  },
  {
   "cell_type": "markdown",
   "id": "94cf3447",
   "metadata": {},
   "source": [
    "<br>\n",
    "\n",
    "## Parameter Estimation\n",
    "\n",
    "<br>\n",
    "\n",
    "Say we have a coin with probability of heads $\\theta$. How do we estimate $\\theta$ from a sequence of coin tosses $D = \\{Y_{1}, \\ldots, Y_{N}\\}$, where $Y_{i} \\in \\{0,1\\}$?\n",
    "\n",
    "<br>"
   ]
  },
  {
   "cell_type": "markdown",
   "id": "4bd48a4b",
   "metadata": {},
   "source": [
    "<br>\n",
    "\n",
    "### Maximum Likelihood\n",
    "\n",
    "<br>\n",
    "\n",
    "One approach is to find a maximum likelihood estimate (__NB:__ a frequentist approach):\n",
    "\n",
    "<br>\n",
    "\n",
    "$$\n",
    "\\hat{\\theta}_{ML} = \\arg\\max_{\\theta} p(D | \\theta)\n",
    "$$\n",
    "\n",
    "<br>\n",
    "\n",
    "\n",
    "Given $D = \\{y_{1}, \\ldots, y_{N}\\}$, the likelihood is \n",
    "\n",
    "<br>\n",
    "\n",
    "$$\n",
    "p(D | \\theta) = \\theta^{N_{1}} (1 - \\theta)^{N_{0}}\n",
    "$$\n",
    "\n",
    "<br>\n",
    "\n",
    "as shown above. To find the maximum likelihood it is sometimes easier to work with the log-likelihood function. \n",
    "\n",
    "<br>\n",
    "\n",
    "The log-likelihood function is\n",
    "\n",
    "<br>\n",
    "\n",
    "$$\n",
    "L(\\theta) = \\log{p(D | \\theta)} = N_{1} \\log{\\theta} + N_{0} \\log{1 - \\theta}\n",
    "$$\n",
    "\n",
    "<br>\n",
    "\n",
    "Solving for $\\frac{dL}{d\\theta} = 0$ yields\n",
    "\n",
    "<br>\n",
    "\n",
    "$$\n",
    "\\hat{\\theta}_{ML} = \\frac{N_{1}}{N_{1} + N_{0}} = \\frac{N_{1}}{N}\n",
    "$$\n",
    "\n",
    "<br>\n",
    "\n",
    "It can be shown (although we won't here) that this estimator has all the good properties that we desire from a frequentist estimator such as unbiasedness, consistency, and efficiency. It also has the nice feature of simplicity. \n",
    "\n",
    "<br>\n",
    "\n",
    "Suppose we flip the coin $N = 100$ times and we observe $N_{1} = 48$ heads. Then, the maximum likelihood estimator gives us:\n",
    "\n",
    "<br>\n",
    "\n",
    "$$\n",
    "\\hat{\\theta}_{ML} = \\frac{N_{1}}{N} = \\frac{48}{100} = 0.48 \n",
    "$$\n",
    "\n",
    "<br>\n",
    "\n",
    "We might simulate this in `Python` as follows:\n",
    "\n",
    "<br>\n",
    "<br>"
   ]
  },
  {
   "cell_type": "code",
   "execution_count": 2,
   "id": "2eace7ca",
   "metadata": {},
   "outputs": [
    {
     "data": {
      "text/plain": [
       "array([0, 0, 0, 1, 1, 0, 1, 0, 1, 1, 0, 1, 0, 0, 1, 0, 1, 1, 0, 1, 1, 1,\n",
       "       0, 1, 1, 1, 1, 0, 1, 0, 0, 1, 0, 0, 1, 1, 0, 1, 1, 1, 1, 0, 1, 0,\n",
       "       0, 1, 0, 1, 1, 0, 1, 0, 0, 1, 1, 1, 1, 0, 1, 1, 1, 0, 1, 0, 0, 0,\n",
       "       0, 1, 0, 0, 0, 1, 1, 1, 1, 1, 0, 0, 0, 0, 0, 1, 0, 1, 0, 1, 1, 1,\n",
       "       0, 1, 0, 1, 1, 0, 0, 0, 0, 1, 0, 0])"
      ]
     },
     "execution_count": 2,
     "metadata": {},
     "output_type": "execute_result"
    }
   ],
   "source": [
    "theta = 0.5\n",
    "N = 100\n",
    "flips = np.random.binomial(n=1, p=theta, size=N);\n",
    "flips"
   ]
  },
  {
   "cell_type": "code",
   "execution_count": 3,
   "id": "da12d9b1",
   "metadata": {},
   "outputs": [
    {
     "name": "stdout",
     "output_type": "stream",
     "text": [
      "\n",
      "The Maximum Likelihood Estimator is: \t 0.520000\n",
      "\n",
      "The Mean Squared Error is: \t\t 0.020000\n",
      "\n",
      "\n"
     ]
    }
   ],
   "source": [
    "N1 = np.sum(flips)\n",
    "theta_hat_ml = N1 / N\n",
    "print(f\"\\nThe Maximum Likelihood Estimator is: \\t{theta_hat_ml : 0.6f}\\n\")\n",
    "print(f\"The Mean Squared Error is: \\t\\t{np.sqrt((theta - theta_hat_ml)**2.0) : 0.6f}\\n\\n\")"
   ]
  },
  {
   "cell_type": "markdown",
   "id": "86d0638f",
   "metadata": {},
   "source": [
    "<br>\n",
    "\n",
    "But what happens if we flip the coin $N = 3$ times and we observe $N_{1} = 0$ heads? Then we predict that heads are impossible!\n",
    "\n",
    "<br>\n",
    "\n",
    "$$\n",
    "\\hat{\\theta}_{ML} = \\frac{N_{1}}{N} = \\frac{0}{3} = 0 \n",
    "$$\n",
    "\n",
    "<br>\n",
    "\n",
    "This is known as a ___sparse data problem___: if we fail to see something in our data sample, then we predict that it will never happen in the future. We will see how the Bayesian approach avoids this problem. \n",
    "\n",
    "<br>"
   ]
  },
  {
   "cell_type": "markdown",
   "id": "ceae071f",
   "metadata": {},
   "source": [
    "<br>\n",
    "\n",
    "### Bayesian Estimation\n",
    "\n",
    "<br>\n",
    "\n",
    "The Bayesian approach is to treat $\\theta$ as an uncertain variable and to use the rules of probability to characterize that uncertainty. In addition, we can use Bayes' Rule to update our belief about $\\theta$ having confronted the evidence $D = \\{y_{1}, \\ldots, y_{N}\\}$:\n",
    "\n",
    "<br>\n",
    "\n",
    "$$\n",
    "p(\\theta | D) = \\frac{p(D | \\theta) p(\\theta)}{\\int_{\\theta^{\\prime}} p(\\theta^{\\prime}, D)}\n",
    "$$\n",
    "\n",
    "<br>\n",
    "\n",
    "Notice that the answer to the Bayesian inference problem is an entire probability distribution that now characterizes our uncertainty regarding $\\theta$ having confronted the evidence. If we wish to have a point estimate, we can report the mean or mode of the posterior distribution. We can also look at the standard deviation of the posterior distribution to give a sense of our uncertainty. \n",
    "\n",
    "<br>\n",
    "\n",
    "Below we will detail the process of Bayesian inference for coin flipping in some detail. We will also compare it with the maximum likelihood estimator.\n",
    "\n",
    "<br>\n",
    "<br>"
   ]
  },
  {
   "cell_type": "markdown",
   "id": "f3bed1b3",
   "metadata": {},
   "source": [
    "<br>\n",
    "\n",
    "## __Bayesian Inference for Coin Flipping__\n",
    "\n",
    "<br>"
   ]
  },
  {
   "cell_type": "markdown",
   "id": "e3a5f505",
   "metadata": {},
   "source": [
    "<br>\n",
    "\n",
    "### The Likelihood Function\n",
    "\n",
    "<br>\n",
    "\n",
    "As before, we have the Binomial likelihood function:\n",
    "\n",
    "<br>\n",
    "\n",
    "$$\n",
    "p(D | \\theta) = \\theta^{N_{1}} (1 - \\theta)^{N_{0}}\n",
    "$$\n",
    "\n",
    "<br>\n",
    "\n",
    "Now that we have a good likelihood function, we turn our attention to a prior distribution that might characterize our beliefs about $\\theta$ before we observe the data. We might like to use a _Natural Conjugate Prior_ distribution. For a Binomial likelihood function, one such prior distribution is the _Beta_ distribution. \n",
    "\n",
    "<br>\n",
    "\n",
    "Let's look at the Beta distribution next.\n",
    "\n",
    "<br>\n",
    "<br>"
   ]
  },
  {
   "cell_type": "markdown",
   "id": "fa395e6c",
   "metadata": {},
   "source": [
    "<br>\n",
    "\n",
    "### The Beta Distribution\n",
    "\n",
    "<br>\n",
    "\n",
    "First of all, take a look at the Wikipedia article on the Beta distribution: <https://en.wikipedia.org/wiki/Beta_distribution>\n",
    "\n",
    "<br>\n",
    "\n",
    "The Beta distribution is expressed as follows:\n",
    "\n",
    "<br>\n",
    "\n",
    "$$\n",
    "p(\\theta) = Be(\\theta | a, b) = \\frac{1}{B(a,b)} \\theta^{(a - 1)} (1 - \\theta)^{(b - 1)}\n",
    "$$\n",
    "\n",
    "<br>\n",
    "\n",
    "for $\\theta$ in the interval $[0, 1]$ and where $B(a,b)$ is known as the _Beta Function_. See the Wikipedia article here: <https://en.wikipedia.org/wiki/Beta_function>. This is a special function with the following property:\n",
    "\n",
    "<br>\n",
    "\n",
    "$$\n",
    "B(a,b) = \\int\\limits_{0}^{1} \\theta^{(a - 1)} (1 - \\theta)^{(b - 1)} d\\theta.\n",
    "$$\n",
    "\n",
    "<br>\n",
    "\n",
    "In `Python` the Beta function is `scipy.special.beta(a, b, out=None)`, and the Beta distribution is `scipy.stats.beta = <scipy.stats._continuous_distns.beta_gen object>`.\n",
    "\n",
    "* ___Note:___ see here for documentation on the beta function: https://docs.scipy.org/doc/scipy/reference/generated/scipy.special.beta.html\n",
    "\n",
    "* ___Note:___ see here for documentation on the beta distribution: https://docs.scipy.org/doc/scipy/reference/generated/scipy.stats.beta.html\n",
    "\n",
    "<br>\n",
    "\n",
    "___Note:___ the random variable in the Beta distribution is $\\theta$, and that $a$ and $b$ are its parameters. \n",
    "\n",
    "<br>\n",
    "\n",
    "It turns out that we can express the Beta function in terms of another special function, the _Gamma Function_ (see here: <https://en.wikipedia.org/wiki/Gamma_function>).\n",
    "\n",
    "<br>\n",
    "\n",
    "The Gamma function can also be expressed as an integral:\n",
    "\n",
    "<br>\n",
    "\n",
    "$$\n",
    "\\Gamma(a) = \\int\\limits_{0}^{\\infty} t^{(a - 1)} exp(-t) dt\n",
    "$$\n",
    "\n",
    "<br>\n",
    "\n",
    "It can be shown that \n",
    "\n",
    "- $\\Gamma(a) = (a - 1)!$\n",
    "\n",
    "- $B(a,b) = \\frac{\\Gamma(a) \\Gamma(b)}{\\Gamma(a + b)}$\n",
    "\n",
    "<br>\n",
    "\n",
    "It can also be shown that:\n",
    "\n",
    "- $E(\\theta) = \\frac{a}{a + b}$\n",
    "\n",
    "<br>\n",
    "\n",
    "The Beta distribution can generate many different shapes. Let's look at some below using some `Python` code.\n",
    "\n",
    "<br>\n",
    "\n",
    "Let's start off with the case when $a = b = 1$\n",
    "\n",
    "<br>\n",
    "<br>"
   ]
  },
  {
   "cell_type": "code",
   "execution_count": 4,
   "id": "72a8217f",
   "metadata": {},
   "outputs": [],
   "source": [
    "## Helper function to plot Beta priors\n",
    "def plot_beta_prior(a=1, b=1):\n",
    "    x = np.linspace(0, 1, 1000)\n",
    "    y = stats.beta.pdf(x, a, b)\n",
    "    plt.plot(x, y, lw = 2.0, color='darkblue', alpha=0.8)\n",
    "    plt.fill_between(x, y, facecolor='orange', alpha=0.5)\n",
    "    plt.title(f\"Beta({a},{b}) Prior Distribution\")\n",
    "    plt.show()"
   ]
  },
  {
   "cell_type": "code",
   "execution_count": 6,
   "id": "b2a278fe",
   "metadata": {},
   "outputs": [
    {
     "data": {
      "image/png": "[encoded data removed]",
      "text/plain": [
       "<Figure size 720x360 with 1 Axes>"
      ]
     },
     "metadata": {},
     "output_type": "display_data"
    }
   ],
   "source": [
    "## Plot a Uniform(0, 1) which is a special case of the Beta\n",
    "## Uniform(0, 1) = Beta(a=1, b=1)\n",
    "\n",
    "plot_beta_prior(3, 3)"
   ]
  },
  {
   "cell_type": "markdown",
   "id": "c8b19d55",
   "metadata": {},
   "source": [
    "<br>\n",
    "\n",
    "This turns out to be a special case of the Beta distribution known as the ___uniform distribution___ (see here: <https://en.wikipedia.org/wiki/Uniform_distribution_(continuous)>). It's called the Uniform distribution because it treats each value in the interval $[0,1]$ uniformly. That is, each value in $[0,1]$ is equally likely. Sometimes this form of the Beta prior is used to characterize complete ignorance (e.g. \"I don't know, so I'll treat every value as equally likely.\").\n",
    "\n",
    "<br>\n",
    "<br>\n",
    "\n",
    "Next let's look at the case when $a = b = 2$.\n",
    "\n",
    "<br>"
   ]
  },
  {
   "cell_type": "code",
   "execution_count": null,
   "id": "f2e9b91c",
   "metadata": {},
   "outputs": [],
   "source": [
    "plot_beta_prior(a=2, b=2)"
   ]
  },
  {
   "cell_type": "markdown",
   "id": "3a28780b",
   "metadata": {},
   "source": [
    "<br>\n",
    "\n",
    "Here the distribution is centered around the value $\\theta = 0.5$, but it is quite diffuse - expressing quite a bit of uncertainty. \n",
    "\n",
    "<br>\n",
    "<br>\n",
    "\n",
    "Let's look at a case when we are just a bit more certain: $a = b = 4$.\n",
    "\n",
    "<br>"
   ]
  },
  {
   "cell_type": "code",
   "execution_count": null,
   "id": "3a4a3563",
   "metadata": {},
   "outputs": [],
   "source": [
    "plot_beta_prior(a=4, b=4)"
   ]
  },
  {
   "cell_type": "markdown",
   "id": "98e73818",
   "metadata": {},
   "source": [
    "<br>\n",
    "\n",
    "And even a little bit more certain: $a = b = 8$\n",
    "\n",
    "<br>"
   ]
  },
  {
   "cell_type": "code",
   "execution_count": null,
   "id": "475fb28c",
   "metadata": {},
   "outputs": [],
   "source": [
    "plot_beta_prior(a=8, b=8)"
   ]
  },
  {
   "cell_type": "markdown",
   "id": "880ad8dc",
   "metadata": {},
   "source": [
    "<br>\n",
    "\n",
    "We can continue this process: $a = b = 16$\n",
    "\n",
    "<br>"
   ]
  },
  {
   "cell_type": "code",
   "execution_count": null,
   "id": "72ac5f52",
   "metadata": {},
   "outputs": [],
   "source": [
    "plot_beta_prior(a=100, b=100)"
   ]
  },
  {
   "cell_type": "markdown",
   "id": "0165e4f8",
   "metadata": {},
   "source": [
    "<br>\n",
    "\n",
    "___Note:___ play with these plots and generate your own!\n",
    "\n",
    "We can also have a situation that is not symetric about center: $a = 2$ and $b = 4$\n",
    "\n",
    "<br>"
   ]
  },
  {
   "cell_type": "code",
   "execution_count": null,
   "id": "f3f5ee78",
   "metadata": {},
   "outputs": [],
   "source": [
    "plot_beta_prior(a=2, b=4)"
   ]
  },
  {
   "cell_type": "markdown",
   "id": "741e1e4c",
   "metadata": {},
   "source": [
    "<br>\n",
    "\n",
    "And the other way too!\n",
    "\n",
    "<br>"
   ]
  },
  {
   "cell_type": "code",
   "execution_count": null,
   "id": "3fc0ca20",
   "metadata": {},
   "outputs": [],
   "source": [
    "plot_beta_prior(a=4, b=2)"
   ]
  },
  {
   "cell_type": "markdown",
   "id": "e0dc78f5",
   "metadata": {},
   "source": [
    "<br>\n",
    "\n",
    "We can even get some funkier shapes like this: $a = b = 0.5$\n",
    "\n",
    "<br>"
   ]
  },
  {
   "cell_type": "code",
   "execution_count": null,
   "id": "0267eb45",
   "metadata": {},
   "outputs": [],
   "source": []
  },
  {
   "cell_type": "code",
   "execution_count": null,
   "id": "894c6934",
   "metadata": {},
   "outputs": [],
   "source": [
    "plot_beta_prior(a=0.5, b=0.5)"
   ]
  },
  {
   "cell_type": "markdown",
   "id": "97d013f9",
   "metadata": {},
   "source": [
    "<br>\n",
    "\n",
    "We can see that the Beta distribution is quite flexible and can express quite a number of different prior beliefs about $\\theta$ depending on the chosen hyperparameters $a$ and $b$.\n",
    "\n",
    "One way of eliciting a prior belief about $theta$ is think about having witnessed some _virtual_ flips of the coin. For example, we might expect that it is a fair coin, so that the distribution ought to be centered around $0.5$. We might parameterize this with the variable $m$, thinking of $m$ as the mean proportion of heads in our virtual experiment:\n",
    "\n",
    "$$\n",
    "m = \\frac{a}{(a + b)}\n",
    "$$\n",
    "\n",
    "Further, we might think of the variable $n = a + b$ as our virtual number of flips, and $a$ as the virtual number of heads and $b$ as the virtual number of tails. As $n$ gets larger we are expressing greater and greater confidence. However, if $n$ is small, say $n = 4$, then we might not be so confident (i.e. we are imagining only having witnessed 4 flips - it wouldn't take too much data to convince us that we are wrong). \n",
    "\n",
    "Solving these two equations gives us:\n",
    "\n",
    "$$\n",
    "\\begin{aligned}\n",
    "a &= m \\times n \\\\\n",
    "b &= (1 - m) \\times n\n",
    "\\end{aligned}\n",
    "$$\n",
    "\n",
    "<br>"
   ]
  },
  {
   "cell_type": "markdown",
   "id": "f933be36",
   "metadata": {},
   "source": [
    "<br>\n",
    "\n",
    "### The Posterior Distribution\n",
    "\n",
    "<br>\n",
    "\n",
    "Now we have the likelihood function and a natural conjugate prior. Let's use Bayes' Rule to derive the posterior distribution. \n",
    "\n",
    "<br>\n",
    "\n",
    "$$\n",
    "\\begin{aligned}\n",
    "p(\\theta | D) & \\propto p(D | \\theta) \\times p(\\theta) \\\\\n",
    "              & \\propto [\\theta^{N_{1}} (1 - \\theta)^{N_{0}}][\\theta^{(a - b)}(1 - \\theta)^{(b - 1)}] \\\\\n",
    "              & = \\theta^{N_{1} + a - 1} (1 - \\theta)^{N_{0} + b - 1}\n",
    "\\end{aligned}\n",
    "$$\n",
    "\n",
    "<br>\n",
    "\n",
    "___Note:___ this is a $Beta(\\theta  |  N_{1} + a, N_{0} + b)$ distribution, which demonstrates that it is conjugate (i.e. of the same form as the prior).\n",
    "\n",
    "<br>"
   ]
  },
  {
   "cell_type": "markdown",
   "id": "e753383f",
   "metadata": {},
   "source": [
    "<br>\n",
    "\n",
    "## Applying the Model to Coin Flipping\n",
    "\n",
    "<br>\n",
    "\n",
    "We can now use this model to revise our beliefs as the data arrive (i.e. after each coin flip). This is called sequential analysis, and note that the Bayesian paradigm lends itself quite naturally to this kind of _on-line_ analysis due to the process of Bayesian updating. Whereas, in the frequentist case we have to precommit ourselves to conducting a study to flip the coin $N$ times, and then count the number of heads. \n",
    "\n",
    "<br>\n",
    "\n",
    "Let's look at an example. Suppose you start with the belief that $a = b = 2$. Then you observe the first flip $y = 1$ (a heads) to get $Beta(\\theta | 3, 2)$, so the mean shifts from $E(\\theta) = 2/4$ to $E(\\theta | D) = 3/5$. We see that the hyperparameters $a$ and $b$ do in fact act like \"pseudo counts\" and correspond to \"virutal\" heads or tails. We might call $n = a + b$ the effective sample size (it plays a role analogous to $N = N_{1} + N_{0}$). \n",
    "\n",
    "<br>\n",
    "\n",
    "Let's simulate the process and see how our beliefs are updated with each flip.\n",
    "\n",
    "\n",
    "<br>"
   ]
  },
  {
   "cell_type": "code",
   "execution_count": null,
   "id": "d0ec27a3",
   "metadata": {},
   "outputs": [],
   "source": [
    "a = 2 # virtual heads\n",
    "b = 2 # virtual tails"
   ]
  },
  {
   "cell_type": "code",
   "execution_count": null,
   "id": "2823bbe7",
   "metadata": {},
   "outputs": [],
   "source": [
    "plot_beta_prior(a=a,b=b)"
   ]
  },
  {
   "cell_type": "code",
   "execution_count": null,
   "id": "7f168481",
   "metadata": {},
   "outputs": [],
   "source": [
    "## Set the \"true\" probability\n",
    "theta = 0.5 ## i.e. a fair coin\n",
    "\n",
    "## Simulate a single flip of the coin\n",
    "flip = np.random.binomial(n=1,p=theta,size=1)\n",
    "\n",
    "\n",
    "## Set up counting variables\n",
    "N1 = 0\n",
    "N0 = 0"
   ]
  },
  {
   "cell_type": "code",
   "execution_count": null,
   "id": "040c4bb8",
   "metadata": {},
   "outputs": [],
   "source": [
    "## Update the prior to get the posterior using Bayes' Rule\n",
    "N1 += flip[0]\n",
    "N0 += 1 - flip[0]\n",
    "a_post = N1 + a\n",
    "b_post = N0 + b"
   ]
  },
  {
   "cell_type": "code",
   "execution_count": null,
   "id": "336a4261",
   "metadata": {},
   "outputs": [],
   "source": [
    "plot_beta_prior(a=a_post,b=b_post)"
   ]
  },
  {
   "cell_type": "code",
   "execution_count": null,
   "id": "70bd69fe",
   "metadata": {},
   "outputs": [],
   "source": [
    "## Use the recent posterior as the new prior and repeat the process\n",
    "a = a_post\n",
    "b = b_post\n",
    "flip = np.random.binomial(n=1,p=theta,size=1)"
   ]
  },
  {
   "cell_type": "code",
   "execution_count": null,
   "id": "5103dc78",
   "metadata": {},
   "outputs": [],
   "source": [
    "## Update the prior to get the posterior using Bayes' Rule\n",
    "N1 += flip[0]\n",
    "N0 += 1 - flip[0]\n",
    "a_post = N1 + a\n",
    "b_post = N0 + b"
   ]
  },
  {
   "cell_type": "code",
   "execution_count": null,
   "id": "d6c6b711",
   "metadata": {},
   "outputs": [],
   "source": [
    "plot_beta_prior(a=a_post,b=b_post)"
   ]
  },
  {
   "cell_type": "markdown",
   "id": "67316def",
   "metadata": {},
   "source": [
    "<br>\n",
    "\n",
    "And so on, and so on. \n",
    "\n",
    "<br>\n",
    "\n",
    "Here is a question to think about: _if we are flipping a biased coin (say $\\theta = 0.45$), which analyst will discover it first? The Bayesian, or the Frequentist?_\n",
    "\n",
    "We will discuss this example again later and show the comparison.\n",
    "\n",
    "\n",
    "Here is another question to think about: _if two Bayesians start with different prior beliefs (say the first with $B(\\theta | 1, 1)$ and the second with $B(\\theta | 8, 8)$) how long will it take them to converge in their beliefs?_ _Will they for sure converge?_\n",
    "\n",
    "Again, we can talk about this some more later. \n",
    "\n",
    "One final note. The Bayesian does not have to proceed sequentially. He can process a batch of data all at once. Let's see this case, again starting with the prior $B(\\theta | 2, 2)$.\n",
    "\n",
    "<br>"
   ]
  },
  {
   "cell_type": "code",
   "execution_count": null,
   "id": "ef6e523a",
   "metadata": {},
   "outputs": [],
   "source": [
    "## Set the prior\n",
    "a, b = 2, 2"
   ]
  },
  {
   "cell_type": "code",
   "execution_count": null,
   "id": "c20cd9cd",
   "metadata": {},
   "outputs": [],
   "source": [
    "## Set true theta\n",
    "theta = 0.5"
   ]
  },
  {
   "cell_type": "code",
   "execution_count": null,
   "id": "ae2f1ab5",
   "metadata": {},
   "outputs": [],
   "source": [
    "## The number of coin flips\n",
    "M = 10000  \n",
    "\n",
    "## Simulate flipping the coin M times\n",
    "flips = np.random.binomial(n=1, p=theta, size=M)"
   ]
  },
  {
   "cell_type": "code",
   "execution_count": null,
   "id": "6c9927fa",
   "metadata": {},
   "outputs": [],
   "source": [
    "## The update step\n",
    "N1 = np.sum(flips)\n",
    "N0 = M - N1\n",
    "a_post = N1 + a\n",
    "b_post = N0 + b"
   ]
  },
  {
   "cell_type": "code",
   "execution_count": null,
   "id": "e8f5b05d",
   "metadata": {},
   "outputs": [],
   "source": [
    "plot_beta_prior(a=a_post, b=b_post)"
   ]
  },
  {
   "cell_type": "code",
   "execution_count": null,
   "id": "8f859ace",
   "metadata": {},
   "outputs": [],
   "source": [
    "posterior_mean = a_post / (a_post + b_post)\n",
    "print(f\"\\nThe posterior mean is: {posterior_mean : 0.4f}\\n\")"
   ]
  },
  {
   "cell_type": "code",
   "execution_count": null,
   "id": "a524066e",
   "metadata": {},
   "outputs": [],
   "source": [
    "np.isclose(posterior_mean, theta)"
   ]
  },
  {
   "cell_type": "code",
   "execution_count": null,
   "id": "d5c640ca",
   "metadata": {},
   "outputs": [],
   "source": [
    "print(f\"\\nThe MSE: {np.sqrt((theta - posterior_mean)**2.0) : 0.6f}\\n\")"
   ]
  },
  {
   "cell_type": "markdown",
   "id": "e3bc1a2e",
   "metadata": {},
   "source": [
    "<br>\n",
    "\n",
    "__Note:__ with $N = 10000$ flips we become pretty certain after seeing the data. \n",
    "\n",
    "Also, if we are dealing with a biased coin we will also learn that. Say the true probability of heads is $\\theta = 0.65$ and that we flip the coin $N = 100$ times. \n",
    "\n",
    "<br>"
   ]
  },
  {
   "cell_type": "code",
   "execution_count": null,
   "id": "e182665c",
   "metadata": {},
   "outputs": [],
   "source": [
    "## Set the prior\n",
    "a, b = 2, 10"
   ]
  },
  {
   "cell_type": "code",
   "execution_count": null,
   "id": "8062f4df",
   "metadata": {},
   "outputs": [],
   "source": [
    "## Set true theta\n",
    "theta = 0.8"
   ]
  },
  {
   "cell_type": "code",
   "execution_count": null,
   "id": "f5df548c",
   "metadata": {},
   "outputs": [],
   "source": [
    "## The number of coin flips\n",
    "M = 1000\n",
    "\n",
    "## Simulate flipping the coin M times\n",
    "flips = np.random.binomial(n=1, p=theta, size=M)"
   ]
  },
  {
   "cell_type": "code",
   "execution_count": null,
   "id": "f0c653bd",
   "metadata": {},
   "outputs": [],
   "source": [
    "## The update step\n",
    "N1 = np.sum(flips)\n",
    "N0 = M - N1\n",
    "a_post = N1 + a\n",
    "b_post = N0 + b"
   ]
  },
  {
   "cell_type": "code",
   "execution_count": null,
   "id": "e9150168",
   "metadata": {},
   "outputs": [],
   "source": [
    "plot_beta_prior(a=a_post, b=b_post)"
   ]
  },
  {
   "cell_type": "code",
   "execution_count": null,
   "id": "e2786dac",
   "metadata": {},
   "outputs": [],
   "source": [
    "posterior_mean = a_post / (a_post + b_post)\n",
    "print(f\"\\nThe posterior mean is: {posterior_mean : 0.4f}\\n\")"
   ]
  },
  {
   "cell_type": "code",
   "execution_count": null,
   "id": "d732e01f",
   "metadata": {},
   "outputs": [],
   "source": [
    "np.isclose(posterior_mean, theta)"
   ]
  },
  {
   "cell_type": "code",
   "execution_count": null,
   "id": "e5318454",
   "metadata": {},
   "outputs": [],
   "source": [
    "print(f\"\\nThe MSE: {np.sqrt((theta - posterior_mean)**2.0) : 0.6f}\\n\")"
   ]
  },
  {
   "cell_type": "code",
   "execution_count": null,
   "id": "471e8581",
   "metadata": {},
   "outputs": [],
   "source": []
  }
 ],
 "metadata": {
  "kernelspec": {
   "display_name": "Python 3",
   "language": "python",
   "name": "python3"
  },
  "language_info": {
   "codemirror_mode": {
    "name": "ipython",
    "version": 3
   },
   "file_extension": ".py",
   "mimetype": "text/x-python",
   "name": "python",
   "nbconvert_exporter": "python",
   "pygments_lexer": "ipython3",
   "version": "3.8.11"
  }
 },
 "nbformat": 4,
 "nbformat_minor": 5
}
