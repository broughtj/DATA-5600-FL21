{
 "cells": [
  {
   "cell_type": "code",
   "execution_count": 1,
   "id": "69f2d0d4",
   "metadata": {},
   "outputs": [],
   "source": [
    "import numpy as np\n",
    "import pandas as pd\n",
    "import matplotlib.pyplot as plt\n",
    "from scipy import stats\n",
    "import statsmodels.api as sm"
   ]
  },
  {
   "cell_type": "code",
   "execution_count": 2,
   "id": "4b647a6c",
   "metadata": {},
   "outputs": [],
   "source": [
    "raw_data = pd.read_excel(\"HPRICE.XLS\")"
   ]
  },
  {
   "cell_type": "code",
   "execution_count": 3,
   "id": "30d97b0f",
   "metadata": {},
   "outputs": [
    {
     "data": {
      "text/html": [
       "<div>\n",
       "<style scoped>\n",
       "    .dataframe tbody tr th:only-of-type {\n",
       "        vertical-align: middle;\n",
       "    }\n",
       "\n",
       "    .dataframe tbody tr th {\n",
       "        vertical-align: top;\n",
       "    }\n",
       "\n",
       "    .dataframe thead th {\n",
       "        text-align: right;\n",
       "    }\n",
       "</style>\n",
       "<table border=\"1\" class=\"dataframe\">\n",
       "  <thead>\n",
       "    <tr style=\"text-align: right;\">\n",
       "      <th></th>\n",
       "      <th>sale price</th>\n",
       "      <th>lot size</th>\n",
       "      <th>#bedroom</th>\n",
       "      <th>#bath</th>\n",
       "      <th>#stories</th>\n",
       "      <th>driveway</th>\n",
       "      <th>rec room</th>\n",
       "      <th>basement</th>\n",
       "      <th>gas</th>\n",
       "      <th>air cond</th>\n",
       "      <th>#garage</th>\n",
       "      <th>desire loc</th>\n",
       "    </tr>\n",
       "  </thead>\n",
       "  <tbody>\n",
       "    <tr>\n",
       "      <th>0</th>\n",
       "      <td>42000</td>\n",
       "      <td>5850</td>\n",
       "      <td>3</td>\n",
       "      <td>1</td>\n",
       "      <td>2</td>\n",
       "      <td>1</td>\n",
       "      <td>0</td>\n",
       "      <td>1</td>\n",
       "      <td>0</td>\n",
       "      <td>0</td>\n",
       "      <td>1</td>\n",
       "      <td>0</td>\n",
       "    </tr>\n",
       "    <tr>\n",
       "      <th>1</th>\n",
       "      <td>38500</td>\n",
       "      <td>4000</td>\n",
       "      <td>2</td>\n",
       "      <td>1</td>\n",
       "      <td>1</td>\n",
       "      <td>1</td>\n",
       "      <td>0</td>\n",
       "      <td>0</td>\n",
       "      <td>0</td>\n",
       "      <td>0</td>\n",
       "      <td>0</td>\n",
       "      <td>0</td>\n",
       "    </tr>\n",
       "    <tr>\n",
       "      <th>2</th>\n",
       "      <td>49500</td>\n",
       "      <td>3060</td>\n",
       "      <td>3</td>\n",
       "      <td>1</td>\n",
       "      <td>1</td>\n",
       "      <td>1</td>\n",
       "      <td>0</td>\n",
       "      <td>0</td>\n",
       "      <td>0</td>\n",
       "      <td>0</td>\n",
       "      <td>0</td>\n",
       "      <td>0</td>\n",
       "    </tr>\n",
       "    <tr>\n",
       "      <th>3</th>\n",
       "      <td>60500</td>\n",
       "      <td>6650</td>\n",
       "      <td>3</td>\n",
       "      <td>1</td>\n",
       "      <td>2</td>\n",
       "      <td>1</td>\n",
       "      <td>1</td>\n",
       "      <td>0</td>\n",
       "      <td>0</td>\n",
       "      <td>0</td>\n",
       "      <td>0</td>\n",
       "      <td>0</td>\n",
       "    </tr>\n",
       "    <tr>\n",
       "      <th>4</th>\n",
       "      <td>61000</td>\n",
       "      <td>6360</td>\n",
       "      <td>2</td>\n",
       "      <td>1</td>\n",
       "      <td>1</td>\n",
       "      <td>1</td>\n",
       "      <td>0</td>\n",
       "      <td>0</td>\n",
       "      <td>0</td>\n",
       "      <td>0</td>\n",
       "      <td>0</td>\n",
       "      <td>0</td>\n",
       "    </tr>\n",
       "  </tbody>\n",
       "</table>\n",
       "</div>"
      ],
      "text/plain": [
       "   sale price  lot size  #bedroom  #bath  #stories  driveway  rec room  \\\n",
       "0       42000      5850         3      1         2         1         0   \n",
       "1       38500      4000         2      1         1         1         0   \n",
       "2       49500      3060         3      1         1         1         0   \n",
       "3       60500      6650         3      1         2         1         1   \n",
       "4       61000      6360         2      1         1         1         0   \n",
       "\n",
       "   basement  gas  air cond  #garage  desire loc  \n",
       "0         1    0         0        1           0  \n",
       "1         0    0         0        0           0  \n",
       "2         0    0         0        0           0  \n",
       "3         0    0         0        0           0  \n",
       "4         0    0         0        0           0  "
      ]
     },
     "execution_count": 3,
     "metadata": {},
     "output_type": "execute_result"
    }
   ],
   "source": [
    "raw_data.head()"
   ]
  },
  {
   "cell_type": "code",
   "execution_count": 4,
   "id": "4dcc52a1",
   "metadata": {},
   "outputs": [],
   "source": [
    "y = raw_data['sale price']\n",
    "n = len(y)\n",
    "x0 = np.zeros_like(y)\n",
    "x1 = raw_data['lot size']\n",
    "x2 = raw_data['#bedroom']\n",
    "X = np.ones((n,3))\n",
    "X[:,1] = x1\n",
    "X[:,2] = x2"
   ]
  },
  {
   "cell_type": "code",
   "execution_count": 5,
   "id": "66466396",
   "metadata": {},
   "outputs": [],
   "source": [
    "\n",
    "B = 10_000\n",
    "beta0_b = np.zeros(B)\n",
    "beta1_b = np.zeros(B)\n",
    "beta2_b = np.zeros(B)"
   ]
  },
  {
   "cell_type": "markdown",
   "id": "16b38e95",
   "metadata": {},
   "source": [
    "## Nonparametric Bootstrap for Multiple Regression"
   ]
  },
  {
   "cell_type": "code",
   "execution_count": 6,
   "id": "0580e825",
   "metadata": {},
   "outputs": [],
   "source": [
    "for b in range(B):\n",
    "    ii = np.random.randint(0, n-1, size=n)\n",
    "    X_star = np.ones((n,3))\n",
    "    y_star = y[ii]\n",
    "    X_star[:,1] = x1[ii]\n",
    "    X_star[:,2] = x2[ii]\n",
    "    results = sm.OLS(y_star,X_star).fit()\n",
    "    beta0_b[b] = results.params[0]\n",
    "    beta1_b[b] = results.params[1]\n",
    "    beta2_b[b] = results.params[2]\n",
    "    "
   ]
  },
  {
   "cell_type": "code",
   "execution_count": 7,
   "id": "23ccc45a",
   "metadata": {},
   "outputs": [
    {
     "data": {
      "image/png": "[encoded data removed]",
      "text/plain": [
       "<Figure size 432x288 with 1 Axes>"
      ]
     },
     "metadata": {
      "needs_background": "light"
     },
     "output_type": "display_data"
    }
   ],
   "source": [
    "plt.hist(beta2_b, bins=100);"
   ]
  },
  {
   "cell_type": "markdown",
   "id": "c513d140",
   "metadata": {},
   "source": [
    "## Parametric Bootstrap for Regression"
   ]
  },
  {
   "cell_type": "code",
   "execution_count": 9,
   "id": "b8d54757",
   "metadata": {},
   "outputs": [],
   "source": [
    "results = sm.OLS(y,X).fit()"
   ]
  },
  {
   "cell_type": "code",
   "execution_count": 10,
   "id": "ceb81d19",
   "metadata": {},
   "outputs": [
    {
     "name": "stdout",
     "output_type": "stream",
     "text": [
      "                            OLS Regression Results                            \n",
      "==============================================================================\n",
      "Dep. Variable:             sale price   R-squared:                       0.370\n",
      "Model:                            OLS   Adj. R-squared:                  0.368\n",
      "Method:                 Least Squares   F-statistic:                     159.6\n",
      "Date:                Mon, 13 Dec 2021   Prob (F-statistic):           2.95e-55\n",
      "Time:                        19:43:48   Log-Likelihood:                -6213.1\n",
      "No. Observations:                 546   AIC:                         1.243e+04\n",
      "Df Residuals:                     543   BIC:                         1.245e+04\n",
      "Df Model:                           2                                         \n",
      "Covariance Type:            nonrobust                                         \n",
      "==============================================================================\n",
      "                 coef    std err          t      P>|t|      [0.025      0.975]\n",
      "------------------------------------------------------------------------------\n",
      "const       5612.5997   4102.819      1.368      0.172   -2446.741    1.37e+04\n",
      "x1             6.0530      0.424     14.265      0.000       5.219       6.887\n",
      "x2          1.057e+04   1247.676      8.470      0.000    8116.488     1.3e+04\n",
      "==============================================================================\n",
      "Omnibus:                       77.789   Durbin-Watson:                   1.193\n",
      "Prob(Omnibus):                  0.000   Jarque-Bera (JB):              146.854\n",
      "Skew:                           0.833   Prob(JB):                     1.29e-32\n",
      "Kurtosis:                       4.919   Cond. No.                     2.60e+04\n",
      "==============================================================================\n",
      "\n",
      "Notes:\n",
      "[1] Standard Errors assume that the covariance matrix of the errors is correctly specified.\n",
      "[2] The condition number is large, 2.6e+04. This might indicate that there are\n",
      "strong multicollinearity or other numerical problems.\n"
     ]
    }
   ],
   "source": [
    "print(results.summary())"
   ]
  },
  {
   "cell_type": "code",
   "execution_count": 13,
   "id": "69c02aac",
   "metadata": {},
   "outputs": [],
   "source": [
    "beta0_hat = results.params[0]\n",
    "beta1_hat = results.params[1]\n",
    "beta2_hat = results.params[2]\n",
    "resids = results.resid"
   ]
  },
  {
   "cell_type": "code",
   "execution_count": 16,
   "id": "0594654c",
   "metadata": {},
   "outputs": [],
   "source": [
    "beta0_b2 = np.zeros(B)\n",
    "beta1_b2 = np.zeros(B)\n",
    "beta2_b2 = np.zeros(B)"
   ]
  },
  {
   "cell_type": "code",
   "execution_count": 17,
   "id": "763cad1c",
   "metadata": {},
   "outputs": [],
   "source": [
    "for b in range(B):\n",
    "    u = np.random.choice(resids, size=n, replace=True)\n",
    "    y_star = beta0_hat + beta1_hat * x1 + beta2_hat * x2 + u\n",
    "    results_b = sm.OLS(y_star, X).fit()\n",
    "    beta0_b2[b] = results_b.params[0]\n",
    "    beta1_b2[b] = results_b.params[1]\n",
    "    beta2_b2[b] = results_b.params[2]"
   ]
  },
  {
   "cell_type": "code",
   "execution_count": 18,
   "id": "52b54f14",
   "metadata": {},
   "outputs": [
    {
     "data": {
      "image/png": "[encoded data removed]",
      "text/plain": [
       "<Figure size 432x288 with 1 Axes>"
      ]
     },
     "metadata": {
      "needs_background": "light"
     },
     "output_type": "display_data"
    }
   ],
   "source": [
    "plt.hist(beta0_b2, bins=100);"
   ]
  },
  {
   "cell_type": "code",
   "execution_count": 19,
   "id": "ddbfffc7",
   "metadata": {},
   "outputs": [
    {
     "data": {
      "image/png": "[encoded data removed]",
      "text/plain": [
       "<Figure size 432x288 with 1 Axes>"
      ]
     },
     "metadata": {
      "needs_background": "light"
     },
     "output_type": "display_data"
    }
   ],
   "source": [
    "plt.hist(beta1_b2, bins=100);"
   ]
  },
  {
   "cell_type": "code",
   "execution_count": 20,
   "id": "f3c585a7",
   "metadata": {},
   "outputs": [
    {
     "data": {
      "image/png": "[encoded data removed]",
      "text/plain": [
       "<Figure size 432x288 with 1 Axes>"
      ]
     },
     "metadata": {
      "needs_background": "light"
     },
     "output_type": "display_data"
    }
   ],
   "source": [
    "plt.hist(beta2_b2, bins=100);"
   ]
  },
  {
   "cell_type": "code",
   "execution_count": null,
   "id": "4690647a",
   "metadata": {},
   "outputs": [],
   "source": []
  }
 ],
 "metadata": {
  "kernelspec": {
   "display_name": "Python 3",
   "language": "python",
   "name": "python3"
  },
  "language_info": {
   "codemirror_mode": {
    "name": "ipython",
    "version": 3
   },
   "file_extension": ".py",
   "mimetype": "text/x-python",
   "name": "python",
   "nbconvert_exporter": "python",
   "pygments_lexer": "ipython3",
   "version": "3.8.11"
  }
 },
 "nbformat": 4,
 "nbformat_minor": 5
}
